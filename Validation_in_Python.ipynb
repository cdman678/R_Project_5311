{
 "cells": [
  {
   "cell_type": "markdown",
   "metadata": {},
   "source": [
    "# Intro: Combine, Validate, and Calculate Accuracy\n",
    "    Step 1: Validate and combine the 3 master files \n",
    "    \n",
    "    Step 2: Calculate Accuracy for predictions and for drafts (will require simulations)"
   ]
  },
  {
   "cell_type": "code",
   "execution_count": 1,
   "metadata": {
    "ExecuteTime": {
     "end_time": "2020-11-29T01:57:47.085230Z",
     "start_time": "2020-11-29T01:57:46.822745Z"
    }
   },
   "outputs": [],
   "source": [
    "import pandas as pd\n",
    "import numpy as np"
   ]
  },
  {
   "cell_type": "markdown",
   "metadata": {},
   "source": [
    "# Combine "
   ]
  },
  {
   "cell_type": "markdown",
   "metadata": {},
   "source": [
    "### Load Data"
   ]
  },
  {
   "cell_type": "code",
   "execution_count": 2,
   "metadata": {
    "ExecuteTime": {
     "end_time": "2020-11-29T01:57:47.097942Z",
     "start_time": "2020-11-29T01:57:47.087167Z"
    }
   },
   "outputs": [],
   "source": [
    "df_1 = pd.read_csv('Master_Caleb.csv')"
   ]
  },
  {
   "cell_type": "code",
   "execution_count": 3,
   "metadata": {
    "ExecuteTime": {
     "end_time": "2020-11-29T01:57:47.116832Z",
     "start_time": "2020-11-29T01:57:47.099592Z"
    }
   },
   "outputs": [
    {
     "data": {
      "text/html": [
       "<div>\n",
       "<style scoped>\n",
       "    .dataframe tbody tr th:only-of-type {\n",
       "        vertical-align: middle;\n",
       "    }\n",
       "\n",
       "    .dataframe tbody tr th {\n",
       "        vertical-align: top;\n",
       "    }\n",
       "\n",
       "    .dataframe thead th {\n",
       "        text-align: right;\n",
       "    }\n",
       "</style>\n",
       "<table border=\"1\" class=\"dataframe\">\n",
       "  <thead>\n",
       "    <tr style=\"text-align: right;\">\n",
       "      <th></th>\n",
       "      <th>Unnamed: 0</th>\n",
       "      <th>Player</th>\n",
       "      <th>Position</th>\n",
       "      <th>Team</th>\n",
       "      <th>Date</th>\n",
       "      <th>Opp</th>\n",
       "      <th>Fantasy_Score</th>\n",
       "      <th>predictions_2019</th>\n",
       "    </tr>\n",
       "  </thead>\n",
       "  <tbody>\n",
       "    <tr>\n",
       "      <th>0</th>\n",
       "      <td>2</td>\n",
       "      <td>Allen</td>\n",
       "      <td>C</td>\n",
       "      <td>Brooklyn Nets</td>\n",
       "      <td>2018-10-19</td>\n",
       "      <td>NYK</td>\n",
       "      <td>15</td>\n",
       "      <td>8.693321</td>\n",
       "    </tr>\n",
       "  </tbody>\n",
       "</table>\n",
       "</div>"
      ],
      "text/plain": [
       "   Unnamed: 0 Player Position           Team        Date  Opp  Fantasy_Score  \\\n",
       "0           2  Allen        C  Brooklyn Nets  2018-10-19  NYK             15   \n",
       "\n",
       "   predictions_2019  \n",
       "0          8.693321  "
      ]
     },
     "execution_count": 3,
     "metadata": {},
     "output_type": "execute_result"
    }
   ],
   "source": [
    "df_1.head(1)"
   ]
  },
  {
   "cell_type": "code",
   "execution_count": 4,
   "metadata": {
    "ExecuteTime": {
     "end_time": "2020-11-29T01:57:47.130050Z",
     "start_time": "2020-11-29T01:57:47.118422Z"
    }
   },
   "outputs": [],
   "source": [
    "df_2 = pd.read_csv('Master_Dhruv.csv')"
   ]
  },
  {
   "cell_type": "code",
   "execution_count": 5,
   "metadata": {
    "ExecuteTime": {
     "end_time": "2020-11-29T01:57:47.145313Z",
     "start_time": "2020-11-29T01:57:47.131406Z"
    }
   },
   "outputs": [
    {
     "data": {
      "text/html": [
       "<div>\n",
       "<style scoped>\n",
       "    .dataframe tbody tr th:only-of-type {\n",
       "        vertical-align: middle;\n",
       "    }\n",
       "\n",
       "    .dataframe tbody tr th {\n",
       "        vertical-align: top;\n",
       "    }\n",
       "\n",
       "    .dataframe thead th {\n",
       "        text-align: right;\n",
       "    }\n",
       "</style>\n",
       "<table border=\"1\" class=\"dataframe\">\n",
       "  <thead>\n",
       "    <tr style=\"text-align: right;\">\n",
       "      <th></th>\n",
       "      <th>Unnamed: 0</th>\n",
       "      <th>Player</th>\n",
       "      <th>Team</th>\n",
       "      <th>Position</th>\n",
       "      <th>Date</th>\n",
       "      <th>Opp</th>\n",
       "      <th>Fantasy_Score</th>\n",
       "      <th>predictions_2019</th>\n",
       "    </tr>\n",
       "  </thead>\n",
       "  <tbody>\n",
       "    <tr>\n",
       "      <th>0</th>\n",
       "      <td>2</td>\n",
       "      <td>Al-Farouq Aminu</td>\n",
       "      <td>Portland Trail Blazers</td>\n",
       "      <td>F</td>\n",
       "      <td>20/10/2018</td>\n",
       "      <td>SAS</td>\n",
       "      <td>14</td>\n",
       "      <td>12.650065</td>\n",
       "    </tr>\n",
       "  </tbody>\n",
       "</table>\n",
       "</div>"
      ],
      "text/plain": [
       "   Unnamed: 0           Player                    Team Position        Date  \\\n",
       "0           2  Al-Farouq Aminu  Portland Trail Blazers        F  20/10/2018   \n",
       "\n",
       "   Opp  Fantasy_Score  predictions_2019  \n",
       "0  SAS             14         12.650065  "
      ]
     },
     "execution_count": 5,
     "metadata": {},
     "output_type": "execute_result"
    }
   ],
   "source": [
    "df_2.head(1)"
   ]
  },
  {
   "cell_type": "code",
   "execution_count": 6,
   "metadata": {
    "ExecuteTime": {
     "end_time": "2020-11-29T01:57:47.165856Z",
     "start_time": "2020-11-29T01:57:47.146684Z"
    }
   },
   "outputs": [],
   "source": [
    "df_3 = pd.read_csv('Master_wolf.csv')"
   ]
  },
  {
   "cell_type": "code",
   "execution_count": 7,
   "metadata": {
    "ExecuteTime": {
     "end_time": "2020-11-29T01:57:47.178981Z",
     "start_time": "2020-11-29T01:57:47.167234Z"
    }
   },
   "outputs": [
    {
     "data": {
      "text/html": [
       "<div>\n",
       "<style scoped>\n",
       "    .dataframe tbody tr th:only-of-type {\n",
       "        vertical-align: middle;\n",
       "    }\n",
       "\n",
       "    .dataframe tbody tr th {\n",
       "        vertical-align: top;\n",
       "    }\n",
       "\n",
       "    .dataframe thead th {\n",
       "        text-align: right;\n",
       "    }\n",
       "</style>\n",
       "<table border=\"1\" class=\"dataframe\">\n",
       "  <thead>\n",
       "    <tr style=\"text-align: right;\">\n",
       "      <th></th>\n",
       "      <th>Unnamed: 0</th>\n",
       "      <th>Player</th>\n",
       "      <th>Position</th>\n",
       "      <th>Team</th>\n",
       "      <th>Date</th>\n",
       "      <th>Opp</th>\n",
       "      <th>Fantasy_Score</th>\n",
       "      <th>predictions_2019</th>\n",
       "    </tr>\n",
       "  </thead>\n",
       "  <tbody>\n",
       "    <tr>\n",
       "      <th>0</th>\n",
       "      <td>2</td>\n",
       "      <td>Aldridge</td>\n",
       "      <td>FALSE</td>\n",
       "      <td>San Antonio Spurs</td>\n",
       "      <td>2018-10-20</td>\n",
       "      <td>POR</td>\n",
       "      <td>12</td>\n",
       "      <td>23.908463</td>\n",
       "    </tr>\n",
       "  </tbody>\n",
       "</table>\n",
       "</div>"
      ],
      "text/plain": [
       "   Unnamed: 0    Player Position               Team        Date  Opp  \\\n",
       "0           2  Aldridge    FALSE  San Antonio Spurs  2018-10-20  POR   \n",
       "\n",
       "   Fantasy_Score  predictions_2019  \n",
       "0             12         23.908463  "
      ]
     },
     "execution_count": 7,
     "metadata": {},
     "output_type": "execute_result"
    }
   ],
   "source": [
    "df_3.head(1)"
   ]
  },
  {
   "cell_type": "markdown",
   "metadata": {},
   "source": [
    "### Standardize "
   ]
  },
  {
   "cell_type": "code",
   "execution_count": 8,
   "metadata": {
    "ExecuteTime": {
     "end_time": "2020-11-29T01:57:47.193350Z",
     "start_time": "2020-11-29T01:57:47.181058Z"
    }
   },
   "outputs": [],
   "source": [
    "df_1 = df_1.drop(columns='Unnamed: 0')"
   ]
  },
  {
   "cell_type": "code",
   "execution_count": 9,
   "metadata": {
    "ExecuteTime": {
     "end_time": "2020-11-29T01:57:47.210710Z",
     "start_time": "2020-11-29T01:57:47.195085Z"
    }
   },
   "outputs": [],
   "source": [
    "df_2 = df_2.drop(columns='Unnamed: 0')\n",
    "df_2 = df_2[['Player','Position','Team','Date','Opp','Fantasy_Score','predictions_2019']]"
   ]
  },
  {
   "cell_type": "code",
   "execution_count": 10,
   "metadata": {
    "ExecuteTime": {
     "end_time": "2020-11-29T01:57:47.226361Z",
     "start_time": "2020-11-29T01:57:47.212368Z"
    }
   },
   "outputs": [],
   "source": [
    "df_3 = df_3.drop(columns='Unnamed: 0')\n",
    "df_3['Position'] = np.where(df_3['Position']=='FALSE','F',df_3['Position'])"
   ]
  },
  {
   "cell_type": "code",
   "execution_count": 11,
   "metadata": {
    "ExecuteTime": {
     "end_time": "2020-11-29T01:57:47.248659Z",
     "start_time": "2020-11-29T01:57:47.227772Z"
    }
   },
   "outputs": [
    {
     "data": {
      "text/html": [
       "<div>\n",
       "<style scoped>\n",
       "    .dataframe tbody tr th:only-of-type {\n",
       "        vertical-align: middle;\n",
       "    }\n",
       "\n",
       "    .dataframe tbody tr th {\n",
       "        vertical-align: top;\n",
       "    }\n",
       "\n",
       "    .dataframe thead th {\n",
       "        text-align: right;\n",
       "    }\n",
       "</style>\n",
       "<table border=\"1\" class=\"dataframe\">\n",
       "  <thead>\n",
       "    <tr style=\"text-align: right;\">\n",
       "      <th></th>\n",
       "      <th>Player</th>\n",
       "      <th>Position</th>\n",
       "      <th>Team</th>\n",
       "      <th>Date</th>\n",
       "      <th>Opp</th>\n",
       "      <th>Fantasy_Score</th>\n",
       "      <th>predictions_2019</th>\n",
       "    </tr>\n",
       "  </thead>\n",
       "  <tbody>\n",
       "    <tr>\n",
       "      <th>0</th>\n",
       "      <td>Allen</td>\n",
       "      <td>C</td>\n",
       "      <td>Brooklyn Nets</td>\n",
       "      <td>2018-10-19</td>\n",
       "      <td>NYK</td>\n",
       "      <td>15</td>\n",
       "      <td>8.693321</td>\n",
       "    </tr>\n",
       "  </tbody>\n",
       "</table>\n",
       "</div>"
      ],
      "text/plain": [
       "  Player Position           Team        Date  Opp  Fantasy_Score  \\\n",
       "0  Allen        C  Brooklyn Nets  2018-10-19  NYK             15   \n",
       "\n",
       "   predictions_2019  \n",
       "0          8.693321  "
      ]
     },
     "execution_count": 11,
     "metadata": {},
     "output_type": "execute_result"
    }
   ],
   "source": [
    "df_1.head(1)"
   ]
  },
  {
   "cell_type": "code",
   "execution_count": 12,
   "metadata": {
    "ExecuteTime": {
     "end_time": "2020-11-29T01:57:47.269567Z",
     "start_time": "2020-11-29T01:57:47.250122Z"
    }
   },
   "outputs": [
    {
     "data": {
      "text/html": [
       "<div>\n",
       "<style scoped>\n",
       "    .dataframe tbody tr th:only-of-type {\n",
       "        vertical-align: middle;\n",
       "    }\n",
       "\n",
       "    .dataframe tbody tr th {\n",
       "        vertical-align: top;\n",
       "    }\n",
       "\n",
       "    .dataframe thead th {\n",
       "        text-align: right;\n",
       "    }\n",
       "</style>\n",
       "<table border=\"1\" class=\"dataframe\">\n",
       "  <thead>\n",
       "    <tr style=\"text-align: right;\">\n",
       "      <th></th>\n",
       "      <th>Player</th>\n",
       "      <th>Position</th>\n",
       "      <th>Team</th>\n",
       "      <th>Date</th>\n",
       "      <th>Opp</th>\n",
       "      <th>Fantasy_Score</th>\n",
       "      <th>predictions_2019</th>\n",
       "    </tr>\n",
       "  </thead>\n",
       "  <tbody>\n",
       "    <tr>\n",
       "      <th>0</th>\n",
       "      <td>Al-Farouq Aminu</td>\n",
       "      <td>F</td>\n",
       "      <td>Portland Trail Blazers</td>\n",
       "      <td>20/10/2018</td>\n",
       "      <td>SAS</td>\n",
       "      <td>14</td>\n",
       "      <td>12.650065</td>\n",
       "    </tr>\n",
       "  </tbody>\n",
       "</table>\n",
       "</div>"
      ],
      "text/plain": [
       "            Player Position                    Team        Date  Opp  \\\n",
       "0  Al-Farouq Aminu        F  Portland Trail Blazers  20/10/2018  SAS   \n",
       "\n",
       "   Fantasy_Score  predictions_2019  \n",
       "0             14         12.650065  "
      ]
     },
     "execution_count": 12,
     "metadata": {},
     "output_type": "execute_result"
    }
   ],
   "source": [
    "df_2.head(1)"
   ]
  },
  {
   "cell_type": "code",
   "execution_count": 13,
   "metadata": {
    "ExecuteTime": {
     "end_time": "2020-11-29T01:57:47.288763Z",
     "start_time": "2020-11-29T01:57:47.270973Z"
    }
   },
   "outputs": [
    {
     "data": {
      "text/html": [
       "<div>\n",
       "<style scoped>\n",
       "    .dataframe tbody tr th:only-of-type {\n",
       "        vertical-align: middle;\n",
       "    }\n",
       "\n",
       "    .dataframe tbody tr th {\n",
       "        vertical-align: top;\n",
       "    }\n",
       "\n",
       "    .dataframe thead th {\n",
       "        text-align: right;\n",
       "    }\n",
       "</style>\n",
       "<table border=\"1\" class=\"dataframe\">\n",
       "  <thead>\n",
       "    <tr style=\"text-align: right;\">\n",
       "      <th></th>\n",
       "      <th>Player</th>\n",
       "      <th>Position</th>\n",
       "      <th>Team</th>\n",
       "      <th>Date</th>\n",
       "      <th>Opp</th>\n",
       "      <th>Fantasy_Score</th>\n",
       "      <th>predictions_2019</th>\n",
       "    </tr>\n",
       "  </thead>\n",
       "  <tbody>\n",
       "    <tr>\n",
       "      <th>0</th>\n",
       "      <td>Aldridge</td>\n",
       "      <td>F</td>\n",
       "      <td>San Antonio Spurs</td>\n",
       "      <td>2018-10-20</td>\n",
       "      <td>POR</td>\n",
       "      <td>12</td>\n",
       "      <td>23.908463</td>\n",
       "    </tr>\n",
       "  </tbody>\n",
       "</table>\n",
       "</div>"
      ],
      "text/plain": [
       "     Player Position               Team        Date  Opp  Fantasy_Score  \\\n",
       "0  Aldridge        F  San Antonio Spurs  2018-10-20  POR             12   \n",
       "\n",
       "   predictions_2019  \n",
       "0         23.908463  "
      ]
     },
     "execution_count": 13,
     "metadata": {},
     "output_type": "execute_result"
    }
   ],
   "source": [
    "df_3.head(1)"
   ]
  },
  {
   "cell_type": "markdown",
   "metadata": {},
   "source": [
    "### Captalize"
   ]
  },
  {
   "cell_type": "code",
   "execution_count": 14,
   "metadata": {
    "ExecuteTime": {
     "end_time": "2020-11-29T01:57:47.304801Z",
     "start_time": "2020-11-29T01:57:47.290103Z"
    }
   },
   "outputs": [],
   "source": [
    "def normalize_name(name):\n",
    "    name = name.lower()\n",
    "    name = name.capitalize() \n",
    "    return name"
   ]
  },
  {
   "cell_type": "code",
   "execution_count": 15,
   "metadata": {
    "ExecuteTime": {
     "end_time": "2020-11-29T01:57:47.326254Z",
     "start_time": "2020-11-29T01:57:47.306096Z"
    }
   },
   "outputs": [],
   "source": [
    "df_1['Player'] = df_1['Player'].apply(normalize_name)\n",
    "df_2['Player'] = df_2['Player'].apply(normalize_name)\n",
    "df_3['Player'] = df_3['Player'].apply(normalize_name)"
   ]
  },
  {
   "cell_type": "code",
   "execution_count": 16,
   "metadata": {
    "ExecuteTime": {
     "end_time": "2020-11-29T01:57:54.357662Z",
     "start_time": "2020-11-29T01:57:54.346842Z"
    }
   },
   "outputs": [
    {
     "data": {
      "text/html": [
       "<div>\n",
       "<style scoped>\n",
       "    .dataframe tbody tr th:only-of-type {\n",
       "        vertical-align: middle;\n",
       "    }\n",
       "\n",
       "    .dataframe tbody tr th {\n",
       "        vertical-align: top;\n",
       "    }\n",
       "\n",
       "    .dataframe thead th {\n",
       "        text-align: right;\n",
       "    }\n",
       "</style>\n",
       "<table border=\"1\" class=\"dataframe\">\n",
       "  <thead>\n",
       "    <tr style=\"text-align: right;\">\n",
       "      <th></th>\n",
       "      <th>Player</th>\n",
       "      <th>Position</th>\n",
       "      <th>Team</th>\n",
       "      <th>Date</th>\n",
       "      <th>Opp</th>\n",
       "      <th>Fantasy_Score</th>\n",
       "      <th>predictions_2019</th>\n",
       "    </tr>\n",
       "  </thead>\n",
       "  <tbody>\n",
       "    <tr>\n",
       "      <th>0</th>\n",
       "      <td>Aldridge</td>\n",
       "      <td>F</td>\n",
       "      <td>San Antonio Spurs</td>\n",
       "      <td>2018-10-20</td>\n",
       "      <td>POR</td>\n",
       "      <td>12</td>\n",
       "      <td>23.908463</td>\n",
       "    </tr>\n",
       "  </tbody>\n",
       "</table>\n",
       "</div>"
      ],
      "text/plain": [
       "     Player Position               Team        Date  Opp  Fantasy_Score  \\\n",
       "0  Aldridge        F  San Antonio Spurs  2018-10-20  POR             12   \n",
       "\n",
       "   predictions_2019  \n",
       "0         23.908463  "
      ]
     },
     "execution_count": 16,
     "metadata": {},
     "output_type": "execute_result"
    }
   ],
   "source": [
    "df_3.head(1)"
   ]
  },
  {
   "cell_type": "markdown",
   "metadata": {},
   "source": [
    "### Double Check Positions"
   ]
  },
  {
   "cell_type": "code",
   "execution_count": 17,
   "metadata": {
    "ExecuteTime": {
     "end_time": "2020-11-29T01:57:56.446702Z",
     "start_time": "2020-11-29T01:57:56.442371Z"
    }
   },
   "outputs": [
    {
     "data": {
      "text/plain": [
       "array(['C', nan, 'PG', 'SG'], dtype=object)"
      ]
     },
     "execution_count": 17,
     "metadata": {},
     "output_type": "execute_result"
    }
   ],
   "source": [
    "df_1['Position'].unique()"
   ]
  },
  {
   "cell_type": "code",
   "execution_count": 18,
   "metadata": {
    "ExecuteTime": {
     "end_time": "2020-11-29T01:57:56.656404Z",
     "start_time": "2020-11-29T01:57:56.650647Z"
    }
   },
   "outputs": [
    {
     "data": {
      "text/plain": [
       "30"
      ]
     },
     "execution_count": 18,
     "metadata": {},
     "output_type": "execute_result"
    }
   ],
   "source": [
    "df_1[df_1['Position'].isna()]['Player'].nunique()"
   ]
  },
  {
   "cell_type": "code",
   "execution_count": 19,
   "metadata": {
    "ExecuteTime": {
     "end_time": "2020-11-29T01:57:56.871374Z",
     "start_time": "2020-11-29T01:57:56.866660Z"
    }
   },
   "outputs": [
    {
     "data": {
      "text/plain": [
       "15"
      ]
     },
     "execution_count": 19,
     "metadata": {},
     "output_type": "execute_result"
    }
   ],
   "source": [
    "df_1['Team'].nunique()"
   ]
  },
  {
   "cell_type": "code",
   "execution_count": 20,
   "metadata": {
    "ExecuteTime": {
     "end_time": "2020-11-29T01:57:57.062922Z",
     "start_time": "2020-11-29T01:57:57.060882Z"
    }
   },
   "outputs": [],
   "source": [
    "# 15 Teams x 2 Forwards = 30 players (maybe issue with how it was represented) "
   ]
  },
  {
   "cell_type": "code",
   "execution_count": 21,
   "metadata": {
    "ExecuteTime": {
     "end_time": "2020-11-29T01:57:58.101894Z",
     "start_time": "2020-11-29T01:57:58.095000Z"
    }
   },
   "outputs": [
    {
     "data": {
      "text/plain": [
       "array(['Antetokounmpo', 'Ariza', 'Bogdanovic', 'Bullock', 'Butler',\n",
       "       'Chandler', 'Collins', 'Dudley', 'Gordon', 'Griffin', 'Harris',\n",
       "       'Hezonja', 'Isaac', 'J_green', 'Lamb', 'Leonard', 'Love',\n",
       "       'Markkanen', 'Middleton', 'Morris', 'Osman', 'Porter', 'Prince',\n",
       "       'Richardson', 'Siakam', 'Tatum', 'Vonleh', 'Williams', 'Winslow',\n",
       "       'Young'], dtype=object)"
      ]
     },
     "execution_count": 21,
     "metadata": {},
     "output_type": "execute_result"
    }
   ],
   "source": [
    "df_1[df_1['Position'].isna()]['Player'].unique()"
   ]
  },
  {
   "cell_type": "markdown",
   "metadata": {},
   "source": [
    "    Validated, these are all Forwads"
   ]
  },
  {
   "cell_type": "code",
   "execution_count": 22,
   "metadata": {
    "ExecuteTime": {
     "end_time": "2020-11-29T01:58:01.348977Z",
     "start_time": "2020-11-29T01:58:01.345169Z"
    }
   },
   "outputs": [],
   "source": [
    "df_1['Position'] = np.where(df_1['Position'].isna(),'F',df_1['Position'])"
   ]
  },
  {
   "cell_type": "code",
   "execution_count": 23,
   "metadata": {
    "ExecuteTime": {
     "end_time": "2020-11-29T01:58:01.702229Z",
     "start_time": "2020-11-29T01:58:01.696860Z"
    }
   },
   "outputs": [
    {
     "data": {
      "text/plain": [
       "array(['C', 'F', 'PG', 'SG'], dtype=object)"
      ]
     },
     "execution_count": 23,
     "metadata": {},
     "output_type": "execute_result"
    }
   ],
   "source": [
    "df_1['Position'].unique()"
   ]
  },
  {
   "cell_type": "code",
   "execution_count": 24,
   "metadata": {
    "ExecuteTime": {
     "end_time": "2020-11-29T01:58:01.912770Z",
     "start_time": "2020-11-29T01:58:01.908276Z"
    }
   },
   "outputs": [
    {
     "data": {
      "text/plain": [
       "array(['F', 'SG', 'PG', 'C'], dtype=object)"
      ]
     },
     "execution_count": 24,
     "metadata": {},
     "output_type": "execute_result"
    }
   ],
   "source": [
    "df_2['Position'].unique()"
   ]
  },
  {
   "cell_type": "code",
   "execution_count": 25,
   "metadata": {
    "ExecuteTime": {
     "end_time": "2020-11-29T01:58:02.106945Z",
     "start_time": "2020-11-29T01:58:02.103328Z"
    }
   },
   "outputs": [
    {
     "data": {
      "text/plain": [
       "array(['F', 'PG', 'C', 'SG'], dtype=object)"
      ]
     },
     "execution_count": 25,
     "metadata": {},
     "output_type": "execute_result"
    }
   ],
   "source": [
    "df_3['Position'].unique()"
   ]
  },
  {
   "cell_type": "markdown",
   "metadata": {},
   "source": [
    "    Now we need to do a group by for teams"
   ]
  },
  {
   "cell_type": "code",
   "execution_count": 26,
   "metadata": {
    "ExecuteTime": {
     "end_time": "2020-11-29T01:58:04.470072Z",
     "start_time": "2020-11-29T01:58:04.465856Z"
    }
   },
   "outputs": [
    {
     "data": {
      "text/plain": [
       "15"
      ]
     },
     "execution_count": 26,
     "metadata": {},
     "output_type": "execute_result"
    }
   ],
   "source": [
    "df_1['Team'].nunique()"
   ]
  },
  {
   "cell_type": "code",
   "execution_count": 27,
   "metadata": {
    "ExecuteTime": {
     "end_time": "2020-11-29T01:58:04.710382Z",
     "start_time": "2020-11-29T01:58:04.704142Z"
    }
   },
   "outputs": [
    {
     "data": {
      "text/plain": [
       "Position\n",
       "C     15\n",
       "F     30\n",
       "PG    15\n",
       "SG    15\n",
       "Name: Player, dtype: int64"
      ]
     },
     "execution_count": 27,
     "metadata": {},
     "output_type": "execute_result"
    }
   ],
   "source": [
    "df_1.groupby('Position')['Player'].nunique()"
   ]
  },
  {
   "cell_type": "code",
   "execution_count": 28,
   "metadata": {
    "ExecuteTime": {
     "end_time": "2020-11-29T01:58:04.907169Z",
     "start_time": "2020-11-29T01:58:04.902811Z"
    }
   },
   "outputs": [
    {
     "data": {
      "text/plain": [
       "5"
      ]
     },
     "execution_count": 28,
     "metadata": {},
     "output_type": "execute_result"
    }
   ],
   "source": [
    "df_2['Team'].nunique()"
   ]
  },
  {
   "cell_type": "code",
   "execution_count": 29,
   "metadata": {
    "ExecuteTime": {
     "end_time": "2020-11-29T01:58:05.132905Z",
     "start_time": "2020-11-29T01:58:05.126644Z"
    }
   },
   "outputs": [
    {
     "data": {
      "text/plain": [
       "Position\n",
       "C      5\n",
       "F     10\n",
       "PG     5\n",
       "SG     5\n",
       "Name: Player, dtype: int64"
      ]
     },
     "execution_count": 29,
     "metadata": {},
     "output_type": "execute_result"
    }
   ],
   "source": [
    "df_2.groupby('Position')['Player'].nunique()"
   ]
  },
  {
   "cell_type": "code",
   "execution_count": 30,
   "metadata": {
    "ExecuteTime": {
     "end_time": "2020-11-29T01:58:05.322987Z",
     "start_time": "2020-11-29T01:58:05.319190Z"
    }
   },
   "outputs": [
    {
     "data": {
      "text/plain": [
       "10"
      ]
     },
     "execution_count": 30,
     "metadata": {},
     "output_type": "execute_result"
    }
   ],
   "source": [
    "df_3['Team'].nunique()"
   ]
  },
  {
   "cell_type": "code",
   "execution_count": 31,
   "metadata": {
    "ExecuteTime": {
     "end_time": "2020-11-29T01:58:05.531032Z",
     "start_time": "2020-11-29T01:58:05.523816Z"
    }
   },
   "outputs": [
    {
     "data": {
      "text/plain": [
       "Position\n",
       "C     11\n",
       "F     22\n",
       "PG     9\n",
       "SG     8\n",
       "Name: Player, dtype: int64"
      ]
     },
     "execution_count": 31,
     "metadata": {},
     "output_type": "execute_result"
    }
   ],
   "source": [
    "df_3.groupby('Position')['Player'].nunique()"
   ]
  },
  {
   "cell_type": "markdown",
   "metadata": {},
   "source": [
    "    Issue: Expecting 10 SG, 10 PG, 10 C, and 20 F"
   ]
  },
  {
   "cell_type": "code",
   "execution_count": 32,
   "metadata": {
    "ExecuteTime": {
     "end_time": "2020-11-29T01:58:08.472500Z",
     "start_time": "2020-11-29T01:58:08.463871Z"
    }
   },
   "outputs": [
    {
     "data": {
      "text/plain": [
       "Team                   Player        Position\n",
       "Dallas Mavericks       Barnes        F           150\n",
       "                       Jordan        C            67\n",
       "                       Lee           SG           77\n",
       "                       Matthews      F            67\n",
       "                       Smith         PG           51\n",
       "Golden State Warriors  Cousins       C            46\n",
       "                       Curry         PG           67\n",
       "                       Durant        F            66\n",
       "                       Green         F            64\n",
       "                       Thompson      SG           71\n",
       "Houston Rockets        Capela        C            65\n",
       "                       Gordon        F            66\n",
       "                       Harden        SG           76\n",
       "                       Paul          PG           56\n",
       "                       Tucker        F            80\n",
       "Los Angeles Clippers   Beverley      SG          152\n",
       "                       Bradley       PG          122\n",
       "                       Gallinari     F            66\n",
       "                       Gortat        C            45\n",
       "                       T.harris      F            80\n",
       "Los Angeles Lakers     Ball          PG           90\n",
       "                       Ingram        F            50\n",
       "                       James         SG           53\n",
       "                       Kuzma         F            68\n",
       "                       Mcgee         C            63\n",
       "Memphis Grizzlies      Anderson      F            82\n",
       "                       Caboclo       F            14\n",
       "                       Conley        PG           68\n",
       "                       Gasol         C            77\n",
       "                       Temple        SG           73\n",
       "New Orleans Pelicans   Davis         C            54\n",
       "                       Holiday       SG           65\n",
       "                       Johnson       F            36\n",
       "                       Mirotic       F            44\n",
       "                       Moore         F            51\n",
       "Phoenix Suns           Bender        C            88\n",
       "                       Booker        C           124\n",
       "                       Oubre         F            67\n",
       "                       T.johnson     PG           55\n",
       "                       Warren        F            41\n",
       "Sacramento Kings       Bjelica       F           150\n",
       "                       Cauley-stein  C            79\n",
       "                       Fox           PG           79\n",
       "                       Hield         SG           56\n",
       "                       Shumpert      F            60\n",
       "San Antonio Spurs      Aldridge      F           158\n",
       "                       Derozan       C            75\n",
       "                       Forbes        F            35\n",
       "                       Gay           F            67\n",
       "                       White         PG           65\n",
       "Name: Player, dtype: int64"
      ]
     },
     "execution_count": 32,
     "metadata": {},
     "output_type": "execute_result"
    }
   ],
   "source": [
    "# Note: Size is not important, this is just an easy way to see which player is mispositioned  ... using player.csv as ref\n",
    "df_3.groupby(['Team','Player','Position'])['Player'].size()"
   ]
  },
  {
   "cell_type": "markdown",
   "metadata": {},
   "source": [
    "Changes that need to occur\n",
    "\n",
    "San Antonio Spurs, Forbes - SG\n",
    "\n",
    "Phoenix Suns, Booker  - SG\n",
    "\n",
    "New Orleans Pelicans, Moore  - PG"
   ]
  },
  {
   "cell_type": "code",
   "execution_count": 33,
   "metadata": {
    "ExecuteTime": {
     "end_time": "2020-11-29T01:58:10.038243Z",
     "start_time": "2020-11-29T01:58:10.033641Z"
    }
   },
   "outputs": [],
   "source": [
    "df_3['Position'] = np.where(\n",
    "    (df_3['Team']=='San Antonio Spurs')\n",
    "    &\n",
    "    (df_3['Player']=='Forbes')\n",
    ", 'SG'\n",
    ", df_3['Position']\n",
    ")"
   ]
  },
  {
   "cell_type": "code",
   "execution_count": 34,
   "metadata": {
    "ExecuteTime": {
     "end_time": "2020-11-29T01:58:10.620069Z",
     "start_time": "2020-11-29T01:58:10.615648Z"
    }
   },
   "outputs": [],
   "source": [
    "df_3['Position'] = np.where(\n",
    "    (df_3['Team']=='Phoenix Suns')\n",
    "    &\n",
    "    (df_3['Player']=='Booker')\n",
    ", 'SG'\n",
    ", df_3['Position']\n",
    ")"
   ]
  },
  {
   "cell_type": "code",
   "execution_count": 35,
   "metadata": {
    "ExecuteTime": {
     "end_time": "2020-11-29T01:58:11.021117Z",
     "start_time": "2020-11-29T01:58:11.016467Z"
    }
   },
   "outputs": [],
   "source": [
    "df_3['Position'] = np.where(\n",
    "    (df_3['Team']=='New Orleans Pelicans')\n",
    "    &\n",
    "    (df_3['Player']=='Moore')\n",
    ", 'PG'\n",
    ", df_3['Position']\n",
    ")"
   ]
  },
  {
   "cell_type": "code",
   "execution_count": 36,
   "metadata": {
    "ExecuteTime": {
     "end_time": "2020-11-29T01:58:11.758816Z",
     "start_time": "2020-11-29T01:58:11.749543Z"
    }
   },
   "outputs": [
    {
     "data": {
      "text/plain": [
       "Position\n",
       "C     10\n",
       "F     20\n",
       "PG    10\n",
       "SG    10\n",
       "Name: Player, dtype: int64"
      ]
     },
     "execution_count": 36,
     "metadata": {},
     "output_type": "execute_result"
    }
   ],
   "source": [
    "df_3.groupby('Position')['Player'].nunique()"
   ]
  },
  {
   "cell_type": "markdown",
   "metadata": {},
   "source": [
    "### Final Check 5 Players per team"
   ]
  },
  {
   "cell_type": "code",
   "execution_count": 37,
   "metadata": {
    "ExecuteTime": {
     "end_time": "2020-11-29T01:58:13.532050Z",
     "start_time": "2020-11-29T01:58:13.525306Z"
    }
   },
   "outputs": [
    {
     "data": {
      "text/plain": [
       "Team\n",
       "Atlanta Hawks          5\n",
       "Boston Celtics         5\n",
       "Brooklyn Nets          5\n",
       "Charlotte Hornets      5\n",
       "Chicago Bulls          5\n",
       "Cleveland Cavaliers    5\n",
       "Detroit Pistons        5\n",
       "Indiana Pacers         5\n",
       "Miami Heat             5\n",
       "Milwaukee Bucks        5\n",
       "New York Knicks        5\n",
       "Orlando Magic          5\n",
       "Philadelphia 76ers     5\n",
       "Toronto Raptors        5\n",
       "Washington Wizards     5\n",
       "Name: Player, dtype: int64"
      ]
     },
     "execution_count": 37,
     "metadata": {},
     "output_type": "execute_result"
    }
   ],
   "source": [
    "df_1.groupby('Team')['Player'].nunique()"
   ]
  },
  {
   "cell_type": "code",
   "execution_count": 38,
   "metadata": {
    "ExecuteTime": {
     "end_time": "2020-11-29T01:58:13.753406Z",
     "start_time": "2020-11-29T01:58:13.747800Z"
    }
   },
   "outputs": [
    {
     "data": {
      "text/plain": [
       "Team\n",
       "Denver Nuggets            5\n",
       "Minnesota Timberwolves    5\n",
       "Oklahoma City Thunder     5\n",
       "Portland Trail Blazers    5\n",
       "Utah Jazz                 5\n",
       "Name: Player, dtype: int64"
      ]
     },
     "execution_count": 38,
     "metadata": {},
     "output_type": "execute_result"
    }
   ],
   "source": [
    "df_2.groupby('Team')['Player'].nunique()"
   ]
  },
  {
   "cell_type": "code",
   "execution_count": 39,
   "metadata": {
    "ExecuteTime": {
     "end_time": "2020-11-29T01:58:13.908615Z",
     "start_time": "2020-11-29T01:58:13.902662Z"
    }
   },
   "outputs": [
    {
     "data": {
      "text/plain": [
       "Team\n",
       "Dallas Mavericks         5\n",
       "Golden State Warriors    5\n",
       "Houston Rockets          5\n",
       "Los Angeles Clippers     5\n",
       "Los Angeles Lakers       5\n",
       "Memphis Grizzlies        5\n",
       "New Orleans Pelicans     5\n",
       "Phoenix Suns             5\n",
       "Sacramento Kings         5\n",
       "San Antonio Spurs        5\n",
       "Name: Player, dtype: int64"
      ]
     },
     "execution_count": 39,
     "metadata": {},
     "output_type": "execute_result"
    }
   ],
   "source": [
    "df_3.groupby('Team')['Player'].nunique()"
   ]
  },
  {
   "cell_type": "markdown",
   "metadata": {},
   "source": [
    "## Combine "
   ]
  },
  {
   "cell_type": "code",
   "execution_count": 40,
   "metadata": {
    "ExecuteTime": {
     "end_time": "2020-11-29T01:58:17.618821Z",
     "start_time": "2020-11-29T01:58:17.613514Z"
    }
   },
   "outputs": [],
   "source": [
    "master_df = pd.DataFrame()"
   ]
  },
  {
   "cell_type": "code",
   "execution_count": 41,
   "metadata": {
    "ExecuteTime": {
     "end_time": "2020-11-29T01:58:17.812432Z",
     "start_time": "2020-11-29T01:58:17.809021Z"
    }
   },
   "outputs": [],
   "source": [
    "master_df = master_df.append(df_1)"
   ]
  },
  {
   "cell_type": "code",
   "execution_count": 42,
   "metadata": {
    "ExecuteTime": {
     "end_time": "2020-11-29T01:58:18.007192Z",
     "start_time": "2020-11-29T01:58:18.002948Z"
    }
   },
   "outputs": [],
   "source": [
    "master_df = master_df.append(df_2)"
   ]
  },
  {
   "cell_type": "code",
   "execution_count": 43,
   "metadata": {
    "ExecuteTime": {
     "end_time": "2020-11-29T01:58:18.191253Z",
     "start_time": "2020-11-29T01:58:18.187012Z"
    }
   },
   "outputs": [],
   "source": [
    "master_df = master_df.append(df_3)"
   ]
  },
  {
   "cell_type": "markdown",
   "metadata": {},
   "source": [
    "# Validate\n",
    "    Number Players\n",
    "    Number Teams\n",
    "    Unique Player Names\n",
    "    Positions by Team\n",
    "    Nulls"
   ]
  },
  {
   "cell_type": "markdown",
   "metadata": {},
   "source": [
    "## Correct Teams and Player Count\n",
    "    Will check uniform team names\n",
    "    team count\n",
    "    player count\n",
    "    another player position distribution"
   ]
  },
  {
   "cell_type": "code",
   "execution_count": 44,
   "metadata": {
    "ExecuteTime": {
     "end_time": "2020-11-29T01:58:18.797443Z",
     "start_time": "2020-11-29T01:58:18.787836Z"
    }
   },
   "outputs": [
    {
     "data": {
      "text/html": [
       "<div>\n",
       "<style scoped>\n",
       "    .dataframe tbody tr th:only-of-type {\n",
       "        vertical-align: middle;\n",
       "    }\n",
       "\n",
       "    .dataframe tbody tr th {\n",
       "        vertical-align: top;\n",
       "    }\n",
       "\n",
       "    .dataframe thead th {\n",
       "        text-align: right;\n",
       "    }\n",
       "</style>\n",
       "<table border=\"1\" class=\"dataframe\">\n",
       "  <thead>\n",
       "    <tr style=\"text-align: right;\">\n",
       "      <th></th>\n",
       "      <th>Player</th>\n",
       "      <th>Position</th>\n",
       "      <th>Team</th>\n",
       "      <th>Date</th>\n",
       "      <th>Opp</th>\n",
       "      <th>Fantasy_Score</th>\n",
       "      <th>predictions_2019</th>\n",
       "    </tr>\n",
       "  </thead>\n",
       "  <tbody>\n",
       "    <tr>\n",
       "      <th>0</th>\n",
       "      <td>Allen</td>\n",
       "      <td>C</td>\n",
       "      <td>Brooklyn Nets</td>\n",
       "      <td>2018-10-19</td>\n",
       "      <td>NYK</td>\n",
       "      <td>15</td>\n",
       "      <td>8.693321</td>\n",
       "    </tr>\n",
       "  </tbody>\n",
       "</table>\n",
       "</div>"
      ],
      "text/plain": [
       "  Player Position           Team        Date  Opp  Fantasy_Score  \\\n",
       "0  Allen        C  Brooklyn Nets  2018-10-19  NYK             15   \n",
       "\n",
       "   predictions_2019  \n",
       "0          8.693321  "
      ]
     },
     "execution_count": 44,
     "metadata": {},
     "output_type": "execute_result"
    }
   ],
   "source": [
    "master_df.head(1)"
   ]
  },
  {
   "cell_type": "code",
   "execution_count": 45,
   "metadata": {
    "ExecuteTime": {
     "end_time": "2020-11-29T01:58:18.975300Z",
     "start_time": "2020-11-29T01:58:18.970641Z"
    }
   },
   "outputs": [
    {
     "data": {
      "text/plain": [
       "30"
      ]
     },
     "execution_count": 45,
     "metadata": {},
     "output_type": "execute_result"
    }
   ],
   "source": [
    "master_df['Team'].nunique()"
   ]
  },
  {
   "cell_type": "code",
   "execution_count": 46,
   "metadata": {
    "ExecuteTime": {
     "end_time": "2020-11-29T01:58:19.207321Z",
     "start_time": "2020-11-29T01:58:19.199842Z"
    }
   },
   "outputs": [
    {
     "data": {
      "text/plain": [
       "Position\n",
       "C     30\n",
       "F     59\n",
       "PG    30\n",
       "SG    30\n",
       "Name: Player, dtype: int64"
      ]
     },
     "execution_count": 46,
     "metadata": {},
     "output_type": "execute_result"
    }
   ],
   "source": [
    "master_df.groupby('Position')['Player'].nunique()"
   ]
  },
  {
   "cell_type": "code",
   "execution_count": 47,
   "metadata": {
    "ExecuteTime": {
     "end_time": "2020-11-29T01:58:19.678326Z",
     "start_time": "2020-11-29T01:58:19.666565Z"
    }
   },
   "outputs": [
    {
     "data": {
      "text/html": [
       "<div>\n",
       "<style scoped>\n",
       "    .dataframe tbody tr th:only-of-type {\n",
       "        vertical-align: middle;\n",
       "    }\n",
       "\n",
       "    .dataframe tbody tr th {\n",
       "        vertical-align: top;\n",
       "    }\n",
       "\n",
       "    .dataframe thead th {\n",
       "        text-align: right;\n",
       "    }\n",
       "</style>\n",
       "<table border=\"1\" class=\"dataframe\">\n",
       "  <thead>\n",
       "    <tr style=\"text-align: right;\">\n",
       "      <th></th>\n",
       "      <th>Player</th>\n",
       "      <th>Duplicates</th>\n",
       "    </tr>\n",
       "  </thead>\n",
       "  <tbody>\n",
       "    <tr>\n",
       "      <th>56</th>\n",
       "      <td>Gordon</td>\n",
       "      <td>2</td>\n",
       "    </tr>\n",
       "    <tr>\n",
       "      <th>59</th>\n",
       "      <td>Green</td>\n",
       "      <td>2</td>\n",
       "    </tr>\n",
       "    <tr>\n",
       "      <th>80</th>\n",
       "      <td>Johnson</td>\n",
       "      <td>2</td>\n",
       "    </tr>\n",
       "    <tr>\n",
       "      <th>101</th>\n",
       "      <td>Morris</td>\n",
       "      <td>1</td>\n",
       "    </tr>\n",
       "    <tr>\n",
       "      <th>95</th>\n",
       "      <td>Maurice harkless</td>\n",
       "      <td>1</td>\n",
       "    </tr>\n",
       "    <tr>\n",
       "      <th>96</th>\n",
       "      <td>Mcgee</td>\n",
       "      <td>1</td>\n",
       "    </tr>\n",
       "    <tr>\n",
       "      <th>97</th>\n",
       "      <td>Mcgruder</td>\n",
       "      <td>1</td>\n",
       "    </tr>\n",
       "    <tr>\n",
       "      <th>98</th>\n",
       "      <td>Middleton</td>\n",
       "      <td>1</td>\n",
       "    </tr>\n",
       "  </tbody>\n",
       "</table>\n",
       "</div>"
      ],
      "text/plain": [
       "               Player  Duplicates\n",
       "56             Gordon           2\n",
       "59              Green           2\n",
       "80            Johnson           2\n",
       "101            Morris           1\n",
       "95   Maurice harkless           1\n",
       "96              Mcgee           1\n",
       "97           Mcgruder           1\n",
       "98          Middleton           1"
      ]
     },
     "execution_count": 47,
     "metadata": {},
     "output_type": "execute_result"
    }
   ],
   "source": [
    "# This may be cause by same name\n",
    "master_df.groupby('Player')['Team'].nunique().reset_index(name='Duplicates').sort_values(by='Duplicates',ascending=False).head(8)"
   ]
  },
  {
   "cell_type": "code",
   "execution_count": 48,
   "metadata": {
    "ExecuteTime": {
     "end_time": "2020-11-29T01:58:19.868409Z",
     "start_time": "2020-11-29T01:58:19.862161Z"
    }
   },
   "outputs": [
    {
     "data": {
      "text/plain": [
       "array(['Miami Heat', 'New Orleans Pelicans'], dtype=object)"
      ]
     },
     "execution_count": 48,
     "metadata": {},
     "output_type": "execute_result"
    }
   ],
   "source": [
    "master_df[master_df['Player']=='Johnson']['Team'].unique()"
   ]
  },
  {
   "cell_type": "code",
   "execution_count": 49,
   "metadata": {
    "ExecuteTime": {
     "end_time": "2020-11-29T01:58:21.836433Z",
     "start_time": "2020-11-29T01:58:21.830803Z"
    }
   },
   "outputs": [],
   "source": [
    "master_df['Player'] = np.where(\n",
    "    (master_df['Team']=='Miami Heat')\n",
    "    &\n",
    "    (master_df['Player']=='Johnson')\n",
    ", 'J_Johnson'\n",
    ", master_df['Player']\n",
    ")"
   ]
  },
  {
   "cell_type": "code",
   "execution_count": 50,
   "metadata": {
    "ExecuteTime": {
     "end_time": "2020-11-29T01:58:24.752168Z",
     "start_time": "2020-11-29T01:58:24.746604Z"
    }
   },
   "outputs": [],
   "source": [
    "master_df['Player'] = np.where(\n",
    "    (master_df['Team']=='New Orleans Pelicans')\n",
    "    &\n",
    "    (master_df['Player']=='Johnson')\n",
    ", 'W_Johnson'\n",
    ", master_df['Player']\n",
    ")"
   ]
  },
  {
   "cell_type": "code",
   "execution_count": 51,
   "metadata": {
    "ExecuteTime": {
     "end_time": "2020-11-29T01:58:25.033856Z",
     "start_time": "2020-11-29T01:58:25.026834Z"
    }
   },
   "outputs": [
    {
     "data": {
      "text/plain": [
       "array(['Orlando Magic', 'Houston Rockets'], dtype=object)"
      ]
     },
     "execution_count": 51,
     "metadata": {},
     "output_type": "execute_result"
    }
   ],
   "source": [
    "master_df[master_df['Player']=='Gordon']['Team'].unique()"
   ]
  },
  {
   "cell_type": "code",
   "execution_count": 52,
   "metadata": {
    "ExecuteTime": {
     "end_time": "2020-11-29T01:58:25.303864Z",
     "start_time": "2020-11-29T01:58:25.297702Z"
    }
   },
   "outputs": [],
   "source": [
    "master_df['Player'] = np.where(\n",
    "    (master_df['Team']=='Orlando Magic')\n",
    "    &\n",
    "    (master_df['Player']=='Gordon')\n",
    ", 'A_Gordon'\n",
    ", master_df['Player']\n",
    ")"
   ]
  },
  {
   "cell_type": "code",
   "execution_count": 53,
   "metadata": {
    "ExecuteTime": {
     "end_time": "2020-11-29T01:58:26.056094Z",
     "start_time": "2020-11-29T01:58:26.050384Z"
    }
   },
   "outputs": [],
   "source": [
    "master_df['Player'] = np.where(\n",
    "    (master_df['Team']=='Houston Rockets')\n",
    "    &\n",
    "    (master_df['Player']=='Gordon')\n",
    ", 'E_Gordon'\n",
    ", master_df['Player']\n",
    ")"
   ]
  },
  {
   "cell_type": "code",
   "execution_count": 54,
   "metadata": {
    "ExecuteTime": {
     "end_time": "2020-11-29T01:58:28.428698Z",
     "start_time": "2020-11-29T01:58:28.422767Z"
    }
   },
   "outputs": [
    {
     "data": {
      "text/plain": [
       "array(['Toronto Raptors', 'Golden State Warriors'], dtype=object)"
      ]
     },
     "execution_count": 54,
     "metadata": {},
     "output_type": "execute_result"
    }
   ],
   "source": [
    "master_df[master_df['Player']=='Green']['Team'].unique()"
   ]
  },
  {
   "cell_type": "code",
   "execution_count": 55,
   "metadata": {
    "ExecuteTime": {
     "end_time": "2020-11-29T01:58:28.812902Z",
     "start_time": "2020-11-29T01:58:28.806962Z"
    }
   },
   "outputs": [],
   "source": [
    "master_df['Player'] = np.where(\n",
    "    (master_df['Team']=='Toronto Raptors')\n",
    "    &\n",
    "    (master_df['Player']=='Green')\n",
    ", 'D_Green'\n",
    ", master_df['Player']\n",
    ")"
   ]
  },
  {
   "cell_type": "code",
   "execution_count": 56,
   "metadata": {
    "ExecuteTime": {
     "end_time": "2020-11-29T01:58:29.074701Z",
     "start_time": "2020-11-29T01:58:29.069548Z"
    }
   },
   "outputs": [],
   "source": [
    "master_df['Player'] = np.where(\n",
    "    (master_df['Team']=='Golden State Warriors')\n",
    "    &\n",
    "    (master_df['Player']=='Green')\n",
    ", 'Green'\n",
    ", master_df['Player']\n",
    ")"
   ]
  },
  {
   "cell_type": "code",
   "execution_count": 57,
   "metadata": {
    "ExecuteTime": {
     "end_time": "2020-11-29T01:58:29.686922Z",
     "start_time": "2020-11-29T01:58:29.674999Z"
    }
   },
   "outputs": [
    {
     "data": {
      "text/html": [
       "<div>\n",
       "<style scoped>\n",
       "    .dataframe tbody tr th:only-of-type {\n",
       "        vertical-align: middle;\n",
       "    }\n",
       "\n",
       "    .dataframe tbody tr th {\n",
       "        vertical-align: top;\n",
       "    }\n",
       "\n",
       "    .dataframe thead th {\n",
       "        text-align: right;\n",
       "    }\n",
       "</style>\n",
       "<table border=\"1\" class=\"dataframe\">\n",
       "  <thead>\n",
       "    <tr style=\"text-align: right;\">\n",
       "      <th></th>\n",
       "      <th>Player</th>\n",
       "      <th>Duplicates</th>\n",
       "    </tr>\n",
       "  </thead>\n",
       "  <tbody>\n",
       "    <tr>\n",
       "      <th>0</th>\n",
       "      <td>A_Gordon</td>\n",
       "      <td>1</td>\n",
       "    </tr>\n",
       "    <tr>\n",
       "      <th>94</th>\n",
       "      <td>Lowry</td>\n",
       "      <td>1</td>\n",
       "    </tr>\n",
       "    <tr>\n",
       "      <th>96</th>\n",
       "      <td>Matthews</td>\n",
       "      <td>1</td>\n",
       "    </tr>\n",
       "    <tr>\n",
       "      <th>97</th>\n",
       "      <td>Maurice harkless</td>\n",
       "      <td>1</td>\n",
       "    </tr>\n",
       "    <tr>\n",
       "      <th>98</th>\n",
       "      <td>Mcgee</td>\n",
       "      <td>1</td>\n",
       "    </tr>\n",
       "    <tr>\n",
       "      <th>99</th>\n",
       "      <td>Mcgruder</td>\n",
       "      <td>1</td>\n",
       "    </tr>\n",
       "    <tr>\n",
       "      <th>100</th>\n",
       "      <td>Middleton</td>\n",
       "      <td>1</td>\n",
       "    </tr>\n",
       "    <tr>\n",
       "      <th>101</th>\n",
       "      <td>Mirotic</td>\n",
       "      <td>1</td>\n",
       "    </tr>\n",
       "  </tbody>\n",
       "</table>\n",
       "</div>"
      ],
      "text/plain": [
       "               Player  Duplicates\n",
       "0            A_Gordon           1\n",
       "94              Lowry           1\n",
       "96           Matthews           1\n",
       "97   Maurice harkless           1\n",
       "98              Mcgee           1\n",
       "99           Mcgruder           1\n",
       "100         Middleton           1\n",
       "101           Mirotic           1"
      ]
     },
     "execution_count": 57,
     "metadata": {},
     "output_type": "execute_result"
    }
   ],
   "source": [
    "# This may be cause by same name\n",
    "master_df.groupby('Player')['Team'].nunique().reset_index(name='Duplicates').sort_values(by='Duplicates',ascending=False).head(8)"
   ]
  },
  {
   "cell_type": "code",
   "execution_count": 58,
   "metadata": {
    "ExecuteTime": {
     "end_time": "2020-11-29T01:58:30.048572Z",
     "start_time": "2020-11-29T01:58:30.044048Z"
    }
   },
   "outputs": [
    {
     "data": {
      "text/plain": [
       "30"
      ]
     },
     "execution_count": 58,
     "metadata": {},
     "output_type": "execute_result"
    }
   ],
   "source": [
    "master_df['Team'].nunique()"
   ]
  },
  {
   "cell_type": "code",
   "execution_count": 59,
   "metadata": {
    "ExecuteTime": {
     "end_time": "2020-11-29T01:58:30.547141Z",
     "start_time": "2020-11-29T01:58:30.540023Z"
    }
   },
   "outputs": [
    {
     "data": {
      "text/plain": [
       "Position\n",
       "C     30\n",
       "F     60\n",
       "PG    30\n",
       "SG    30\n",
       "Name: Player, dtype: int64"
      ]
     },
     "execution_count": 59,
     "metadata": {},
     "output_type": "execute_result"
    }
   ],
   "source": [
    "master_df.groupby('Position')['Player'].nunique()"
   ]
  },
  {
   "cell_type": "markdown",
   "metadata": {},
   "source": [
    "    All good with duplicates and positions "
   ]
  },
  {
   "cell_type": "markdown",
   "metadata": {},
   "source": [
    "### Check Nulls "
   ]
  },
  {
   "cell_type": "code",
   "execution_count": 60,
   "metadata": {
    "ExecuteTime": {
     "end_time": "2020-11-29T01:58:34.891142Z",
     "start_time": "2020-11-29T01:58:34.881407Z"
    }
   },
   "outputs": [
    {
     "data": {
      "text/html": [
       "<div>\n",
       "<style scoped>\n",
       "    .dataframe tbody tr th:only-of-type {\n",
       "        vertical-align: middle;\n",
       "    }\n",
       "\n",
       "    .dataframe tbody tr th {\n",
       "        vertical-align: top;\n",
       "    }\n",
       "\n",
       "    .dataframe thead th {\n",
       "        text-align: right;\n",
       "    }\n",
       "</style>\n",
       "<table border=\"1\" class=\"dataframe\">\n",
       "  <thead>\n",
       "    <tr style=\"text-align: right;\">\n",
       "      <th></th>\n",
       "      <th>Player</th>\n",
       "      <th>Position</th>\n",
       "      <th>Team</th>\n",
       "      <th>Date</th>\n",
       "      <th>Opp</th>\n",
       "      <th>Fantasy_Score</th>\n",
       "      <th>predictions_2019</th>\n",
       "    </tr>\n",
       "  </thead>\n",
       "  <tbody>\n",
       "    <tr>\n",
       "      <th>0</th>\n",
       "      <td>Allen</td>\n",
       "      <td>C</td>\n",
       "      <td>Brooklyn Nets</td>\n",
       "      <td>2018-10-19</td>\n",
       "      <td>NYK</td>\n",
       "      <td>15</td>\n",
       "      <td>8.693321</td>\n",
       "    </tr>\n",
       "  </tbody>\n",
       "</table>\n",
       "</div>"
      ],
      "text/plain": [
       "  Player Position           Team        Date  Opp  Fantasy_Score  \\\n",
       "0  Allen        C  Brooklyn Nets  2018-10-19  NYK             15   \n",
       "\n",
       "   predictions_2019  \n",
       "0          8.693321  "
      ]
     },
     "execution_count": 60,
     "metadata": {},
     "output_type": "execute_result"
    }
   ],
   "source": [
    "master_df.head(1)"
   ]
  },
  {
   "cell_type": "code",
   "execution_count": 61,
   "metadata": {
    "ExecuteTime": {
     "end_time": "2020-11-29T01:58:35.071843Z",
     "start_time": "2020-11-29T01:58:35.063989Z"
    }
   },
   "outputs": [
    {
     "data": {
      "text/plain": [
       "Player              0\n",
       "Position            0\n",
       "Team                0\n",
       "Date                0\n",
       "Opp                 0\n",
       "Fantasy_Score       0\n",
       "predictions_2019    0\n",
       "dtype: int64"
      ]
     },
     "execution_count": 61,
     "metadata": {},
     "output_type": "execute_result"
    }
   ],
   "source": [
    "master_df.isnull().sum()"
   ]
  },
  {
   "cell_type": "markdown",
   "metadata": {},
   "source": [
    "# Collect Accuracy"
   ]
  },
  {
   "cell_type": "code",
   "execution_count": 62,
   "metadata": {
    "ExecuteTime": {
     "end_time": "2020-11-29T01:58:36.952282Z",
     "start_time": "2020-11-29T01:58:36.949285Z"
    }
   },
   "outputs": [],
   "source": [
    "accuracy_df = master_df.copy()"
   ]
  },
  {
   "cell_type": "code",
   "execution_count": 63,
   "metadata": {
    "ExecuteTime": {
     "end_time": "2020-11-29T01:58:37.185386Z",
     "start_time": "2020-11-29T01:58:37.180507Z"
    }
   },
   "outputs": [],
   "source": [
    "accuracy_df['abs_error'] = abs(accuracy_df['Fantasy_Score']-accuracy_df['predictions_2019'])"
   ]
  },
  {
   "cell_type": "code",
   "execution_count": 64,
   "metadata": {
    "ExecuteTime": {
     "end_time": "2020-11-29T01:58:37.413135Z",
     "start_time": "2020-11-29T01:58:37.409042Z"
    }
   },
   "outputs": [],
   "source": [
    "accuracy_df['error'] = 100 * (accuracy_df['abs_error']/accuracy_df['Fantasy_Score'])"
   ]
  },
  {
   "cell_type": "code",
   "execution_count": 65,
   "metadata": {
    "ExecuteTime": {
     "end_time": "2020-11-29T01:58:37.621121Z",
     "start_time": "2020-11-29T01:58:37.616883Z"
    }
   },
   "outputs": [
    {
     "data": {
      "text/plain": [
       "(10271, 9)"
      ]
     },
     "execution_count": 65,
     "metadata": {},
     "output_type": "execute_result"
    }
   ],
   "source": [
    "accuracy_df.shape"
   ]
  },
  {
   "cell_type": "code",
   "execution_count": 66,
   "metadata": {
    "ExecuteTime": {
     "end_time": "2020-11-29T01:58:37.853826Z",
     "start_time": "2020-11-29T01:58:37.847610Z"
    }
   },
   "outputs": [
    {
     "data": {
      "text/plain": [
       "(246, 9)"
      ]
     },
     "execution_count": 66,
     "metadata": {},
     "output_type": "execute_result"
    }
   ],
   "source": [
    "accuracy_df[accuracy_df['Fantasy_Score']==0].shape"
   ]
  },
  {
   "cell_type": "code",
   "execution_count": 67,
   "metadata": {
    "ExecuteTime": {
     "end_time": "2020-11-29T01:58:38.089556Z",
     "start_time": "2020-11-29T01:58:38.077816Z"
    }
   },
   "outputs": [
    {
     "data": {
      "text/html": [
       "<div>\n",
       "<style scoped>\n",
       "    .dataframe tbody tr th:only-of-type {\n",
       "        vertical-align: middle;\n",
       "    }\n",
       "\n",
       "    .dataframe tbody tr th {\n",
       "        vertical-align: top;\n",
       "    }\n",
       "\n",
       "    .dataframe thead th {\n",
       "        text-align: right;\n",
       "    }\n",
       "</style>\n",
       "<table border=\"1\" class=\"dataframe\">\n",
       "  <thead>\n",
       "    <tr style=\"text-align: right;\">\n",
       "      <th></th>\n",
       "      <th>Player</th>\n",
       "      <th>Position</th>\n",
       "      <th>Team</th>\n",
       "      <th>Date</th>\n",
       "      <th>Opp</th>\n",
       "      <th>Fantasy_Score</th>\n",
       "      <th>predictions_2019</th>\n",
       "      <th>abs_error</th>\n",
       "      <th>error</th>\n",
       "    </tr>\n",
       "  </thead>\n",
       "  <tbody>\n",
       "    <tr>\n",
       "      <th>386</th>\n",
       "      <td>Batum</td>\n",
       "      <td>SG</td>\n",
       "      <td>Charlotte Hornets</td>\n",
       "      <td>2018-11-17</td>\n",
       "      <td>PHI</td>\n",
       "      <td>0</td>\n",
       "      <td>17.563246</td>\n",
       "      <td>17.563246</td>\n",
       "      <td>inf</td>\n",
       "    </tr>\n",
       "  </tbody>\n",
       "</table>\n",
       "</div>"
      ],
      "text/plain": [
       "    Player Position               Team        Date  Opp  Fantasy_Score  \\\n",
       "386  Batum       SG  Charlotte Hornets  2018-11-17  PHI              0   \n",
       "\n",
       "     predictions_2019  abs_error  error  \n",
       "386         17.563246  17.563246    inf  "
      ]
     },
     "execution_count": 67,
     "metadata": {},
     "output_type": "execute_result"
    }
   ],
   "source": [
    "accuracy_df[accuracy_df['Fantasy_Score']==0].head(1)"
   ]
  },
  {
   "cell_type": "code",
   "execution_count": 68,
   "metadata": {
    "ExecuteTime": {
     "end_time": "2020-11-29T01:58:38.296078Z",
     "start_time": "2020-11-29T01:58:38.292263Z"
    }
   },
   "outputs": [],
   "source": [
    "accuracy_df['error'] = np.where(accuracy_df['Fantasy_Score']==0,accuracy_df['abs_error'],accuracy_df['error'])"
   ]
  },
  {
   "cell_type": "code",
   "execution_count": 69,
   "metadata": {
    "ExecuteTime": {
     "end_time": "2020-11-29T01:58:38.524993Z",
     "start_time": "2020-11-29T01:58:38.522781Z"
    }
   },
   "outputs": [],
   "source": [
    "# accuracy_df = accuracy_df[accuracy_df['Fantasy_Score']!=0]"
   ]
  },
  {
   "cell_type": "code",
   "execution_count": 70,
   "metadata": {
    "ExecuteTime": {
     "end_time": "2020-11-29T01:58:38.772385Z",
     "start_time": "2020-11-29T01:58:38.768489Z"
    }
   },
   "outputs": [],
   "source": [
    "accuracy_df['Accuracy'] = 100 - accuracy_df['error']"
   ]
  },
  {
   "cell_type": "code",
   "execution_count": 71,
   "metadata": {
    "ExecuteTime": {
     "end_time": "2020-11-29T01:58:39.018670Z",
     "start_time": "2020-11-29T01:58:39.013570Z"
    }
   },
   "outputs": [],
   "source": [
    "accuracy_df = accuracy_df[accuracy_df['Fantasy_Score']!=0]"
   ]
  },
  {
   "cell_type": "code",
   "execution_count": 72,
   "metadata": {
    "ExecuteTime": {
     "end_time": "2020-11-29T01:58:39.232569Z",
     "start_time": "2020-11-29T01:58:39.226611Z"
    },
    "scrolled": true
   },
   "outputs": [
    {
     "data": {
      "text/plain": [
       "64.235605486037"
      ]
     },
     "execution_count": 72,
     "metadata": {},
     "output_type": "execute_result"
    }
   ],
   "source": [
    "np.mean(np.abs((accuracy_df['Fantasy_Score'] - accuracy_df['predictions_2019']) / accuracy_df['Fantasy_Score'])) * 100"
   ]
  },
  {
   "cell_type": "code",
   "execution_count": 73,
   "metadata": {
    "ExecuteTime": {
     "end_time": "2020-11-29T01:58:39.494033Z",
     "start_time": "2020-11-29T01:58:39.488601Z"
    }
   },
   "outputs": [
    {
     "data": {
      "text/plain": [
       "33.974745469894"
      ]
     },
     "execution_count": 73,
     "metadata": {},
     "output_type": "execute_result"
    }
   ],
   "source": [
    "np.median(np.abs((accuracy_df['Fantasy_Score'] - accuracy_df['predictions_2019']) / accuracy_df['Fantasy_Score'])) * 100"
   ]
  },
  {
   "cell_type": "markdown",
   "metadata": {},
   "source": [
    "    MdAPE "
   ]
  },
  {
   "cell_type": "code",
   "execution_count": 74,
   "metadata": {
    "ExecuteTime": {
     "end_time": "2020-11-29T01:58:39.933233Z",
     "start_time": "2020-11-29T01:58:39.927848Z"
    }
   },
   "outputs": [
    {
     "data": {
      "text/plain": [
       "33.974745469894"
      ]
     },
     "execution_count": 74,
     "metadata": {},
     "output_type": "execute_result"
    }
   ],
   "source": [
    "np.median(np.abs((accuracy_df['Fantasy_Score'] - accuracy_df['predictions_2019']) / accuracy_df['Fantasy_Score'])) * 100"
   ]
  },
  {
   "cell_type": "markdown",
   "metadata": {},
   "source": [
    "    MAPE"
   ]
  },
  {
   "cell_type": "code",
   "execution_count": 75,
   "metadata": {
    "ExecuteTime": {
     "end_time": "2020-11-29T01:58:40.412745Z",
     "start_time": "2020-11-29T01:58:40.406968Z"
    }
   },
   "outputs": [
    {
     "data": {
      "text/plain": [
       "64.235605486037"
      ]
     },
     "execution_count": 75,
     "metadata": {},
     "output_type": "execute_result"
    }
   ],
   "source": [
    "np.mean(np.abs((accuracy_df['Fantasy_Score'] - accuracy_df['predictions_2019']) / accuracy_df['Fantasy_Score'])) * 100"
   ]
  },
  {
   "cell_type": "markdown",
   "metadata": {},
   "source": [
    "    Mean Absolute Error "
   ]
  },
  {
   "cell_type": "code",
   "execution_count": 76,
   "metadata": {
    "ExecuteTime": {
     "end_time": "2020-11-29T01:58:40.869936Z",
     "start_time": "2020-11-29T01:58:40.865304Z"
    }
   },
   "outputs": [
    {
     "data": {
      "text/plain": [
       "7.218469198904643"
      ]
     },
     "execution_count": 76,
     "metadata": {},
     "output_type": "execute_result"
    }
   ],
   "source": [
    "accuracy_df['abs_error'].mean()"
   ]
  },
  {
   "cell_type": "code",
   "execution_count": 77,
   "metadata": {
    "ExecuteTime": {
     "end_time": "2020-11-29T01:58:41.511740Z",
     "start_time": "2020-11-29T01:58:41.107621Z"
    }
   },
   "outputs": [],
   "source": [
    "from sklearn.metrics import r2_score"
   ]
  },
  {
   "cell_type": "code",
   "execution_count": 78,
   "metadata": {
    "ExecuteTime": {
     "end_time": "2020-11-29T01:58:41.517960Z",
     "start_time": "2020-11-29T01:58:41.513479Z"
    }
   },
   "outputs": [
    {
     "data": {
      "text/plain": [
       "0.25991292575708036"
      ]
     },
     "execution_count": 78,
     "metadata": {},
     "output_type": "execute_result"
    }
   ],
   "source": [
    "r2_score(accuracy_df['Fantasy_Score'], accuracy_df['predictions_2019'])"
   ]
  },
  {
   "cell_type": "code",
   "execution_count": 79,
   "metadata": {
    "ExecuteTime": {
     "end_time": "2020-11-29T01:58:41.545285Z",
     "start_time": "2020-11-29T01:58:41.542551Z"
    }
   },
   "outputs": [],
   "source": [
    "from sklearn.metrics import mean_squared_error\n",
    "import math\n"
   ]
  },
  {
   "cell_type": "code",
   "execution_count": 80,
   "metadata": {
    "ExecuteTime": {
     "end_time": "2020-11-29T01:58:41.790801Z",
     "start_time": "2020-11-29T01:58:41.784563Z"
    }
   },
   "outputs": [
    {
     "name": "stdout",
     "output_type": "stream",
     "text": [
      "87.5825681388802\n",
      "9.358555878920647\n"
     ]
    }
   ],
   "source": [
    "print(mean_squared_error(accuracy_df['Fantasy_Score'], accuracy_df['predictions_2019']))\n",
    "print(math.sqrt(mean_squared_error(accuracy_df['Fantasy_Score'], accuracy_df['predictions_2019'])))"
   ]
  },
  {
   "cell_type": "code",
   "execution_count": 81,
   "metadata": {
    "ExecuteTime": {
     "end_time": "2020-11-29T01:58:42.047692Z",
     "start_time": "2020-11-29T01:58:42.043395Z"
    }
   },
   "outputs": [
    {
     "name": "stdout",
     "output_type": "stream",
     "text": [
      "7.218469198904643\n"
     ]
    }
   ],
   "source": [
    "from sklearn.metrics import mean_absolute_error\n",
    "print(mean_absolute_error(accuracy_df['Fantasy_Score'], accuracy_df['predictions_2019']))"
   ]
  },
  {
   "cell_type": "markdown",
   "metadata": {},
   "source": [
    "# Run Simulations"
   ]
  },
  {
   "cell_type": "code",
   "execution_count": 82,
   "metadata": {
    "ExecuteTime": {
     "end_time": "2020-11-29T01:58:43.800648Z",
     "start_time": "2020-11-29T01:58:42.524084Z"
    }
   },
   "outputs": [],
   "source": [
    "master_df.to_excel('Final_Master.xlsx')"
   ]
  },
  {
   "cell_type": "code",
   "execution_count": 83,
   "metadata": {
    "ExecuteTime": {
     "end_time": "2020-11-29T01:58:43.813090Z",
     "start_time": "2020-11-29T01:58:43.802857Z"
    }
   },
   "outputs": [
    {
     "data": {
      "text/html": [
       "<div>\n",
       "<style scoped>\n",
       "    .dataframe tbody tr th:only-of-type {\n",
       "        vertical-align: middle;\n",
       "    }\n",
       "\n",
       "    .dataframe tbody tr th {\n",
       "        vertical-align: top;\n",
       "    }\n",
       "\n",
       "    .dataframe thead th {\n",
       "        text-align: right;\n",
       "    }\n",
       "</style>\n",
       "<table border=\"1\" class=\"dataframe\">\n",
       "  <thead>\n",
       "    <tr style=\"text-align: right;\">\n",
       "      <th></th>\n",
       "      <th>Player</th>\n",
       "      <th>Position</th>\n",
       "      <th>Team</th>\n",
       "      <th>Date</th>\n",
       "      <th>Opp</th>\n",
       "      <th>Fantasy_Score</th>\n",
       "      <th>predictions_2019</th>\n",
       "    </tr>\n",
       "  </thead>\n",
       "  <tbody>\n",
       "    <tr>\n",
       "      <th>0</th>\n",
       "      <td>Allen</td>\n",
       "      <td>C</td>\n",
       "      <td>Brooklyn Nets</td>\n",
       "      <td>2018-10-19</td>\n",
       "      <td>NYK</td>\n",
       "      <td>15</td>\n",
       "      <td>8.693321</td>\n",
       "    </tr>\n",
       "  </tbody>\n",
       "</table>\n",
       "</div>"
      ],
      "text/plain": [
       "  Player Position           Team        Date  Opp  Fantasy_Score  \\\n",
       "0  Allen        C  Brooklyn Nets  2018-10-19  NYK             15   \n",
       "\n",
       "   predictions_2019  \n",
       "0          8.693321  "
      ]
     },
     "execution_count": 83,
     "metadata": {},
     "output_type": "execute_result"
    }
   ],
   "source": [
    "master_df.head(1)"
   ]
  },
  {
   "cell_type": "code",
   "execution_count": 84,
   "metadata": {
    "ExecuteTime": {
     "end_time": "2020-11-29T01:58:43.839981Z",
     "start_time": "2020-11-29T01:58:43.814821Z"
    }
   },
   "outputs": [
    {
     "data": {
      "text/html": [
       "<div>\n",
       "<style scoped>\n",
       "    .dataframe tbody tr th:only-of-type {\n",
       "        vertical-align: middle;\n",
       "    }\n",
       "\n",
       "    .dataframe tbody tr th {\n",
       "        vertical-align: top;\n",
       "    }\n",
       "\n",
       "    .dataframe thead th {\n",
       "        text-align: right;\n",
       "    }\n",
       "</style>\n",
       "<table border=\"1\" class=\"dataframe\">\n",
       "  <thead>\n",
       "    <tr style=\"text-align: right;\">\n",
       "      <th></th>\n",
       "      <th>Team</th>\n",
       "      <th>Opp</th>\n",
       "      <th>Date</th>\n",
       "    </tr>\n",
       "  </thead>\n",
       "  <tbody>\n",
       "    <tr>\n",
       "      <th>0</th>\n",
       "      <td>Atlanta Hawks</td>\n",
       "      <td>BOS</td>\n",
       "      <td>4</td>\n",
       "    </tr>\n",
       "    <tr>\n",
       "      <th>1</th>\n",
       "      <td>Atlanta Hawks</td>\n",
       "      <td>BRK</td>\n",
       "      <td>3</td>\n",
       "    </tr>\n",
       "    <tr>\n",
       "      <th>2</th>\n",
       "      <td>Atlanta Hawks</td>\n",
       "      <td>CHI</td>\n",
       "      <td>4</td>\n",
       "    </tr>\n",
       "    <tr>\n",
       "      <th>3</th>\n",
       "      <td>Atlanta Hawks</td>\n",
       "      <td>CHO</td>\n",
       "      <td>4</td>\n",
       "    </tr>\n",
       "    <tr>\n",
       "      <th>4</th>\n",
       "      <td>Atlanta Hawks</td>\n",
       "      <td>CLE</td>\n",
       "      <td>3</td>\n",
       "    </tr>\n",
       "    <tr>\n",
       "      <th>5</th>\n",
       "      <td>Atlanta Hawks</td>\n",
       "      <td>DAL</td>\n",
       "      <td>2</td>\n",
       "    </tr>\n",
       "    <tr>\n",
       "      <th>6</th>\n",
       "      <td>Atlanta Hawks</td>\n",
       "      <td>DEN</td>\n",
       "      <td>2</td>\n",
       "    </tr>\n",
       "    <tr>\n",
       "      <th>7</th>\n",
       "      <td>Atlanta Hawks</td>\n",
       "      <td>DET</td>\n",
       "      <td>3</td>\n",
       "    </tr>\n",
       "    <tr>\n",
       "      <th>8</th>\n",
       "      <td>Atlanta Hawks</td>\n",
       "      <td>GSW</td>\n",
       "      <td>2</td>\n",
       "    </tr>\n",
       "    <tr>\n",
       "      <th>9</th>\n",
       "      <td>Atlanta Hawks</td>\n",
       "      <td>HOU</td>\n",
       "      <td>2</td>\n",
       "    </tr>\n",
       "  </tbody>\n",
       "</table>\n",
       "</div>"
      ],
      "text/plain": [
       "            Team  Opp  Date\n",
       "0  Atlanta Hawks  BOS     4\n",
       "1  Atlanta Hawks  BRK     3\n",
       "2  Atlanta Hawks  CHI     4\n",
       "3  Atlanta Hawks  CHO     4\n",
       "4  Atlanta Hawks  CLE     3\n",
       "5  Atlanta Hawks  DAL     2\n",
       "6  Atlanta Hawks  DEN     2\n",
       "7  Atlanta Hawks  DET     3\n",
       "8  Atlanta Hawks  GSW     2\n",
       "9  Atlanta Hawks  HOU     2"
      ]
     },
     "execution_count": 84,
     "metadata": {},
     "output_type": "execute_result"
    }
   ],
   "source": [
    "master_df.groupby(['Team','Opp'])['Date'].nunique().reset_index().head(10)"
   ]
  },
  {
   "cell_type": "code",
   "execution_count": 85,
   "metadata": {
    "ExecuteTime": {
     "end_time": "2020-11-29T01:58:45.041677Z",
     "start_time": "2020-11-29T01:58:45.037045Z"
    }
   },
   "outputs": [],
   "source": [
    "team_map = {\n",
    "    \"BRK\":'Brooklyn Nets',\n",
    "    \"MIL\":'Milwaukee Bucks',\n",
    "    \"WAS\":'Washington Wizards',\n",
    "    \"ORL\":'Orlando Magic',\n",
    "    \"CHO\":'Charlotte Hornets',\n",
    "    \"ATL\":'Atlanta Hawks',\n",
    "    \"IND\":'Indiana Pacers',\n",
    "    \"DET\":'Detroit Pistons',\n",
    "    \"PHI\":'Philadelphia 76ers',\n",
    "    \"CHI\":'Chicago Bulls',\n",
    "    \"TOR\":'Toronto Raptors',\n",
    "    \"NYK\":'New York Knicks',\n",
    "    \"CLE\":'Cleveland Cavaliers',\n",
    "    \"BOS\":'Boston Celtics',\n",
    "    \"MIA\":'Miami Heat',\n",
    "    \"POR\":'Portland Trail Blazers',\n",
    "    \"MIN\":'Minnesota Timberwolves',\n",
    "    \"UTA\":'Utah Jazz',\n",
    "    \"DEN\":'Denver Nuggets',\n",
    "    \"OKC\":'Oklahoma City Thunder',\n",
    "    \"SAS\":'San Antonio Spurs',\n",
    "    \"MEM\":'Memphis Grizzlies',\n",
    "    \"LAL\":'Los Angeles Lakers',\n",
    "    \"DAL\":'Dallas Mavericks',\n",
    "    \"PHO\":'Phoenix Suns',\n",
    "    \"LAC\":'Los Angeles Clippers',\n",
    "    \"SAC\":'Sacramento Kings',\n",
    "    \"HOU\":'Houston Rockets',\n",
    "    \"GSW\":'Golden State Warriors',\n",
    "    \"NOP\":'New Orleans Pelicans'\n",
    "}"
   ]
  },
  {
   "cell_type": "code",
   "execution_count": 86,
   "metadata": {
    "ExecuteTime": {
     "end_time": "2020-11-29T01:58:45.321805Z",
     "start_time": "2020-11-29T01:58:45.316425Z"
    }
   },
   "outputs": [],
   "source": [
    "master_df['Opp'] = master_df['Opp'].map(team_map)"
   ]
  },
  {
   "cell_type": "code",
   "execution_count": 87,
   "metadata": {
    "ExecuteTime": {
     "end_time": "2020-11-29T01:58:47.153256Z",
     "start_time": "2020-11-29T01:58:47.138317Z"
    }
   },
   "outputs": [
    {
     "data": {
      "text/html": [
       "<div>\n",
       "<style scoped>\n",
       "    .dataframe tbody tr th:only-of-type {\n",
       "        vertical-align: middle;\n",
       "    }\n",
       "\n",
       "    .dataframe tbody tr th {\n",
       "        vertical-align: top;\n",
       "    }\n",
       "\n",
       "    .dataframe thead th {\n",
       "        text-align: right;\n",
       "    }\n",
       "</style>\n",
       "<table border=\"1\" class=\"dataframe\">\n",
       "  <thead>\n",
       "    <tr style=\"text-align: right;\">\n",
       "      <th></th>\n",
       "      <th>Team</th>\n",
       "      <th>Opp</th>\n",
       "      <th>Date</th>\n",
       "    </tr>\n",
       "  </thead>\n",
       "  <tbody>\n",
       "    <tr>\n",
       "      <th>0</th>\n",
       "      <td>Atlanta Hawks</td>\n",
       "      <td>Boston Celtics</td>\n",
       "      <td>4</td>\n",
       "    </tr>\n",
       "    <tr>\n",
       "      <th>1</th>\n",
       "      <td>Atlanta Hawks</td>\n",
       "      <td>Brooklyn Nets</td>\n",
       "      <td>3</td>\n",
       "    </tr>\n",
       "    <tr>\n",
       "      <th>2</th>\n",
       "      <td>Atlanta Hawks</td>\n",
       "      <td>Charlotte Hornets</td>\n",
       "      <td>4</td>\n",
       "    </tr>\n",
       "    <tr>\n",
       "      <th>3</th>\n",
       "      <td>Atlanta Hawks</td>\n",
       "      <td>Chicago Bulls</td>\n",
       "      <td>4</td>\n",
       "    </tr>\n",
       "    <tr>\n",
       "      <th>4</th>\n",
       "      <td>Atlanta Hawks</td>\n",
       "      <td>Cleveland Cavaliers</td>\n",
       "      <td>3</td>\n",
       "    </tr>\n",
       "    <tr>\n",
       "      <th>5</th>\n",
       "      <td>Atlanta Hawks</td>\n",
       "      <td>Dallas Mavericks</td>\n",
       "      <td>2</td>\n",
       "    </tr>\n",
       "    <tr>\n",
       "      <th>6</th>\n",
       "      <td>Atlanta Hawks</td>\n",
       "      <td>Denver Nuggets</td>\n",
       "      <td>2</td>\n",
       "    </tr>\n",
       "    <tr>\n",
       "      <th>7</th>\n",
       "      <td>Atlanta Hawks</td>\n",
       "      <td>Detroit Pistons</td>\n",
       "      <td>3</td>\n",
       "    </tr>\n",
       "    <tr>\n",
       "      <th>8</th>\n",
       "      <td>Atlanta Hawks</td>\n",
       "      <td>Golden State Warriors</td>\n",
       "      <td>2</td>\n",
       "    </tr>\n",
       "    <tr>\n",
       "      <th>9</th>\n",
       "      <td>Atlanta Hawks</td>\n",
       "      <td>Houston Rockets</td>\n",
       "      <td>2</td>\n",
       "    </tr>\n",
       "  </tbody>\n",
       "</table>\n",
       "</div>"
      ],
      "text/plain": [
       "            Team                    Opp  Date\n",
       "0  Atlanta Hawks         Boston Celtics     4\n",
       "1  Atlanta Hawks          Brooklyn Nets     3\n",
       "2  Atlanta Hawks      Charlotte Hornets     4\n",
       "3  Atlanta Hawks          Chicago Bulls     4\n",
       "4  Atlanta Hawks    Cleveland Cavaliers     3\n",
       "5  Atlanta Hawks       Dallas Mavericks     2\n",
       "6  Atlanta Hawks         Denver Nuggets     2\n",
       "7  Atlanta Hawks        Detroit Pistons     3\n",
       "8  Atlanta Hawks  Golden State Warriors     2\n",
       "9  Atlanta Hawks        Houston Rockets     2"
      ]
     },
     "execution_count": 87,
     "metadata": {},
     "output_type": "execute_result"
    }
   ],
   "source": [
    "master_df.groupby(['Team','Opp'])['Date'].nunique().reset_index().head(10)"
   ]
  },
  {
   "cell_type": "code",
   "execution_count": 88,
   "metadata": {
    "ExecuteTime": {
     "end_time": "2020-11-29T01:58:48.970125Z",
     "start_time": "2020-11-29T01:58:48.966674Z"
    }
   },
   "outputs": [],
   "source": [
    "def make_game_key(vec):\n",
    "    team = vec[0]\n",
    "    opp = vec[1]\n",
    "    date = vec[2]\n",
    "    \n",
    "    normalized_teams = sorted([team,opp])\n",
    "    \n",
    "    key = str(normalized_teams)+str(date)\n",
    "    \n",
    "    return key"
   ]
  },
  {
   "cell_type": "code",
   "execution_count": 89,
   "metadata": {
    "ExecuteTime": {
     "end_time": "2020-11-29T01:58:49.271700Z",
     "start_time": "2020-11-29T01:58:49.156490Z"
    }
   },
   "outputs": [],
   "source": [
    "master_df['Game_Key'] = master_df[['Team','Opp','Date']].apply(make_game_key,axis=1)"
   ]
  },
  {
   "cell_type": "code",
   "execution_count": 90,
   "metadata": {
    "ExecuteTime": {
     "end_time": "2020-11-29T01:58:49.360615Z",
     "start_time": "2020-11-29T01:58:49.352100Z"
    }
   },
   "outputs": [],
   "source": [
    "filter_df = master_df.groupby('Game_Key')['Player'].nunique().reset_index(name='Player_Count')"
   ]
  },
  {
   "cell_type": "code",
   "execution_count": 91,
   "metadata": {
    "ExecuteTime": {
     "end_time": "2020-11-29T01:58:49.558298Z",
     "start_time": "2020-11-29T01:58:49.554435Z"
    }
   },
   "outputs": [],
   "source": [
    "filter_df['Keep'] = np.where(filter_df['Player_Count']>=8,True,False)"
   ]
  },
  {
   "cell_type": "code",
   "execution_count": 92,
   "metadata": {
    "ExecuteTime": {
     "end_time": "2020-11-29T01:58:49.759114Z",
     "start_time": "2020-11-29T01:58:49.755134Z"
    }
   },
   "outputs": [
    {
     "data": {
      "text/plain": [
       "(2421, 3)"
      ]
     },
     "execution_count": 92,
     "metadata": {},
     "output_type": "execute_result"
    }
   ],
   "source": [
    "# Number of games (according to our data)\n",
    "filter_df.shape"
   ]
  },
  {
   "cell_type": "code",
   "execution_count": 93,
   "metadata": {
    "ExecuteTime": {
     "end_time": "2020-11-29T01:58:49.991845Z",
     "start_time": "2020-11-29T01:58:49.982689Z"
    }
   },
   "outputs": [
    {
     "data": {
      "text/html": [
       "<div>\n",
       "<style scoped>\n",
       "    .dataframe tbody tr th:only-of-type {\n",
       "        vertical-align: middle;\n",
       "    }\n",
       "\n",
       "    .dataframe tbody tr th {\n",
       "        vertical-align: top;\n",
       "    }\n",
       "\n",
       "    .dataframe thead th {\n",
       "        text-align: right;\n",
       "    }\n",
       "</style>\n",
       "<table border=\"1\" class=\"dataframe\">\n",
       "  <thead>\n",
       "    <tr style=\"text-align: right;\">\n",
       "      <th></th>\n",
       "      <th>Keep</th>\n",
       "      <th>0</th>\n",
       "    </tr>\n",
       "  </thead>\n",
       "  <tbody>\n",
       "    <tr>\n",
       "      <th>0</th>\n",
       "      <td>False</td>\n",
       "      <td>2022</td>\n",
       "    </tr>\n",
       "    <tr>\n",
       "      <th>1</th>\n",
       "      <td>True</td>\n",
       "      <td>399</td>\n",
       "    </tr>\n",
       "  </tbody>\n",
       "</table>\n",
       "</div>"
      ],
      "text/plain": [
       "    Keep     0\n",
       "0  False  2022\n",
       "1   True   399"
      ]
     },
     "execution_count": 93,
     "metadata": {},
     "output_type": "execute_result"
    }
   ],
   "source": [
    "filter_df.groupby('Keep').size().reset_index()"
   ]
  },
  {
   "cell_type": "code",
   "execution_count": 94,
   "metadata": {
    "ExecuteTime": {
     "end_time": "2020-11-29T01:58:50.156412Z",
     "start_time": "2020-11-29T01:58:50.153135Z"
    }
   },
   "outputs": [],
   "source": [
    "# For Now, we will need to use only the True Games\n",
    "filter_df = filter_df[filter_df['Keep']==True]"
   ]
  },
  {
   "cell_type": "code",
   "execution_count": 95,
   "metadata": {
    "ExecuteTime": {
     "end_time": "2020-11-29T01:58:50.376768Z",
     "start_time": "2020-11-29T01:58:50.368667Z"
    }
   },
   "outputs": [
    {
     "data": {
      "text/html": [
       "<div>\n",
       "<style scoped>\n",
       "    .dataframe tbody tr th:only-of-type {\n",
       "        vertical-align: middle;\n",
       "    }\n",
       "\n",
       "    .dataframe tbody tr th {\n",
       "        vertical-align: top;\n",
       "    }\n",
       "\n",
       "    .dataframe thead th {\n",
       "        text-align: right;\n",
       "    }\n",
       "</style>\n",
       "<table border=\"1\" class=\"dataframe\">\n",
       "  <thead>\n",
       "    <tr style=\"text-align: right;\">\n",
       "      <th></th>\n",
       "      <th>Game_Key</th>\n",
       "      <th>Player_Count</th>\n",
       "      <th>Keep</th>\n",
       "    </tr>\n",
       "  </thead>\n",
       "  <tbody>\n",
       "    <tr>\n",
       "      <th>0</th>\n",
       "      <td>['Atlanta Hawks', 'Boston Celtics']2018-11-23</td>\n",
       "      <td>9</td>\n",
       "      <td>True</td>\n",
       "    </tr>\n",
       "    <tr>\n",
       "      <th>1</th>\n",
       "      <td>['Atlanta Hawks', 'Boston Celtics']2018-12-14</td>\n",
       "      <td>8</td>\n",
       "      <td>True</td>\n",
       "    </tr>\n",
       "    <tr>\n",
       "      <th>2</th>\n",
       "      <td>['Atlanta Hawks', 'Boston Celtics']2019-01-19</td>\n",
       "      <td>9</td>\n",
       "      <td>True</td>\n",
       "    </tr>\n",
       "    <tr>\n",
       "      <th>3</th>\n",
       "      <td>['Atlanta Hawks', 'Boston Celtics']2019-03-16</td>\n",
       "      <td>10</td>\n",
       "      <td>True</td>\n",
       "    </tr>\n",
       "    <tr>\n",
       "      <th>4</th>\n",
       "      <td>['Atlanta Hawks', 'Brooklyn Nets']2018-12-16</td>\n",
       "      <td>8</td>\n",
       "      <td>True</td>\n",
       "    </tr>\n",
       "  </tbody>\n",
       "</table>\n",
       "</div>"
      ],
      "text/plain": [
       "                                        Game_Key  Player_Count  Keep\n",
       "0  ['Atlanta Hawks', 'Boston Celtics']2018-11-23             9  True\n",
       "1  ['Atlanta Hawks', 'Boston Celtics']2018-12-14             8  True\n",
       "2  ['Atlanta Hawks', 'Boston Celtics']2019-01-19             9  True\n",
       "3  ['Atlanta Hawks', 'Boston Celtics']2019-03-16            10  True\n",
       "4   ['Atlanta Hawks', 'Brooklyn Nets']2018-12-16             8  True"
      ]
     },
     "execution_count": 95,
     "metadata": {},
     "output_type": "execute_result"
    }
   ],
   "source": [
    "filter_df.head()"
   ]
  },
  {
   "cell_type": "code",
   "execution_count": 96,
   "metadata": {
    "ExecuteTime": {
     "end_time": "2020-11-29T01:58:51.577993Z",
     "start_time": "2020-11-29T01:58:51.567402Z"
    }
   },
   "outputs": [
    {
     "data": {
      "text/html": [
       "<div>\n",
       "<style scoped>\n",
       "    .dataframe tbody tr th:only-of-type {\n",
       "        vertical-align: middle;\n",
       "    }\n",
       "\n",
       "    .dataframe tbody tr th {\n",
       "        vertical-align: top;\n",
       "    }\n",
       "\n",
       "    .dataframe thead th {\n",
       "        text-align: right;\n",
       "    }\n",
       "</style>\n",
       "<table border=\"1\" class=\"dataframe\">\n",
       "  <thead>\n",
       "    <tr style=\"text-align: right;\">\n",
       "      <th></th>\n",
       "      <th>Player</th>\n",
       "      <th>Position</th>\n",
       "      <th>Team</th>\n",
       "      <th>Date</th>\n",
       "      <th>Opp</th>\n",
       "      <th>Fantasy_Score</th>\n",
       "      <th>predictions_2019</th>\n",
       "      <th>Game_Key</th>\n",
       "    </tr>\n",
       "  </thead>\n",
       "  <tbody>\n",
       "    <tr>\n",
       "      <th>0</th>\n",
       "      <td>Allen</td>\n",
       "      <td>C</td>\n",
       "      <td>Brooklyn Nets</td>\n",
       "      <td>2018-10-19</td>\n",
       "      <td>New York Knicks</td>\n",
       "      <td>15</td>\n",
       "      <td>8.693321</td>\n",
       "      <td>['Brooklyn Nets', 'New York Knicks']2018-10-19</td>\n",
       "    </tr>\n",
       "  </tbody>\n",
       "</table>\n",
       "</div>"
      ],
      "text/plain": [
       "  Player Position           Team        Date              Opp  Fantasy_Score  \\\n",
       "0  Allen        C  Brooklyn Nets  2018-10-19  New York Knicks             15   \n",
       "\n",
       "   predictions_2019                                        Game_Key  \n",
       "0          8.693321  ['Brooklyn Nets', 'New York Knicks']2018-10-19  "
      ]
     },
     "execution_count": 96,
     "metadata": {},
     "output_type": "execute_result"
    }
   ],
   "source": [
    "master_df.head(1)"
   ]
  },
  {
   "cell_type": "code",
   "execution_count": 97,
   "metadata": {
    "ExecuteTime": {
     "end_time": "2020-11-29T01:58:52.108275Z",
     "start_time": "2020-11-29T01:58:52.104407Z"
    }
   },
   "outputs": [
    {
     "data": {
      "text/plain": [
       "(10271, 8)"
      ]
     },
     "execution_count": 97,
     "metadata": {},
     "output_type": "execute_result"
    }
   ],
   "source": [
    "master_df.shape"
   ]
  },
  {
   "cell_type": "code",
   "execution_count": 98,
   "metadata": {
    "ExecuteTime": {
     "end_time": "2020-11-29T01:58:52.656955Z",
     "start_time": "2020-11-29T01:58:52.650399Z"
    }
   },
   "outputs": [],
   "source": [
    "master_df = master_df[master_df['Game_Key'].isin(filter_df['Game_Key'].unique())]"
   ]
  },
  {
   "cell_type": "code",
   "execution_count": 99,
   "metadata": {
    "ExecuteTime": {
     "end_time": "2020-11-29T01:58:53.545558Z",
     "start_time": "2020-11-29T01:58:53.541787Z"
    }
   },
   "outputs": [
    {
     "data": {
      "text/plain": [
       "(3608, 8)"
      ]
     },
     "execution_count": 99,
     "metadata": {},
     "output_type": "execute_result"
    }
   ],
   "source": [
    "master_df.shape"
   ]
  },
  {
   "cell_type": "code",
   "execution_count": 104,
   "metadata": {
    "ExecuteTime": {
     "end_time": "2020-11-29T02:05:58.816175Z",
     "start_time": "2020-11-29T02:05:58.309202Z"
    }
   },
   "outputs": [],
   "source": [
    "master_df.to_excel('For_Dashboard_Master.xlsx')"
   ]
  },
  {
   "cell_type": "code",
   "execution_count": 105,
   "metadata": {
    "ExecuteTime": {
     "end_time": "2020-11-29T02:08:30.326975Z",
     "start_time": "2020-11-29T02:08:30.315686Z"
    }
   },
   "outputs": [
    {
     "data": {
      "text/html": [
       "<div>\n",
       "<style scoped>\n",
       "    .dataframe tbody tr th:only-of-type {\n",
       "        vertical-align: middle;\n",
       "    }\n",
       "\n",
       "    .dataframe tbody tr th {\n",
       "        vertical-align: top;\n",
       "    }\n",
       "\n",
       "    .dataframe thead th {\n",
       "        text-align: right;\n",
       "    }\n",
       "</style>\n",
       "<table border=\"1\" class=\"dataframe\">\n",
       "  <thead>\n",
       "    <tr style=\"text-align: right;\">\n",
       "      <th></th>\n",
       "      <th>Player</th>\n",
       "      <th>Position</th>\n",
       "      <th>Team</th>\n",
       "      <th>Date</th>\n",
       "      <th>Opp</th>\n",
       "      <th>Fantasy_Score</th>\n",
       "      <th>predictions_2019</th>\n",
       "      <th>Game_Key</th>\n",
       "    </tr>\n",
       "  </thead>\n",
       "  <tbody>\n",
       "    <tr>\n",
       "      <th>0</th>\n",
       "      <td>Allen</td>\n",
       "      <td>C</td>\n",
       "      <td>Brooklyn Nets</td>\n",
       "      <td>2018-10-19</td>\n",
       "      <td>New York Knicks</td>\n",
       "      <td>15</td>\n",
       "      <td>8.693321</td>\n",
       "      <td>['Brooklyn Nets', 'New York Knicks']2018-10-19</td>\n",
       "    </tr>\n",
       "  </tbody>\n",
       "</table>\n",
       "</div>"
      ],
      "text/plain": [
       "  Player Position           Team        Date              Opp  Fantasy_Score  \\\n",
       "0  Allen        C  Brooklyn Nets  2018-10-19  New York Knicks             15   \n",
       "\n",
       "   predictions_2019                                        Game_Key  \n",
       "0          8.693321  ['Brooklyn Nets', 'New York Knicks']2018-10-19  "
      ]
     },
     "execution_count": 105,
     "metadata": {},
     "output_type": "execute_result"
    }
   ],
   "source": [
    "master_df.head(1)"
   ]
  },
  {
   "cell_type": "markdown",
   "metadata": {},
   "source": [
    "# Simulate "
   ]
  },
  {
   "cell_type": "code",
   "execution_count": 132,
   "metadata": {
    "ExecuteTime": {
     "end_time": "2020-11-29T02:32:43.392600Z",
     "start_time": "2020-11-29T02:32:43.383847Z"
    }
   },
   "outputs": [],
   "source": [
    "def find_percent(df):\n",
    "    team_usage = {}\n",
    "    for team in df['Team'].unique():\n",
    "        team_usage[team] = 0\n",
    "    positions = {\n",
    "        \"C\":0,\"SG\":0,\"PG\":0,\"F\":0\n",
    "    }\n",
    "    \n",
    "    picked_players = []\n",
    "    \n",
    "    df = df.sort_values(by='predictions_2019',ascending=False)\n",
    "    for index, row in df.iterrows():\n",
    "        player = row['Player']\n",
    "        position = row['Position']\n",
    "        team = row['Team']\n",
    "        \n",
    "        if positions[position]<1:\n",
    "            pass\n",
    "        elif (position=='F')&(positions[position]<2):\n",
    "            pass\n",
    "        else:\n",
    "            continue \n",
    "            \n",
    "        if team_usage[team] >= 3:\n",
    "            continue\n",
    "            \n",
    "        # Mark that we are using this player\n",
    "        positions[position] += 1\n",
    "        team_usage[team] += 1\n",
    "        \n",
    "        picked_players.append(player)\n",
    "        \n",
    "    # ---------\n",
    "        \n",
    "    team_usage = {}\n",
    "    for team in df['Team'].unique():\n",
    "        team_usage[team] = 0\n",
    "    positions = {\n",
    "        \"C\":0,\"SG\":0,\"PG\":0,\"F\":0\n",
    "    }\n",
    "    \n",
    "    best_players = []\n",
    "    \n",
    "    df = df.sort_values(by='Fantasy_Score',ascending=False)\n",
    "    for index, row in df.iterrows():\n",
    "        player = row['Player']\n",
    "        position = row['Position']\n",
    "        team = row['Team']\n",
    "        \n",
    "        if positions[position]<1:\n",
    "            pass\n",
    "        elif (position=='F')&(positions[position]<2):\n",
    "            pass\n",
    "        else:\n",
    "            continue \n",
    "            \n",
    "        if team_usage[team] >= 3:\n",
    "            continue\n",
    "            \n",
    "        # Mark that we are using this player\n",
    "        positions[position] += 1\n",
    "        team_usage[team] += 1\n",
    "        \n",
    "        best_players.append(player)\n",
    "    \n",
    "    print(\"Picks:  \",picked_players)\n",
    "    print(\"Optimal:\",best_players)\n",
    "    \n",
    "    delta = list(set(best_players)-set(picked_players))\n",
    "    \n",
    "    print(\"Delta:  \",delta)\n",
    "    \n",
    "    Percent_Correct = 100-(len(delta)*20)\n",
    "    \n",
    "    print(\"Percent Correct: \",Percent_Correct,\"%\")\n",
    "    \n",
    "    return Percent_Correct"
   ]
  },
  {
   "cell_type": "code",
   "execution_count": 133,
   "metadata": {
    "ExecuteTime": {
     "end_time": "2020-11-29T02:32:45.721950Z",
     "start_time": "2020-11-29T02:32:43.826661Z"
    },
    "collapsed": true
   },
   "outputs": [
    {
     "name": "stdout",
     "output_type": "stream",
     "text": [
      "Picks:   ['Russell', 'Hardaway', 'Hezonja', 'Kanter', 'Harris']\n",
      "Optimal: ['Hardaway', 'Kanter', 'Russell', 'Harris', 'Dudley']\n",
      "Delta:   ['Dudley']\n",
      "Percent Correct:  80 %\n",
      "Picks:   ['Oladipo', 'Turner', 'Russell', 'Bogdanovic', 'Harris']\n",
      "Optimal: ['Oladipo', 'Harris', 'Bogdanovic', 'Collison', 'Allen']\n",
      "Delta:   ['Collison', 'Allen']\n",
      "Percent Correct:  60 %\n",
      "Picks:   ['Russell', 'Love', 'Harris', 'Hood', 'Allen']\n",
      "Optimal: ['Harris', 'Russell', 'Dudley', 'Hood', 'Zizic']\n",
      "Delta:   ['Dudley', 'Zizic']\n",
      "Percent Correct:  60 %\n",
      "Picks:   ['Davis', 'Holiday', 'Mirotic', 'Russell', 'Harris']\n",
      "Optimal: ['Russell', 'Holiday', 'Davis', 'Dudley', 'Mirotic']\n",
      "Delta:   ['Dudley']\n",
      "Percent Correct:  80 %\n",
      "Picks:   ['Hardaway', 'Kanter', 'Russell', 'Hezonja', 'Harris']\n",
      "Optimal: ['Hardaway', 'Russell', 'Harris', 'Kanter', 'Hezonja']\n",
      "Delta:   []\n",
      "Percent Correct:  100 %\n",
      "Picks:   ['Griffin', 'Russell', 'Bullock', 'Drummond']\n",
      "Optimal: ['Griffin', 'Harris', 'Jackson', 'Drummond']\n",
      "Delta:   ['Jackson', 'Harris']\n",
      "Percent Correct:  60 %\n",
      "Picks:   ['Richardson', 'Whiteside', 'Russell', 'Harris', 'Mcgruder']\n",
      "Optimal: ['Russell', 'Whiteside', 'Mcgruder', 'Richardson', 'Harris']\n",
      "Delta:   []\n",
      "Percent Correct:  100 %\n",
      "Picks:   ['Embiid', 'Butler', 'Russell', 'Redick', 'Harris']\n",
      "Optimal: ['Butler', 'Russell', 'Embiid', 'Redick', 'Harris']\n",
      "Delta:   []\n",
      "Percent Correct:  100 %\n",
      "Picks:   ['Lowry', 'Leonard', 'Ibaka', 'Harris']\n",
      "Optimal: ['Leonard', 'Russell', 'Siakam', 'Allen', 'D_Green']\n",
      "Delta:   ['Siakam', 'Allen', 'D_Green', 'Russell']\n",
      "Percent Correct:  20 %\n",
      "Picks:   ['Hardaway', 'Russell', 'Kanter', 'Harris', 'Hezonja']\n",
      "Optimal: ['Kanter', 'Hezonja', 'Mudiay', 'Harris']\n",
      "Delta:   ['Mudiay']\n",
      "Percent Correct:  80 %\n",
      "Picks:   ['Redick', 'Embiid', 'Russell', 'Harris', 'Chandler']\n",
      "Optimal: ['Embiid', 'Simmons', 'Harris', 'Chandler']\n",
      "Delta:   ['Simmons']\n",
      "Percent Correct:  80 %\n",
      "Picks:   ['Beal', 'Russell', 'J_green', 'Harris', 'Allen']\n",
      "Optimal: ['Beal', 'Harris', 'J_green', 'Allen', 'Russell']\n",
      "Delta:   []\n",
      "Percent Correct:  100 %\n",
      "Picks:   ['Russell', 'Bazemore', 'Harris', 'Collins', 'Dedmon']\n",
      "Optimal: ['Russell', 'Dedmon', 'Collins', 'Bazemore', 'Harris']\n",
      "Delta:   []\n",
      "Percent Correct:  100 %\n",
      "Picks:   ['Oladipo', 'Russell', 'Bogdanovic', 'Turner', 'Harris']\n",
      "Optimal: ['Oladipo', 'Bogdanovic', 'Young', 'Allen', 'Russell']\n",
      "Delta:   ['Young', 'Allen']\n",
      "Percent Correct:  60 %\n",
      "Picks:   ['Walker', 'Lamb', 'Batum', 'Harris', 'Allen']\n",
      "Optimal: ['Walker', 'Lamb', 'Harris', 'Batum', 'Allen']\n",
      "Delta:   []\n",
      "Percent Correct:  100 %\n",
      "Picks:   ['Walker', 'Lamb', 'Batum', 'Harris', 'Allen']\n",
      "Optimal: ['Walker', 'Lamb', 'Zeller', 'Harris']\n",
      "Delta:   ['Zeller']\n",
      "Percent Correct:  80 %\n",
      "Picks:   ['Antetokounmpo', 'Middleton', 'Bledsoe', 'Allen']\n",
      "Optimal: ['B_lopez', 'Middleton', 'Antetokounmpo']\n",
      "Delta:   ['B_lopez']\n",
      "Percent Correct:  80 %\n",
      "Picks:   ['Conley', 'Gasol', 'Harris', 'Temple', 'Dudley']\n",
      "Optimal: ['Conley', 'Harris', 'Gasol', 'Anderson', 'Graham']\n",
      "Delta:   ['Anderson', 'Graham']\n",
      "Percent Correct:  60 %\n",
      "Picks:   ['Lavine', 'Markkanen', 'Russell', 'Harris', 'R_lopez']\n",
      "Optimal: ['Russell', 'Lavine', 'Allen', 'Markkanen', 'Dudley']\n",
      "Delta:   ['Dudley', 'Allen']\n",
      "Percent Correct:  60 %\n",
      "Picks:   ['Irving', 'Tatum', 'Horford', 'Dudley', 'Graham']\n",
      "Optimal: ['Tatum', 'Smart', 'Irving', 'Allen', 'Dudley']\n",
      "Delta:   ['Smart', 'Allen']\n",
      "Percent Correct:  60 %\n",
      "Picks:   ['Russell', 'Harris', 'Dedmon', 'Collins', 'Graham']\n",
      "Optimal: ['Collins', 'Russell', 'Harris', 'Dedmon', 'Graham']\n",
      "Delta:   []\n",
      "Percent Correct:  100 %\n",
      "Picks:   ['Leonard', 'Lowry', 'Ibaka', 'Harris', 'Graham']\n",
      "Optimal: ['Russell', 'Leonard', 'Siakam', 'Ibaka', 'Graham']\n",
      "Delta:   ['Siakam', 'Russell']\n",
      "Percent Correct:  60 %\n",
      "Picks:   ['Fournier', 'Russell', 'A_Gordon', 'Vucevic', 'Harris']\n",
      "Optimal: ['Russell', 'A_Gordon', 'Fournier', 'Vucevic', 'Harris']\n",
      "Delta:   []\n",
      "Percent Correct:  100 %\n",
      "Picks:   ['Russell', 'Cauley-stein', 'Harris', 'Hield', 'Bjelica']\n",
      "Optimal: ['Russell', 'Harris', 'Hield', 'Cauley-stein', 'Shumpert']\n",
      "Delta:   ['Shumpert']\n",
      "Percent Correct:  80 %\n",
      "Picks:   ['Fournier', 'A_Gordon', 'Vucevic', 'Russell', 'Harris']\n",
      "Optimal: ['Russell', 'Isaac', 'Vucevic', 'Harris', 'Fournier']\n",
      "Delta:   ['Isaac']\n",
      "Percent Correct:  80 %\n",
      "Picks:   ['Lavine', 'Markkanen', 'Dunn', 'Harris', 'Allen']\n",
      "Optimal: ['Russell', 'Lavine', 'Markkanen', 'Harris', 'Allen']\n",
      "Delta:   ['Russell']\n",
      "Percent Correct:  80 %\n",
      "Picks:   ['Derozan', 'Aldridge', 'Aldridge', 'Russell', 'Graham']\n",
      "Optimal: ['White', 'Harris', 'Aldridge', 'Allen', 'Graham']\n",
      "Delta:   ['White', 'Allen', 'Harris']\n",
      "Percent Correct:  40 %\n",
      "Picks:   ['Fournier', 'A_Gordon', 'Vucevic', 'Russell', 'Harris']\n",
      "Optimal: ['Russell', 'Vucevic', 'Fournier', 'A_Gordon', 'Harris']\n",
      "Delta:   []\n",
      "Percent Correct:  100 %\n",
      "Picks:   ['Antetokounmpo', 'Middleton', 'Bledsoe', 'Allen', 'Graham']\n",
      "Optimal: ['Antetokounmpo', 'Russell', 'Brogdon', 'Middleton', 'Allen']\n",
      "Delta:   ['Brogdon', 'Russell']\n",
      "Percent Correct:  60 %\n",
      "Picks:   ['Porter', 'Lavine', 'Markkanen', 'Russell', 'Allen']\n",
      "Optimal: ['Markkanen', 'Lavine', 'Porter', 'Russell', 'Allen']\n",
      "Delta:   []\n",
      "Percent Correct:  100 %\n",
      "Picks:   ['Lowry', 'Leonard', 'Ibaka', 'Harris', 'Graham']\n",
      "Optimal: ['Harris', 'Leonard', 'Russell', 'Ibaka', 'D_Green']\n",
      "Delta:   ['D_Green', 'Russell']\n",
      "Percent Correct:  60 %\n",
      "Picks:   ['Walker', 'Lamb', 'Harris', 'Batum', 'Allen']\n",
      "Optimal: ['Russell', 'Harris', 'Batum', 'Williams', 'Zeller']\n",
      "Delta:   ['Williams', 'Zeller', 'Russell']\n",
      "Percent Correct:  40 %\n",
      "Picks:   ['Derozan', 'Aldridge', 'Aldridge', 'Russell', 'Graham']\n",
      "Optimal: ['Russell', 'Aldridge', 'Aldridge', 'Derozan', 'Graham']\n",
      "Delta:   []\n",
      "Percent Correct:  100 %\n",
      "Picks:   ['Beal', 'Ariza', 'J_green', 'Russell', 'Allen']\n",
      "Optimal: ['Beal', 'Russell', 'Ariza', 'Bryant', 'Harris']\n",
      "Delta:   ['Bryant', 'Harris']\n",
      "Percent Correct:  60 %\n",
      "Picks:   ['Walker', 'Lamb', 'Williams', 'Allen', 'Graham']\n",
      "Optimal: ['Walker', 'Batum', 'Lamb', 'Harris', 'Allen']\n",
      "Delta:   ['Batum', 'Harris']\n",
      "Percent Correct:  60 %\n",
      "Picks:   ['Russell', 'Richardson', 'Harris', 'Mcgruder', 'Allen']\n",
      "Optimal: ['Mcgruder', 'Harris', 'Winslow', 'Russell', 'Allen']\n",
      "Delta:   ['Winslow']\n",
      "Percent Correct:  80 %\n",
      "Picks:   ['Griffin', 'Russell', 'Drummond', 'Harris', 'Ellington']\n",
      "Optimal: ['Harris', 'Russell', 'Drummond', 'Griffin', 'Ellington']\n",
      "Delta:   []\n",
      "Percent Correct:  100 %\n",
      "Picks:   ['Hield', 'Russell', 'Harris', 'Cauley-stein', 'Bjelica']\n",
      "Optimal: ['Russell', 'Bjelica', 'Bjelica', 'Allen', 'Hield']\n",
      "Delta:   ['Allen']\n",
      "Percent Correct:  80 %\n",
      "Picks:   ['Embiid', 'Butler', 'Russell', 'Redick', 'Harris']\n",
      "Optimal: ['Embiid', 'Harris', 'Redick', 'Simmons', 'Dudley']\n",
      "Delta:   ['Dudley', 'Simmons']\n",
      "Percent Correct:  60 %\n",
      "Picks:   ['Russell', 'Tatum', 'Morris', 'Smart', 'Allen']\n",
      "Optimal: ['Russell', 'Morris', 'Harris', 'Smart', 'Allen']\n",
      "Delta:   ['Harris']\n",
      "Percent Correct:  80 %\n",
      "Picks:   ['Lowry', 'Leonard', 'Ibaka', 'Harris', 'Graham']\n",
      "Optimal: ['Russell', 'Siakam', 'Ibaka', 'Leonard', 'Graham']\n",
      "Delta:   ['Siakam', 'Russell']\n",
      "Percent Correct:  60 %\n",
      "Picks:   ['Middleton', 'B_lopez', 'Bledsoe', 'Harris', 'Graham']\n",
      "Optimal: ['Bledsoe', 'Middleton', 'Harris', 'Graham', 'Allen']\n",
      "Delta:   ['Allen']\n",
      "Percent Correct:  80 %\n",
      "Picks:   ['Oladipo', 'Antetokounmpo', 'Middleton', 'Bledsoe', 'Turner']\n",
      "Optimal: ['Middleton', 'Oladipo', 'Antetokounmpo', 'Bledsoe', 'Turner']\n",
      "Delta:   []\n",
      "Percent Correct:  100 %\n",
      "Picks:   ['Antetokounmpo', 'Middleton', 'Hardaway', 'Bledsoe', 'Kanter']\n",
      "Optimal: ['Middleton', 'Antetokounmpo', 'Hardaway', 'Bledsoe', 'Kanter']\n",
      "Delta:   []\n",
      "Percent Correct:  100 %\n",
      "Picks:   ['Antetokounmpo', 'Middleton', 'Embiid', 'Redick', 'Bledsoe']\n",
      "Optimal: ['Embiid', 'Antetokounmpo', 'Middleton', 'Redick', 'Bledsoe']\n",
      "Delta:   []\n",
      "Percent Correct:  100 %\n",
      "Picks:   ['Antetokounmpo', 'Middleton', 'Augustin', 'Fournier', 'Vucevic']\n",
      "Optimal: ['Middleton', 'Antetokounmpo', 'Brogdon', 'Augustin', 'Vucevic']\n",
      "Delta:   ['Brogdon']\n",
      "Percent Correct:  80 %\n",
      "Picks:   ['Irving', 'Antetokounmpo', 'Middleton', 'B_lopez', 'Smart']\n",
      "Optimal: ['Irving', 'Antetokounmpo', 'Morris', 'Horford', 'Brogdon']\n",
      "Delta:   ['Brogdon', 'Morris', 'Horford']\n",
      "Percent Correct:  40 %\n",
      "Picks:   ['Antetokounmpo', 'Middleton', 'Bledsoe', 'Hield', 'Cauley-stein']\n",
      "Optimal: ['Antetokounmpo', 'Hield', 'Fox', 'Middleton', 'B_lopez']\n",
      "Delta:   ['B_lopez', 'Fox']\n",
      "Percent Correct:  60 %\n",
      "Picks:   ['T.harris', 'Antetokounmpo', 'Beverley', 'B_lopez', 'Bledsoe']\n",
      "Optimal: ['B_lopez', 'Beverley', 'Antetokounmpo', 'T.harris', 'Bledsoe']\n",
      "Delta:   []\n",
      "Percent Correct:  100 %\n",
      "Picks:   ['Antetokounmpo', 'Middleton', 'Gasol', 'Conley', 'Brogdon']\n",
      "Optimal: ['Gasol', 'Antetokounmpo', 'Conley', 'Middleton', 'Temple']\n",
      "Delta:   ['Temple']\n",
      "Percent Correct:  80 %\n",
      "Picks:   ['Derozan', 'Antetokounmpo', 'Aldridge', 'Bledsoe', 'Brogdon']\n",
      "Optimal: ['Derozan', 'Antetokounmpo', 'Middleton', 'Brogdon', 'White']\n",
      "Delta:   ['White', 'Middleton']\n",
      "Percent Correct:  60 %\n",
      "Picks:   ['Walker', 'Antetokounmpo', 'Middleton', 'B_lopez', 'Batum']\n",
      "Optimal: ['Walker', 'Lamb', 'Williams', 'B_lopez', 'Brogdon']\n",
      "Delta:   ['Brogdon', 'Williams', 'Lamb']\n",
      "Percent Correct:  40 %\n",
      "Picks:   ['Antetokounmpo', 'Middleton', 'Bledsoe', 'Hardaway', 'Kanter']\n",
      "Optimal: ['Mudiay', 'Antetokounmpo', 'Brogdon', 'Vonleh', 'B_lopez']\n",
      "Delta:   ['Brogdon', 'B_lopez', 'Vonleh', 'Mudiay']\n",
      "Percent Correct:  20 %\n",
      "Picks:   ['Antetokounmpo', 'Middleton', 'Lowry', 'B_lopez', 'D_Green']\n",
      "Optimal: ['Ibaka', 'Brogdon', 'Leonard', 'Antetokounmpo', 'Bledsoe']\n",
      "Delta:   ['Brogdon', 'Leonard', 'Ibaka', 'Bledsoe']\n",
      "Percent Correct:  20 %\n",
      "Picks:   ['Antetokounmpo', 'Oladipo', 'Middleton', 'Bledsoe', 'Turner']\n",
      "Optimal: ['Turner', 'Bledsoe', 'Young', 'Bogdanovic', 'Brogdon']\n",
      "Delta:   ['Brogdon', 'Young', 'Bogdanovic']\n",
      "Percent Correct:  40 %\n",
      "Picks:   ['Antetokounmpo', 'Middleton', 'Bledsoe', 'Drummond']\n",
      "Optimal: ['Bullock', 'Antetokounmpo', 'Bledsoe', 'Drummond']\n",
      "Delta:   ['Bullock']\n",
      "Percent Correct:  80 %\n",
      "Picks:   ['Davis', 'Antetokounmpo', 'Holiday', 'Middleton', 'Bledsoe']\n",
      "Optimal: ['Davis', 'Holiday', 'Antetokounmpo', 'Middleton', 'Bledsoe']\n",
      "Delta:   []\n",
      "Percent Correct:  100 %\n",
      "Picks:   ['Irving', 'Antetokounmpo', 'Middleton', 'B_lopez', 'Smart']\n",
      "Optimal: ['Antetokounmpo', 'Middleton', 'Bledsoe', 'Smart']\n",
      "Delta:   ['Bledsoe']\n",
      "Percent Correct:  80 %\n",
      "Picks:   ['Antetokounmpo', 'Middleton', 'Bledsoe', 'Whiteside', 'Mcgruder']\n",
      "Optimal: ['Middleton', 'Richardson', 'Bledsoe', 'Mcgruder', 'B_lopez']\n",
      "Delta:   ['B_lopez', 'Richardson']\n",
      "Percent Correct:  60 %\n",
      "Picks:   ['Antetokounmpo', 'Hardaway', 'Middleton', 'B_lopez', 'Mudiay']\n",
      "Optimal: ['Antetokounmpo', 'B_lopez', 'Brogdon', 'Vonleh', 'Mudiay']\n",
      "Delta:   ['Brogdon', 'Vonleh']\n",
      "Percent Correct:  60 %\n",
      "Picks:   ['Antetokounmpo', 'Middleton', 'Bledsoe', 'Kanter']\n",
      "Optimal: ['Antetokounmpo', 'Middleton', 'B_lopez', 'Mudiay']\n",
      "Delta:   ['B_lopez', 'Mudiay']\n",
      "Percent Correct:  60 %\n",
      "Picks:   ['Antetokounmpo', 'Griffin', 'Bledsoe', 'Drummond', 'Brogdon']\n",
      "Optimal: ['B_lopez', 'Griffin', 'Middleton', 'Bledsoe']\n",
      "Delta:   ['B_lopez', 'Middleton']\n",
      "Percent Correct:  60 %\n",
      "Picks:   ['Antetokounmpo', 'Middleton', 'Bledsoe', 'Dedmon']\n",
      "Optimal: ['Middleton', 'Dedmon', 'Brogdon', 'Antetokounmpo', 'Carter']\n",
      "Delta:   ['Brogdon', 'Carter']\n",
      "Percent Correct:  60 %\n",
      "Picks:   ['Antetokounmpo', 'Bledsoe', 'Leonard', 'B_lopez', 'D_Green']\n",
      "Optimal: ['Antetokounmpo', 'Siakam', 'Ibaka', 'Bledsoe', 'Brogdon']\n",
      "Delta:   ['Siakam', 'Brogdon', 'Ibaka']\n",
      "Percent Correct:  40 %\n",
      "Picks:   ['Antetokounmpo', 'Middleton', 'Bledsoe']\n",
      "Optimal: ['Antetokounmpo', 'Bledsoe', 'Middleton']\n",
      "Delta:   []\n",
      "Percent Correct:  100 %\n",
      "Picks:   ['Antetokounmpo', 'Middleton', 'Bledsoe', 'Whiteside', 'Mcgruder']\n",
      "Optimal: ['Winslow', 'Bledsoe', 'Whiteside', 'Brogdon', 'Middleton']\n",
      "Delta:   ['Brogdon', 'Winslow']\n",
      "Percent Correct:  60 %\n",
      "Picks:   ['Antetokounmpo', 'Bledsoe', 'Gasol', 'Middleton', 'Temple']\n",
      "Optimal: ['Antetokounmpo', 'Bledsoe', 'Gasol', 'Middleton', 'Temple']\n",
      "Delta:   []\n",
      "Percent Correct:  100 %\n",
      "Picks:   ['Antetokounmpo', 'Middleton', 'Fournier', 'Bledsoe', 'Vucevic']\n",
      "Optimal: ['Bledsoe', 'Vucevic', 'Antetokounmpo', 'Brogdon', 'Isaac']\n",
      "Delta:   ['Brogdon', 'Isaac']\n",
      "Percent Correct:  60 %\n",
      "Picks:   ['Antetokounmpo', 'Middleton', 'B_lopez']\n",
      "Optimal: ['Antetokounmpo', 'B_lopez', 'Bledsoe', 'Matthews']\n",
      "Delta:   ['Matthews', 'Bledsoe']\n",
      "Percent Correct:  60 %\n",
      "Picks:   ['Walker', 'Antetokounmpo', 'Middleton', 'B_lopez', 'Batum']\n",
      "Optimal: ['Antetokounmpo', 'Batum', 'Middleton', 'Bledsoe']\n",
      "Delta:   ['Bledsoe']\n",
      "Percent Correct:  80 %\n",
      "Picks:   ['Antetokounmpo', 'Lowry', 'Middleton', 'B_lopez', 'D_Green']\n",
      "Optimal: ['Siakam', 'Antetokounmpo', 'Bledsoe', 'Brogdon', 'Ibaka']\n",
      "Delta:   ['Siakam', 'Brogdon', 'Ibaka', 'Bledsoe']\n",
      "Percent Correct:  20 %\n",
      "Picks:   ['Antetokounmpo', 'Beal', 'Middleton', 'B_lopez', 'Satoransky']\n",
      "Optimal: ['Antetokounmpo', 'Middleton', 'B_lopez', 'Beal', 'Satoransky']\n",
      "Delta:   []\n",
      "Percent Correct:  100 %\n",
      "Picks:   ['Antetokounmpo', 'Beal', 'Middleton', 'Bledsoe', 'Bryant']\n",
      "Optimal: ['Antetokounmpo', 'Beal', 'J_green', 'Bledsoe', 'Bryant']\n",
      "Delta:   ['J_green']\n",
      "Percent Correct:  80 %\n",
      "Picks:   ['Antetokounmpo', 'B_lopez', 'Lavine', 'Middleton', 'Dunn']\n",
      "Optimal: ['Lavine', 'Antetokounmpo', 'Bledsoe', 'Porter', 'R_lopez']\n",
      "Delta:   ['R_lopez', 'Bledsoe', 'Porter']\n",
      "Percent Correct:  40 %\n",
      "Picks:   ['Antetokounmpo', 'Middleton', 'B_lopez', 'Collison']\n",
      "Optimal: ['Antetokounmpo', 'Bogdanovic', 'Brogdon', 'Collison', 'B_lopez']\n",
      "Delta:   ['Brogdon', 'Bogdanovic']\n",
      "Percent Correct:  60 %\n",
      "Picks:   ['Irving', 'Antetokounmpo', 'Middleton', 'Horford', 'Brogdon']\n",
      "Optimal: ['Antetokounmpo', 'Irving', 'Horford', 'Middleton', 'Brogdon']\n",
      "Delta:   []\n",
      "Percent Correct:  100 %\n",
      "Picks:   ['Antetokounmpo', 'Middleton', 'Bledsoe', 'Hield', 'Cauley-stein']\n",
      "Optimal: ['Hield', 'Bledsoe', 'Middleton', 'Antetokounmpo', 'Cauley-stein']\n",
      "Delta:   []\n",
      "Percent Correct:  100 %\n",
      "Picks:   ['James', 'Antetokounmpo', 'Middleton', 'Bledsoe']\n",
      "Optimal: ['James', 'Bledsoe', 'Ingram', 'Middleton', 'B_lopez']\n",
      "Delta:   ['B_lopez', 'Ingram']\n",
      "Percent Correct:  60 %\n",
      "Picks:   ['Antetokounmpo', 'Booker', 'Middleton', 'Bledsoe', 'Bender']\n",
      "Optimal: ['Oubre', 'Booker', 'Antetokounmpo', 'Bledsoe', 'B_lopez']\n",
      "Delta:   ['B_lopez', 'Oubre']\n",
      "Percent Correct:  60 %\n",
      "Picks:   ['Antetokounmpo', 'Middleton', 'Bledsoe', 'Turner']\n",
      "Optimal: ['Middleton', 'Antetokounmpo', 'Turner', 'Bledsoe']\n",
      "Delta:   []\n",
      "Percent Correct:  100 %\n",
      "Picks:   ['Walker', 'Antetokounmpo', 'Middleton', 'Batum', 'B_lopez']\n",
      "Optimal: ['Walker', 'Antetokounmpo', 'B_lopez', 'Brogdon', 'Lamb']\n",
      "Delta:   ['Brogdon', 'Lamb']\n",
      "Percent Correct:  60 %\n",
      "Picks:   ['Derozan', 'Antetokounmpo', 'Aldridge', 'Bledsoe', 'Brogdon']\n",
      "Optimal: ['Aldridge', 'Aldridge', 'Derozan', 'Bledsoe', 'Brogdon']\n",
      "Delta:   []\n",
      "Percent Correct:  100 %\n",
      "Picks:   ['Antetokounmpo', 'Middleton', 'Bledsoe', 'Whiteside', 'Mcgruder']\n",
      "Optimal: ['Antetokounmpo', 'Winslow', 'Bledsoe', 'Whiteside', 'Mcgruder']\n",
      "Delta:   ['Winslow']\n",
      "Percent Correct:  80 %\n",
      "Picks:   ['Antetokounmpo', 'Embiid', 'Butler', 'Redick', 'Bledsoe']\n",
      "Optimal: ['Antetokounmpo', 'Embiid', 'Butler', 'Redick', 'Bledsoe']\n",
      "Delta:   []\n",
      "Percent Correct:  100 %\n",
      "Picks:   ['Beal', 'Carter', 'Ariza', 'Dedmon', 'Collins']\n",
      "Optimal: ['Beal', 'Ariza', 'Collins', 'Dedmon', 'Satoransky']\n",
      "Delta:   ['Satoransky']\n",
      "Percent Correct:  80 %\n",
      "Picks:   ['Harden', 'E_Gordon', 'Ariza', 'Capela', 'Satoransky']\n",
      "Optimal: ['Harden', 'E_Gordon', 'Capela', 'Ariza', 'Satoransky']\n",
      "Delta:   []\n",
      "Percent Correct:  100 %\n",
      "Picks:   ['Booker', 'Warren', 'Ariza', 'Satoransky', 'Bryant']\n",
      "Optimal: ['Beal', 'Warren', 'Bryant', 'Oubre', 'Satoransky']\n",
      "Delta:   ['Oubre', 'Beal']\n",
      "Percent Correct:  60 %\n",
      "Picks:   ['Oladipo', 'Bogdanovic', 'Turner', 'Ariza', 'Satoransky']\n",
      "Optimal: ['Bogdanovic', 'Turner', 'Oladipo', 'J_green', 'Satoransky']\n",
      "Delta:   ['J_green']\n",
      "Percent Correct:  80 %\n"
     ]
    },
    {
     "name": "stdout",
     "output_type": "stream",
     "text": [
      "Picks:   ['Beal', 'Griffin', 'Bullock', 'Drummond', 'Satoransky']\n",
      "Optimal: ['Griffin', 'Ariza', 'Jackson', 'Beal', 'Drummond']\n",
      "Delta:   ['Jackson', 'Ariza']\n",
      "Percent Correct:  60 %\n",
      "Picks:   ['Lavine', 'Dunn', 'Markkanen', 'Ariza', 'Bryant']\n",
      "Optimal: ['Lavine', 'Markkanen', 'Dunn', 'Ariza', 'Bryant']\n",
      "Delta:   []\n",
      "Percent Correct:  100 %\n",
      "Picks:   ['Beal', 'Lamb', 'J_green', 'Satoransky', 'Zeller']\n",
      "Optimal: ['Ariza', 'Satoransky', 'Williams', 'Beal', 'Zeller']\n",
      "Delta:   ['Williams', 'Ariza']\n",
      "Percent Correct:  60 %\n",
      "Picks:   ['Beal', 'Ariza', 'J_green', 'Dedmon', 'Carter']\n",
      "Optimal: ['Beal', 'J_green', 'Collins', 'Satoransky', 'Dedmon']\n",
      "Delta:   ['Collins', 'Satoransky']\n",
      "Percent Correct:  60 %\n",
      "Picks:   ['Beal', 'Richardson', 'Whiteside', 'Ariza', 'J_Johnson']\n",
      "Optimal: ['Beal', 'Ariza', 'J_Johnson', 'Richardson', 'Whiteside']\n",
      "Delta:   []\n",
      "Percent Correct:  100 %\n",
      "Picks:   ['Beal', 'Butler', 'Embiid', 'Simmons', 'Ariza']\n",
      "Optimal: ['Beal', 'Embiid', 'Butler', 'J_green', 'Simmons']\n",
      "Delta:   ['J_green']\n",
      "Percent Correct:  80 %\n",
      "Picks:   ['Beal', 'Butler', 'Embiid', 'Simmons', 'Ariza']\n",
      "Optimal: ['Beal', 'Embiid', 'Butler', 'Ariza', 'Simmons']\n",
      "Delta:   []\n",
      "Percent Correct:  100 %\n",
      "Picks:   ['Beal', 'Middleton', 'B_lopez', 'Bledsoe', 'Ariza']\n",
      "Optimal: ['Beal', 'Ariza', 'Middleton', 'Bledsoe', 'B_lopez']\n",
      "Delta:   []\n",
      "Percent Correct:  100 %\n",
      "Picks:   ['Beal', 'Lowry', 'Leonard', 'Ariza', 'Ibaka']\n",
      "Optimal: ['Beal', 'Leonard', 'Ariza', 'Bryant', 'Lowry']\n",
      "Delta:   ['Bryant']\n",
      "Percent Correct:  80 %\n",
      "Picks:   ['Hardaway', 'Ariza', 'Mudiay', 'J_green', 'Bryant']\n",
      "Optimal: ['Beal', 'Mudiay', 'Ariza', 'Vonleh', 'Bryant']\n",
      "Delta:   ['Vonleh', 'Beal']\n",
      "Percent Correct:  60 %\n",
      "Picks:   ['Griffin', 'Beal', 'Bullock', 'Jackson', 'Bryant']\n",
      "Optimal: ['Griffin', 'Ariza', 'Beal', 'Bryant', 'Jackson']\n",
      "Delta:   ['Ariza']\n",
      "Percent Correct:  80 %\n",
      "Picks:   ['Beal', 'A_Gordon', 'Vucevic', 'Ariza', 'Augustin']\n",
      "Optimal: ['Beal', 'J_green', 'Vucevic', 'A_Gordon', 'Satoransky']\n",
      "Delta:   ['Satoransky', 'J_green']\n",
      "Percent Correct:  60 %\n",
      "Picks:   ['Beal', 'Aldridge', 'Aldridge', 'Satoransky', 'Bryant']\n",
      "Optimal: ['Aldridge', 'Aldridge', 'Beal', 'Satoransky', 'Bryant']\n",
      "Delta:   []\n",
      "Percent Correct:  100 %\n",
      "Picks:   ['Beal', 'Ariza', 'J_green', 'Zizic']\n",
      "Optimal: ['Beal', 'Osman', 'Ariza', 'Zizic', 'Satoransky']\n",
      "Delta:   ['Osman', 'Satoransky']\n",
      "Percent Correct:  60 %\n",
      "Picks:   ['Beal', 'Bogdanovic', 'Ariza', 'Collison', 'Turner']\n",
      "Optimal: ['Beal', 'J_green', 'Bogdanovic', 'Turner', 'Collison']\n",
      "Delta:   ['J_green']\n",
      "Percent Correct:  80 %\n",
      "Picks:   ['Beal', 'Prince', 'Ariza', 'Dedmon', 'Satoransky']\n",
      "Optimal: ['Beal', 'Prince', 'Ariza', 'Carter', 'Dedmon']\n",
      "Delta:   ['Carter']\n",
      "Percent Correct:  80 %\n",
      "Picks:   ['Beal', 'Markkanen', 'Dunn', 'Ariza', 'R_lopez']\n",
      "Optimal: ['Beal', 'Ariza', 'Markkanen', 'R_lopez', 'Satoransky']\n",
      "Delta:   ['Satoransky']\n",
      "Percent Correct:  80 %\n",
      "Picks:   ['Beal', 'Lowry', 'Ibaka', 'Ariza', 'J_green']\n",
      "Optimal: ['Siakam', 'Beal', 'J_green', 'Lowry', 'Bryant']\n",
      "Delta:   ['Siakam', 'Bryant']\n",
      "Percent Correct:  60 %\n",
      "Picks:   ['Walker', 'Beal', 'Lamb', 'Ariza', 'Zeller']\n",
      "Optimal: ['Beal', 'Walker', 'Lamb', 'J_green', 'Zeller']\n",
      "Delta:   ['J_green']\n",
      "Percent Correct:  80 %\n",
      "Picks:   ['Beal', 'Bogdanovic', 'Ariza', 'Collison', 'Bryant']\n",
      "Optimal: ['Beal', 'Bryant', 'Young', 'Bogdanovic', 'Collison']\n",
      "Delta:   ['Young']\n",
      "Percent Correct:  80 %\n",
      "Picks:   ['Irving', 'Beal', 'Tatum', 'Ariza', 'Horford']\n",
      "Optimal: ['Beal', 'Morris', 'J_green', 'Satoransky', 'Horford']\n",
      "Delta:   ['Morris', 'Satoransky', 'J_green']\n",
      "Percent Correct:  40 %\n",
      "Picks:   ['Walker', 'Beal', 'Lamb', 'Ariza', 'Zeller']\n",
      "Optimal: ['Williams', 'Lamb', 'Walker', 'Beal', 'Bryant']\n",
      "Delta:   ['Bryant', 'Williams']\n",
      "Percent Correct:  60 %\n",
      "Picks:   ['Beal', 'Ariza', 'Fox', 'J_green', 'Cauley-stein']\n",
      "Optimal: ['Beal', 'Fox', 'Bjelica', 'Bjelica', 'Bryant']\n",
      "Delta:   ['Bryant', 'Bjelica']\n",
      "Percent Correct:  60 %\n",
      "Picks:   ['Fournier', 'A_Gordon', 'Vucevic', 'Ariza', 'Satoransky']\n",
      "Optimal: ['Beal', 'Augustin', 'Bryant', 'A_Gordon', 'Isaac']\n",
      "Delta:   ['Bryant', 'Isaac', 'Beal', 'Augustin']\n",
      "Percent Correct:  20 %\n",
      "Picks:   ['Walker', 'Beal', 'Lamb', 'Ariza', 'Bryant']\n",
      "Optimal: ['Beal', 'Walker', 'Lamb', 'J_green', 'Bryant']\n",
      "Delta:   ['J_green']\n",
      "Percent Correct:  80 %\n",
      "Picks:   ['Beal', 'Ariza', 'Markkanen', 'Dunn', 'R_lopez']\n",
      "Optimal: ['Markkanen', 'Dunn', 'Beal', 'J_green', 'R_lopez']\n",
      "Delta:   ['J_green']\n",
      "Percent Correct:  80 %\n",
      "Picks:   ['Walker', 'Fournier', 'A_Gordon', 'Vucevic', 'Lamb']\n",
      "Optimal: ['Walker', 'Batum', 'Vucevic', 'Williams', 'A_Gordon']\n",
      "Delta:   ['Batum', 'Williams']\n",
      "Percent Correct:  60 %\n",
      "Picks:   ['Fournier', 'Embiid', 'A_Gordon', 'Simmons', 'Isaac']\n",
      "Optimal: ['Redick', 'Embiid', 'A_Gordon', 'Isaac', 'Augustin']\n",
      "Delta:   ['Redick', 'Augustin']\n",
      "Percent Correct:  60 %\n",
      "Picks:   ['Irving', 'Fournier', 'A_Gordon', 'Vucevic', 'Tatum']\n",
      "Optimal: ['Irving', 'Vucevic', 'Isaac', 'Fournier', 'Tatum']\n",
      "Delta:   ['Isaac']\n",
      "Percent Correct:  80 %\n",
      "Picks:   ['A_Gordon', 'Fournier', 'Vucevic', 'Fox', 'Bjelica']\n",
      "Optimal: ['Hield', 'Bjelica', 'Bjelica', 'Vucevic', 'Augustin']\n",
      "Delta:   ['Hield', 'Augustin']\n",
      "Percent Correct:  60 %\n",
      "Picks:   ['T.harris', 'Fournier', 'Gallinari', 'Vucevic', 'Augustin']\n",
      "Optimal: ['Vucevic', 'T.harris', 'Fournier', 'Gallinari', 'Augustin']\n",
      "Delta:   []\n",
      "Percent Correct:  100 %\n",
      "Picks:   ['Griffin', 'Fournier', 'A_Gordon', 'Vucevic', 'Jackson']\n",
      "Optimal: ['Fournier', 'Drummond', 'Griffin', 'Augustin', 'A_Gordon']\n",
      "Delta:   ['Drummond', 'Augustin']\n",
      "Percent Correct:  60 %\n",
      "Picks:   ['Fournier', 'Vucevic', 'Augustin', 'Hezonja', 'Vonleh']\n",
      "Optimal: ['Vucevic', 'Fournier', 'Hezonja', 'Augustin', 'Vonleh']\n",
      "Delta:   []\n",
      "Percent Correct:  100 %\n",
      "Picks:   ['Embiid', 'Redick', 'Butler', 'A_Gordon', 'Augustin']\n",
      "Optimal: ['Vucevic', 'Redick', 'A_Gordon', 'Chandler', 'Simmons']\n",
      "Delta:   ['Chandler', 'Vucevic', 'Simmons']\n",
      "Percent Correct:  40 %\n",
      "Picks:   ['James', 'A_Gordon', 'Vucevic', 'Kuzma', 'Ball']\n",
      "Optimal: ['Vucevic', 'James', 'Augustin', 'Ingram', 'A_Gordon']\n",
      "Delta:   ['Ingram', 'Augustin']\n",
      "Percent Correct:  60 %\n",
      "Picks:   ['Fournier', 'A_Gordon', 'Vucevic', 'Mudiay', 'Vonleh']\n",
      "Optimal: ['Hardaway', 'A_Gordon', 'Vucevic', 'Isaac', 'Mudiay']\n",
      "Delta:   ['Isaac', 'Hardaway']\n",
      "Percent Correct:  60 %\n",
      "Picks:   ['Leonard', 'Lowry', 'Fournier', 'A_Gordon', 'Ibaka']\n",
      "Optimal: ['Fournier', 'Leonard', 'A_Gordon', 'Lowry', 'Ibaka']\n",
      "Delta:   []\n",
      "Percent Correct:  100 %\n",
      "Picks:   ['James', 'A_Gordon', 'Vucevic', 'Ingram', 'Ball']\n",
      "Optimal: ['Vucevic', 'James', 'Kuzma', 'A_Gordon', 'Augustin']\n",
      "Delta:   ['Kuzma', 'Augustin']\n",
      "Percent Correct:  60 %\n",
      "Picks:   ['Fournier', 'A_Gordon', 'Richardson', 'Vucevic', 'J_Johnson']\n",
      "Optimal: ['A_Gordon', 'Vucevic', 'Fournier', 'Winslow', 'J_Johnson']\n",
      "Delta:   ['Winslow']\n",
      "Percent Correct:  80 %\n",
      "Picks:   ['Fournier', 'A_Gordon', 'Bogdanovic', 'Vucevic', 'Collison']\n",
      "Optimal: ['Bogdanovic', 'A_Gordon', 'Vucevic', 'Fournier', 'Collison']\n",
      "Delta:   []\n",
      "Percent Correct:  100 %\n",
      "Picks:   ['Vucevic', 'Fournier', 'A_Gordon', 'Markkanen', 'Dunn']\n",
      "Optimal: ['Vucevic', 'Lavine', 'Augustin', 'Isaac', 'Markkanen']\n",
      "Delta:   ['Isaac', 'Augustin', 'Lavine']\n",
      "Percent Correct:  40 %\n",
      "Picks:   ['Aldridge', 'Aldridge', 'Derozan', 'Fournier', 'Augustin']\n",
      "Optimal: ['Augustin', 'Aldridge', 'Aldridge', 'Derozan', 'Fournier']\n",
      "Delta:   []\n",
      "Percent Correct:  100 %\n",
      "Picks:   ['Fournier', 'A_Gordon', 'Markkanen', 'Dunn', 'Vucevic']\n",
      "Optimal: ['Markkanen', 'Fournier', 'Vucevic', 'A_Gordon', 'Dunn']\n",
      "Delta:   []\n",
      "Percent Correct:  100 %\n",
      "Picks:   ['Fournier', 'A_Gordon', 'Richardson', 'Augustin', 'Whiteside']\n",
      "Optimal: ['Winslow', 'Fournier', 'Richardson', 'Whiteside', 'Augustin']\n",
      "Delta:   ['Winslow']\n",
      "Percent Correct:  80 %\n",
      "Picks:   ['Booker', 'Vucevic', 'A_Gordon', 'Warren', 'Augustin']\n",
      "Optimal: ['Booker', 'Augustin', 'Warren', 'Vucevic', 'Oubre']\n",
      "Delta:   ['Oubre']\n",
      "Percent Correct:  80 %\n",
      "Picks:   ['Fournier', 'Leonard', 'A_Gordon', 'Vucevic']\n",
      "Optimal: ['Vucevic', 'Leonard', 'Augustin', 'Isaac', 'D_Green']\n",
      "Delta:   ['Isaac', 'D_Green', 'Augustin']\n",
      "Percent Correct:  40 %\n",
      "Picks:   ['Fournier', 'Griffin', 'Vucevic', 'A_Gordon', 'Jackson']\n",
      "Optimal: ['Augustin', 'A_Gordon', 'Vucevic', 'Bullock']\n",
      "Delta:   ['Bullock', 'Augustin']\n",
      "Percent Correct:  60 %\n",
      "Picks:   ['Lavine', 'A_Gordon', 'Vucevic', 'Dunn', 'Markkanen']\n",
      "Optimal: ['Vucevic', 'Fournier', 'A_Gordon', 'Markkanen', 'Dunn']\n",
      "Delta:   ['Fournier']\n",
      "Percent Correct:  80 %\n",
      "Picks:   ['T.harris', 'Gallinari', 'Fournier', 'Augustin', 'Vucevic']\n",
      "Optimal: ['T.harris', 'A_Gordon', 'Vucevic', 'Fournier']\n",
      "Delta:   ['A_Gordon']\n",
      "Percent Correct:  80 %\n",
      "Picks:   ['Fournier', 'Vucevic', 'A_Gordon', 'Fox', 'Bjelica']\n",
      "Optimal: ['Fournier', 'Vucevic', 'Fox', 'A_Gordon', 'Bjelica']\n",
      "Delta:   []\n",
      "Percent Correct:  100 %\n",
      "Picks:   ['Irving', 'Fournier', 'A_Gordon', 'Vucevic', 'Tatum']\n",
      "Optimal: ['A_Gordon', 'Irving', 'Morris', 'Fournier', 'Vucevic']\n",
      "Delta:   ['Morris']\n",
      "Percent Correct:  80 %\n",
      "Picks:   ['Griffin', 'Fournier', 'A_Gordon', 'Drummond', 'Jackson']\n",
      "Optimal: ['Griffin', 'Vucevic', 'Fournier', 'Bullock', 'Jackson']\n",
      "Delta:   ['Bullock', 'Vucevic']\n",
      "Percent Correct:  60 %\n",
      "Picks:   ['Fournier', 'Vucevic', 'Prince', 'Collins', 'Augustin']\n",
      "Optimal: ['Fournier', 'Dedmon', 'Augustin', 'Collins', 'Prince']\n",
      "Delta:   ['Dedmon']\n",
      "Percent Correct:  80 %\n",
      "Picks:   ['Fournier', 'A_Gordon', 'Turner', 'Bogdanovic', 'Collison']\n",
      "Optimal: ['Turner', 'Augustin', 'Bogdanovic', 'Young', 'Fournier']\n",
      "Delta:   ['Young', 'Augustin']\n",
      "Percent Correct:  60 %\n",
      "Picks:   ['Middleton', 'Fournier', 'A_Gordon', 'Bledsoe', 'B_lopez']\n",
      "Optimal: ['Bledsoe', 'Isaac', 'Vucevic', 'A_Gordon', 'Brogdon']\n",
      "Delta:   ['Brogdon', 'Isaac', 'Vucevic']\n",
      "Percent Correct:  40 %\n",
      "Picks:   ['Fournier', 'A_Gordon', 'Vucevic', 'Prince']\n",
      "Optimal: ['Isaac', 'Vucevic', 'Fournier', 'Collins']\n",
      "Delta:   ['Collins', 'Isaac']\n",
      "Percent Correct:  60 %\n",
      "Picks:   ['Davis', 'Holiday', 'A_Gordon', 'Moore', 'Isaac']\n",
      "Optimal: ['Fournier', 'Vucevic', 'Moore', 'A_Gordon']\n",
      "Delta:   ['Vucevic', 'Fournier']\n",
      "Percent Correct:  60 %\n",
      "Picks:   ['Walker', 'Fournier', 'A_Gordon', 'Lamb', 'Vucevic']\n",
      "Optimal: ['Isaac', 'Vucevic', 'Lamb', 'Fournier', 'Walker']\n",
      "Delta:   ['Isaac']\n",
      "Percent Correct:  80 %\n",
      "Picks:   ['Fournier', 'A_Gordon', 'Markkanen', 'Dunn', 'Vucevic']\n",
      "Optimal: ['Markkanen', 'Lavine', 'Porter', 'Augustin', 'Vucevic']\n",
      "Delta:   ['Porter', 'Augustin', 'Lavine']\n",
      "Percent Correct:  40 %\n",
      "Picks:   ['Lowry', 'Fournier', 'Vucevic', 'A_Gordon', 'Siakam']\n",
      "Optimal: ['Vucevic', 'Lowry', 'Isaac', 'Fournier', 'Siakam']\n",
      "Delta:   ['Isaac']\n",
      "Percent Correct:  80 %\n",
      "Picks:   ['Fournier', 'A_Gordon', 'Bogdanovic', 'Vucevic', 'Collison']\n",
      "Optimal: ['Bogdanovic', 'Vucevic', 'Collison', 'Fournier', 'Isaac']\n",
      "Delta:   ['Isaac']\n",
      "Percent Correct:  80 %\n",
      "Picks:   ['Love', 'A_Gordon', 'Fournier', 'Vucevic', 'Knight']\n",
      "Optimal: ['Vucevic', 'Augustin', 'Love', 'Osman', 'Fournier']\n",
      "Delta:   ['Osman', 'Augustin']\n",
      "Percent Correct:  60 %\n",
      "Picks:   ['Butler', 'Fournier', 'A_Gordon', 'Vucevic', 'Simmons']\n",
      "Optimal: ['Redick', 'A_Gordon', 'Isaac', 'Simmons', 'Vucevic']\n",
      "Delta:   ['Isaac', 'Redick']\n",
      "Percent Correct:  60 %\n",
      "Picks:   ['Fournier', 'Love', 'A_Gordon', 'Vucevic', 'Knight']\n",
      "Optimal: ['A_Gordon', 'Augustin', 'Vucevic', 'Love']\n",
      "Delta:   ['Augustin']\n",
      "Percent Correct:  80 %\n",
      "Picks:   ['Fournier', 'Vucevic', 'A_Gordon', 'Prince', 'Carter']\n",
      "Optimal: ['A_Gordon', 'Vucevic', 'Augustin', 'Prince', 'Bazemore']\n",
      "Delta:   ['Bazemore', 'Augustin']\n",
      "Percent Correct:  60 %\n",
      "Picks:   ['Embiid', 'Redick', 'Butler', 'A_Gordon', 'Augustin']\n",
      "Optimal: ['Vucevic', 'Fournier', 'A_Gordon', 'Butler']\n",
      "Delta:   ['Vucevic', 'Fournier']\n",
      "Percent Correct:  60 %\n",
      "Picks:   ['Fournier', 'A_Gordon', 'Richardson', 'Vucevic', 'J_Johnson']\n",
      "Optimal: ['Vucevic', 'Isaac', 'Richardson', 'Augustin']\n",
      "Delta:   ['Isaac', 'Augustin']\n",
      "Percent Correct:  60 %\n",
      "Picks:   ['Griffin', 'Fournier', 'A_Gordon', 'Vucevic', 'Jackson']\n",
      "Optimal: ['Ellington', 'Griffin', 'A_Gordon', 'Augustin', 'Drummond']\n",
      "Delta:   ['Drummond', 'Augustin', 'Ellington']\n",
      "Percent Correct:  40 %\n",
      "Picks:   ['Fournier', 'Bogdanovic', 'Vucevic', 'A_Gordon', 'Collison']\n",
      "Optimal: ['A_Gordon', 'Bogdanovic', 'Collison', 'Vucevic', 'Fournier']\n",
      "Delta:   []\n",
      "Percent Correct:  100 %\n",
      "Picks:   ['Fournier', 'Lowry', 'Leonard', 'A_Gordon', 'Ibaka']\n",
      "Optimal: ['D_Green', 'Lowry', 'Leonard', 'Vucevic', 'Isaac']\n",
      "Delta:   ['Isaac', 'D_Green', 'Vucevic']\n",
      "Percent Correct:  40 %\n",
      "Picks:   ['Fournier', 'A_Gordon', 'Vucevic', 'Prince', 'Carter']\n",
      "Optimal: ['Vucevic', 'Fournier', 'Isaac', 'Collins', 'Carter']\n",
      "Delta:   ['Collins', 'Isaac']\n",
      "Percent Correct:  60 %\n",
      "Picks:   ['Lowry', 'Middleton', 'B_lopez', 'Brogdon', 'Siakam']\n",
      "Optimal: ['Ibaka', 'Middleton', 'Siakam', 'Bledsoe', 'Brogdon']\n",
      "Delta:   ['Ibaka', 'Bledsoe']\n",
      "Percent Correct:  60 %\n",
      "Picks:   ['Walker', 'Richardson', 'Lamb', 'Whiteside', 'Mcgruder']\n",
      "Optimal: ['Walker', 'Mcgruder', 'Williams', 'Lamb', 'Whiteside']\n",
      "Delta:   ['Williams']\n",
      "Percent Correct:  80 %\n",
      "Picks:   ['Walker', 'Leonard', 'Lamb', 'Batum', 'Ibaka']\n",
      "Optimal: ['Walker', 'Leonard', 'D_Green', 'Lamb', 'Ibaka']\n",
      "Delta:   ['D_Green']\n",
      "Percent Correct:  80 %\n",
      "Picks:   ['Walker', 'Embiid', 'Redick', 'Lamb', 'Williams']\n",
      "Optimal: ['Walker', 'Embiid', 'Redick', 'Lamb', 'Williams']\n",
      "Delta:   []\n",
      "Percent Correct:  100 %\n",
      "Picks:   ['Walker', 'Richardson', 'Winslow', 'Batum', 'Whiteside']\n",
      "Optimal: ['Walker', 'Batum', 'Richardson', 'Whiteside', 'Lamb']\n",
      "Delta:   ['Lamb']\n",
      "Percent Correct:  80 %\n",
      "Picks:   ['Walker', 'Hood', 'Lamb', 'Williams', 'Zizic']\n",
      "Optimal: ['Walker', 'Lamb', 'Batum', 'Osman', 'Zizic']\n",
      "Delta:   ['Osman', 'Batum']\n",
      "Percent Correct:  60 %\n",
      "Picks:   ['Walker', 'Bazemore', 'Lamb', 'Williams', 'Dedmon']\n",
      "Optimal: ['Walker', 'Williams', 'Bazemore', 'Lamb', 'Dedmon']\n",
      "Delta:   []\n",
      "Percent Correct:  100 %\n",
      "Picks:   ['Walker', 'Embiid', 'Redick', 'Chandler', 'Lamb']\n",
      "Optimal: ['Embiid', 'Walker', 'Lamb', 'Redick', 'Chandler']\n",
      "Delta:   []\n",
      "Percent Correct:  100 %\n",
      "Picks:   ['Walker', 'Griffin', 'Bullock', 'Drummond', 'Batum']\n",
      "Optimal: ['Bullock', 'Walker', 'Drummond', 'Williams', 'Batum']\n",
      "Delta:   ['Williams']\n",
      "Percent Correct:  80 %\n",
      "Picks:   ['Walker', 'Butler', 'Embiid', 'Redick', 'Lamb']\n",
      "Optimal: ['Walker', 'Embiid', 'Redick', 'Lamb', 'Butler']\n",
      "Delta:   []\n",
      "Percent Correct:  100 %\n",
      "Picks:   ['Walker', 'Tatum', 'Horford', 'Lamb', 'Batum']\n",
      "Optimal: ['Walker', 'Tatum', 'Smart', 'Lamb', 'Zeller']\n",
      "Delta:   ['Smart', 'Zeller']\n",
      "Percent Correct:  60 %\n",
      "Picks:   ['Walker', 'Batum', 'Bogdanovic', 'Lamb', 'Turner']\n",
      "Optimal: ['Lamb', 'Bogdanovic', 'Walker', 'Zeller']\n",
      "Delta:   ['Zeller']\n",
      "Percent Correct:  80 %\n",
      "Picks:   ['Walker', 'Bazemore', 'Lamb', 'Prince', 'Dedmon']\n",
      "Optimal: ['Walker', 'Williams', 'Bazemore', 'Collins', 'Zeller']\n",
      "Delta:   ['Collins', 'Williams', 'Zeller']\n",
      "Percent Correct:  40 %\n",
      "Picks:   ['Walker', 'Prince', 'Lamb', 'Bazemore', 'Dedmon']\n",
      "Optimal: ['Lamb', 'Walker', 'Zeller', 'Prince', 'Bazemore']\n",
      "Delta:   ['Zeller']\n",
      "Percent Correct:  80 %\n",
      "Picks:   ['Walker', 'Davis', 'Holiday', 'Mirotic', 'Lamb']\n",
      "Optimal: ['Davis', 'Mirotic', 'Holiday', 'Walker', 'Lamb']\n",
      "Delta:   []\n",
      "Percent Correct:  100 %\n",
      "Picks:   ['Walker', 'Batum', 'Kanter', 'Lamb', 'Hezonja']\n",
      "Optimal: ['Walker', 'Hardaway', 'Lamb', 'Williams', 'Kanter']\n",
      "Delta:   ['Hardaway', 'Williams']\n",
      "Percent Correct:  60 %\n",
      "Picks:   ['Walker', 'Hardaway', 'Kanter', 'Lamb', 'Williams']\n",
      "Optimal: ['Mudiay', 'Batum', 'Williams', 'Zeller', 'Vonleh']\n",
      "Delta:   ['Batum', 'Vonleh', 'Zeller', 'Mudiay']\n",
      "Percent Correct:  20 %\n"
     ]
    },
    {
     "name": "stdout",
     "output_type": "stream",
     "text": [
      "Picks:   ['Walker', 'Griffin', 'Bullock', 'Batum', 'Drummond']\n",
      "Optimal: ['Williams', 'Walker', 'Griffin', 'Drummond', 'Batum']\n",
      "Delta:   ['Williams']\n",
      "Percent Correct:  80 %\n",
      "Picks:   ['Irving', 'Lamb', 'Tatum', 'Batum', 'Horford']\n",
      "Optimal: ['Irving', 'Tatum', 'Lamb', 'Horford', 'Batum']\n",
      "Delta:   []\n",
      "Percent Correct:  100 %\n",
      "Picks:   ['Walker', 'Fournier', 'A_Gordon', 'Vucevic', 'Lamb']\n",
      "Optimal: ['Walker', 'A_Gordon', 'Vucevic', 'Williams', 'Fournier']\n",
      "Delta:   ['Williams']\n",
      "Percent Correct:  80 %\n",
      "Picks:   ['Walker', 'Lamb', 'Williams', 'Cauley-stein']\n",
      "Optimal: ['Walker', 'Batum', 'Cauley-stein', 'Lamb', 'Shumpert']\n",
      "Delta:   ['Batum', 'Shumpert']\n",
      "Percent Correct:  60 %\n",
      "Picks:   ['Lamb', 'Batum', 'Fox', 'Cauley-stein', 'Williams']\n",
      "Optimal: ['Hield', 'Lamb', 'Williams', 'Fox', 'Cauley-stein']\n",
      "Delta:   ['Hield']\n",
      "Percent Correct:  80 %\n",
      "Picks:   ['Walker', 'Booker', 'Warren', 'Lamb', 'Bender']\n",
      "Optimal: ['Booker', 'Oubre', 'Lamb', 'Walker', 'Bender']\n",
      "Delta:   ['Oubre']\n",
      "Percent Correct:  80 %\n",
      "Picks:   ['Oladipo', 'Collison', 'Lamb', 'Bogdanovic']\n",
      "Optimal: ['Oladipo', 'Collison', 'Bogdanovic', 'Lamb']\n",
      "Delta:   []\n",
      "Percent Correct:  100 %\n",
      "Picks:   ['Walker', 'Lamb', 'Tatum', 'Horford', 'Batum']\n",
      "Optimal: ['Walker', 'Tatum', 'Morris', 'Batum', 'Horford']\n",
      "Delta:   ['Morris']\n",
      "Percent Correct:  80 %\n",
      "Picks:   ['Walker', 'Lavine', 'Markkanen', 'Lamb', 'R_lopez']\n",
      "Optimal: ['Walker', 'Markkanen', 'Batum', 'Williams', 'R_lopez']\n",
      "Delta:   ['Batum', 'Williams']\n",
      "Percent Correct:  60 %\n",
      "Picks:   ['Walker', 'Prince', 'Lamb', 'Bazemore', 'Dedmon']\n",
      "Optimal: ['Walker', 'Williams', 'Lamb', 'Dedmon', 'Bazemore']\n",
      "Delta:   ['Williams']\n",
      "Percent Correct:  80 %\n",
      "Picks:   ['Walker', 'Batum', 'Bogdanovic', 'Lamb', 'Turner']\n",
      "Optimal: ['Walker', 'Lamb', 'Turner', 'Bogdanovic', 'Batum']\n",
      "Delta:   []\n",
      "Percent Correct:  100 %\n",
      "Picks:   ['Harden', 'Walker', 'E_Gordon', 'Lamb', 'Capela']\n",
      "Optimal: ['Walker', 'Harden', 'Capela', 'Lamb', 'Williams']\n",
      "Delta:   ['Williams']\n",
      "Percent Correct:  80 %\n",
      "Picks:   ['Walker', 'Lamb', 'Batum', 'Whiteside', 'Richardson']\n",
      "Optimal: ['Walker', 'Whiteside', 'Batum', 'Williams', 'Richardson']\n",
      "Delta:   ['Williams']\n",
      "Percent Correct:  80 %\n",
      "Picks:   ['Walker', 'Richardson', 'Lamb', 'Batum', 'Whiteside']\n",
      "Optimal: ['Lamb', 'Walker', 'Batum', 'Richardson', 'Whiteside']\n",
      "Delta:   []\n",
      "Percent Correct:  100 %\n",
      "Picks:   ['Walker', 'Leonard', 'Ibaka', 'Lamb', 'Batum']\n",
      "Optimal: ['Walker', 'Leonard', 'Lamb', 'Ibaka', 'D_Green']\n",
      "Delta:   ['D_Green']\n",
      "Percent Correct:  80 %\n",
      "Picks:   ['Prince', 'Hield', 'Cauley-stein', 'Fox']\n",
      "Optimal: ['Hield', 'Fox', 'Bjelica', 'Prince', 'Dedmon']\n",
      "Delta:   ['Bjelica', 'Dedmon']\n",
      "Percent Correct:  60 %\n",
      "Picks:   ['Richardson', 'Prince', 'Bazemore', 'Whiteside', 'Carter']\n",
      "Optimal: ['Richardson', 'Mcgruder', 'Prince', 'Dedmon', 'Carter']\n",
      "Delta:   ['Dedmon', 'Mcgruder']\n",
      "Percent Correct:  60 %\n",
      "Picks:   ['Hardaway', 'Prince', 'Hezonja', 'Kanter', 'Carter']\n",
      "Optimal: ['Hardaway', 'Prince', 'Kanter', 'Mudiay']\n",
      "Delta:   ['Mudiay']\n",
      "Percent Correct:  80 %\n",
      "Picks:   ['Griffin', 'Prince', 'Bazemore', 'Jackson', 'Drummond']\n",
      "Optimal: ['Drummond', 'Bullock', 'Jackson', 'Prince', 'Bazemore']\n",
      "Delta:   ['Bullock']\n",
      "Percent Correct:  80 %\n",
      "Picks:   ['Oladipo', 'Bogdanovic', 'Collison', 'Dedmon']\n",
      "Optimal: ['Bogdanovic', 'Bazemore', 'Collison', 'Turner']\n",
      "Delta:   ['Bazemore', 'Turner']\n",
      "Percent Correct:  60 %\n",
      "Picks:   ['Lowry', 'Bazemore', 'Ibaka', 'Prince', 'Collins']\n",
      "Optimal: ['Lowry', 'Siakam', 'Ibaka', 'Prince', 'Bazemore']\n",
      "Delta:   ['Siakam']\n",
      "Percent Correct:  80 %\n",
      "Picks:   ['Irving', 'Prince', 'Tatum', 'Bazemore', 'Dedmon']\n",
      "Optimal: ['Irving', 'Tatum', 'Collins', 'Dedmon', 'Smart']\n",
      "Delta:   ['Collins', 'Smart']\n",
      "Percent Correct:  60 %\n",
      "Picks:   ['Prince', 'Richardson', 'Whiteside', 'J_Johnson', 'Bazemore']\n",
      "Optimal: ['Richardson', 'Prince', 'Bazemore', 'J_Johnson', 'Whiteside']\n",
      "Delta:   []\n",
      "Percent Correct:  100 %\n",
      "Picks:   ['Irving', 'Tatum', 'Bazemore', 'Morris', 'Dedmon']\n",
      "Optimal: ['Irving', 'Morris', 'Tatum', 'Bazemore', 'Dedmon']\n",
      "Delta:   []\n",
      "Percent Correct:  100 %\n",
      "Picks:   ['Hardaway', 'Carter', 'Kanter', 'Collins', 'Vonleh']\n",
      "Optimal: ['Mudiay', 'Bazemore', 'Collins', 'Dedmon', 'Vonleh']\n",
      "Delta:   ['Bazemore', 'Dedmon', 'Mudiay']\n",
      "Percent Correct:  40 %\n",
      "Picks:   ['Oladipo', 'Bogdanovic', 'Collison', 'Dedmon', 'Collins']\n",
      "Optimal: ['Bazemore', 'Collins', 'Young', 'Dedmon', 'Collison']\n",
      "Delta:   ['Young', 'Bazemore']\n",
      "Percent Correct:  60 %\n",
      "Picks:   ['Prince', 'Bazemore', 'Fox', 'Cauley-stein', 'Collins']\n",
      "Optimal: ['Hield', 'Bjelica', 'Bjelica', 'Dedmon', 'Carter']\n",
      "Delta:   ['Carter', 'Hield', 'Bjelica', 'Dedmon']\n",
      "Percent Correct:  20 %\n",
      "Picks:   ['Lowry', 'Prince', 'Bazemore', 'Ibaka', 'Siakam']\n",
      "Optimal: ['Siakam', 'Prince', 'Lowry', 'Dedmon', 'D_Green']\n",
      "Delta:   ['D_Green', 'Dedmon']\n",
      "Percent Correct:  60 %\n",
      "Picks:   ['James', 'Kuzma', 'Prince', 'Carter', 'Dedmon']\n",
      "Optimal: ['James', 'Collins', 'Kuzma', 'Carter', 'Dedmon']\n",
      "Delta:   ['Collins']\n",
      "Percent Correct:  80 %\n",
      "Picks:   ['Griffin', 'Bazemore', 'Prince', 'Jackson', 'Drummond']\n",
      "Optimal: ['Jackson', 'Drummond', 'Collins', 'Griffin', 'Bazemore']\n",
      "Delta:   ['Collins']\n",
      "Percent Correct:  80 %\n",
      "Picks:   ['Booker', 'Oubre', 'T.johnson', 'Prince', 'Dedmon']\n",
      "Optimal: ['T.johnson', 'Bazemore', 'Prince', 'Collins', 'Bender']\n",
      "Delta:   ['Collins', 'Bazemore', 'Bender']\n",
      "Percent Correct:  40 %\n",
      "Picks:   ['Lavine', 'Prince', 'Porter', 'Dunn', 'Dedmon']\n",
      "Optimal: ['Lavine', 'Porter', 'Markkanen', 'Carter', 'Dedmon']\n",
      "Delta:   ['Carter', 'Markkanen']\n",
      "Percent Correct:  60 %\n",
      "Picks:   ['Derozan', 'Prince', 'Aldridge', 'Bazemore', 'Carter']\n",
      "Optimal: ['Aldridge', 'Aldridge', 'White', 'Bazemore']\n",
      "Delta:   ['White']\n",
      "Percent Correct:  80 %\n",
      "Picks:   ['Irving', 'Prince', 'Horford', 'Tatum', 'Bazemore']\n",
      "Optimal: ['Irving', 'Prince', 'Morris', 'Smart', 'Dedmon']\n",
      "Delta:   ['Morris', 'Smart', 'Dedmon']\n",
      "Percent Correct:  40 %\n",
      "Picks:   ['Harden', 'E_Gordon', 'Prince', 'Carter', 'Capela']\n",
      "Optimal: ['Harden', 'Capela', 'Carter', 'Prince', 'E_Gordon']\n",
      "Delta:   []\n",
      "Percent Correct:  100 %\n",
      "Picks:   ['Embiid', 'Butler', 'Redick', 'Prince', 'Carter']\n",
      "Optimal: ['Embiid', 'Prince', 'Butler', 'Simmons', 'Bazemore']\n",
      "Delta:   ['Bazemore', 'Simmons']\n",
      "Percent Correct:  60 %\n",
      "Picks:   ['Beal', 'Kanter', 'J_green', 'Hezonja', 'Satoransky']\n",
      "Optimal: ['Beal', 'Kanter', 'J_green', 'Hezonja', 'Satoransky']\n",
      "Delta:   []\n",
      "Percent Correct:  100 %\n",
      "Picks:   ['Beal', 'Barnes', 'Barnes', 'Smith', 'Bryant']\n",
      "Optimal: ['Matthews', 'Barnes', 'Smith', 'Beal', 'Bryant']\n",
      "Delta:   ['Matthews']\n",
      "Percent Correct:  80 %\n",
      "Picks:   ['Beal', 'Lowry', 'Leonard', 'Ibaka', 'J_green']\n",
      "Optimal: ['Leonard', 'Beal', 'Lowry', 'Ibaka', 'J_green']\n",
      "Delta:   []\n",
      "Percent Correct:  100 %\n",
      "Picks:   ['Beal', 'Mirotic', 'Moore', 'J_green', 'Bryant']\n",
      "Optimal: ['Mirotic', 'Moore', 'Beal', 'W_Johnson', 'Bryant']\n",
      "Delta:   ['W_Johnson']\n",
      "Percent Correct:  80 %\n",
      "Picks:   ['Beal', 'Davis', 'Mirotic', 'Moore', 'J_green']\n",
      "Optimal: ['Holiday', 'Davis', 'Mirotic', 'J_green', 'Satoransky']\n",
      "Delta:   ['Holiday', 'Satoransky']\n",
      "Percent Correct:  60 %\n",
      "Picks:   ['Embiid', 'Butler', 'Beal', 'Simmons', 'J_green']\n",
      "Optimal: ['Beal', 'Embiid', 'Butler', 'Simmons', 'J_green']\n",
      "Delta:   []\n",
      "Percent Correct:  100 %\n",
      "Picks:   ['Beal', 'Kanter', 'J_green', 'Mudiay', 'Hezonja']\n",
      "Optimal: ['Beal', 'Mudiay', 'Kanter', 'Vonleh', 'J_green']\n",
      "Delta:   ['Vonleh']\n",
      "Percent Correct:  80 %\n",
      "Picks:   ['Beal', 'Bogdanovic', 'Turner', 'Collison', 'J_green']\n",
      "Optimal: ['Beal', 'Turner', 'Bogdanovic', 'Young', 'Satoransky']\n",
      "Delta:   ['Young', 'Satoransky']\n",
      "Percent Correct:  60 %\n",
      "Picks:   ['Irving', 'Beal', 'Tatum', 'Morris', 'Bryant']\n",
      "Optimal: ['Irving', 'Morris', 'Beal', 'J_green', 'Bryant']\n",
      "Delta:   ['J_green']\n",
      "Percent Correct:  80 %\n",
      "Picks:   ['Beal', 'Derozan', 'Aldridge', 'Aldridge', 'Satoransky']\n",
      "Optimal: ['Beal', 'Aldridge', 'Aldridge', 'Bryant', 'White']\n",
      "Delta:   ['Bryant', 'White']\n",
      "Percent Correct:  60 %\n",
      "Picks:   ['Oladipo', 'Aldridge', 'Aldridge', 'Derozan', 'Collison']\n",
      "Optimal: ['Oladipo', 'Derozan', 'Young', 'Aldridge', 'Collison']\n",
      "Delta:   ['Young']\n",
      "Percent Correct:  80 %\n",
      "Picks:   ['Oladipo', 'Collison', 'Young', 'Osman', 'Zizic']\n",
      "Optimal: ['Bogdanovic', 'Oladipo', 'Collison', 'Osman', 'Zizic']\n",
      "Delta:   ['Bogdanovic']\n",
      "Percent Correct:  80 %\n",
      "Picks:   ['Oladipo', 'Young', 'Bogdanovic', 'Kanter']\n",
      "Optimal: ['Hardaway', 'Vonleh', 'Young', 'Collison', 'Turner']\n",
      "Delta:   ['Collison', 'Hardaway', 'Vonleh', 'Turner']\n",
      "Percent Correct:  20 %\n",
      "Picks:   ['Oladipo', 'Irving', 'Tatum', 'Bogdanovic', 'Horford']\n",
      "Optimal: ['Oladipo', 'Morris', 'Irving', 'Tatum', 'Turner']\n",
      "Delta:   ['Morris', 'Turner']\n",
      "Percent Correct:  60 %\n",
      "Picks:   ['Oladipo', 'Embiid', 'Chandler', 'Bogdanovic', 'Collison']\n",
      "Optimal: ['Oladipo', 'Embiid', 'Bogdanovic', 'Simmons', 'Young']\n",
      "Delta:   ['Young', 'Simmons']\n",
      "Percent Correct:  60 %\n",
      "Picks:   ['Oladipo', 'Bogdanovic', 'Collison', 'Richardson', 'Whiteside']\n",
      "Optimal: ['Oladipo', 'Bogdanovic', 'Richardson', 'Collison', 'Whiteside']\n",
      "Delta:   []\n",
      "Percent Correct:  100 %\n",
      "Picks:   ['Harden', 'E_Gordon', 'Turner', 'Bogdanovic', 'Collison']\n",
      "Optimal: ['Harden', 'Bogdanovic', 'Collison', 'Capela', 'E_Gordon']\n",
      "Delta:   ['Capela']\n",
      "Percent Correct:  80 %\n",
      "Picks:   ['Oladipo', 'Bogdanovic', 'Turner', 'Richardson']\n",
      "Optimal: ['Richardson', 'Bogdanovic', 'Turner', 'Mcgruder', 'Collison']\n",
      "Delta:   ['Collison', 'Mcgruder']\n",
      "Percent Correct:  60 %\n",
      "Picks:   ['James', 'Kuzma', 'Ingram', 'Collison', 'Turner']\n",
      "Optimal: ['James', 'Bogdanovic', 'Ingram', 'Collison', 'Turner']\n",
      "Delta:   ['Bogdanovic']\n",
      "Percent Correct:  80 %\n",
      "Picks:   ['Turner', 'Bogdanovic', 'Collison', 'Bjelica', 'Hield']\n",
      "Optimal: ['Bogdanovic', 'Hield', 'Cauley-stein', 'Collison', 'Bjelica']\n",
      "Delta:   ['Cauley-stein']\n",
      "Percent Correct:  80 %\n",
      "Picks:   ['Bogdanovic', 'Hield', 'Young', 'Turner', 'Fox']\n",
      "Optimal: ['Hield', 'Young', 'Bogdanovic', 'Collison', 'Cauley-stein']\n",
      "Delta:   ['Collison', 'Cauley-stein']\n",
      "Percent Correct:  60 %\n",
      "Picks:   ['Embiid', 'Oladipo', 'Bogdanovic', 'Simmons', 'Young']\n",
      "Optimal: ['Embiid', 'Redick', 'Young', 'Bogdanovic', 'Simmons']\n",
      "Delta:   ['Redick']\n",
      "Percent Correct:  80 %\n",
      "Picks:   ['Oladipo', 'Bogdanovic', 'Turner', 'Hezonja', 'Mudiay']\n",
      "Optimal: ['Oladipo', 'Turner', 'Mudiay', 'Bogdanovic', 'Vonleh']\n",
      "Delta:   ['Vonleh']\n",
      "Percent Correct:  80 %\n",
      "Picks:   ['Oladipo', 'Turner', 'Collison', 'Osman']\n",
      "Optimal: ['Hood', 'Osman', 'Bogdanovic', 'Turner', 'Collison']\n",
      "Delta:   ['Hood', 'Bogdanovic']\n",
      "Percent Correct:  60 %\n",
      "Picks:   ['Oladipo', 'Leonard', 'Bogdanovic', 'Collison']\n",
      "Optimal: ['Leonard', 'Bogdanovic', 'Oladipo', 'Turner']\n",
      "Delta:   ['Turner']\n",
      "Percent Correct:  80 %\n",
      "Picks:   ['Oladipo', 'Griffin', 'Turner', 'Bogdanovic', 'Jackson']\n",
      "Optimal: ['Griffin', 'Collison', 'Bullock', 'Turner', 'Oladipo']\n",
      "Delta:   ['Collison', 'Bullock']\n",
      "Percent Correct:  60 %\n",
      "Picks:   ['Oladipo', 'Markkanen', 'Bogdanovic', 'Turner', 'Dunn']\n",
      "Optimal: ['Oladipo', 'Markkanen', 'Dunn', 'Young', 'Turner']\n",
      "Delta:   ['Young']\n",
      "Percent Correct:  80 %\n",
      "Picks:   ['Oladipo', 'Lowry', 'Bogdanovic', 'Ibaka', 'Young']\n",
      "Optimal: ['Bogdanovic', 'D_Green', 'Ibaka', 'Lowry', 'Young']\n",
      "Delta:   ['D_Green']\n",
      "Percent Correct:  80 %\n",
      "Picks:   ['Irving', 'Oladipo', 'Bogdanovic', 'Tatum', 'Horford']\n",
      "Optimal: ['Morris', 'Tatum', 'Oladipo', 'Irving']\n",
      "Delta:   ['Morris']\n",
      "Percent Correct:  80 %\n",
      "Picks:   ['Oladipo', 'Collison', 'Bogdanovic', 'Hezonja']\n",
      "Optimal: ['Mudiay', 'Oladipo', 'Bogdanovic', 'Vonleh']\n",
      "Delta:   ['Vonleh', 'Mudiay']\n",
      "Percent Correct:  60 %\n",
      "Picks:   ['Booker', 'Warren', 'Turner', 'Bogdanovic', 'Collison']\n",
      "Optimal: ['Bogdanovic', 'Warren', 'Turner', 'Collison', 'Booker']\n",
      "Delta:   []\n",
      "Percent Correct:  100 %\n",
      "Picks:   ['Oladipo', 'Embiid', 'Butler', 'Bogdanovic', 'Simmons']\n",
      "Optimal: ['Young', 'Redick', 'Butler', 'Embiid', 'Collison']\n",
      "Delta:   ['Young', 'Collison', 'Redick']\n",
      "Percent Correct:  40 %\n",
      "Picks:   ['Oladipo', 'Barnes', 'Barnes', 'Turner', 'Collison']\n",
      "Optimal: ['Barnes', 'Barnes', 'Collison', 'Jordan', 'Oladipo']\n",
      "Delta:   ['Jordan']\n",
      "Percent Correct:  80 %\n",
      "Picks:   ['Lowry', 'Turner', 'Bogdanovic', 'Young', 'D_Green']\n",
      "Optimal: ['Young', 'Lowry', 'Ibaka', 'Bogdanovic', 'D_Green']\n",
      "Delta:   ['Ibaka']\n",
      "Percent Correct:  80 %\n",
      "Picks:   ['Bogdanovic', 'Richardson', 'Collison', 'Turner']\n",
      "Optimal: ['Bogdanovic', 'Collison', 'Whiteside', 'Richardson']\n",
      "Delta:   ['Whiteside']\n",
      "Percent Correct:  80 %\n",
      "Picks:   ['Griffin', 'Ellington', 'Bogdanovic', 'Drummond', 'Collison']\n",
      "Optimal: ['Griffin', 'Bogdanovic', 'Collison', 'Drummond', 'Ellington']\n",
      "Delta:   []\n",
      "Percent Correct:  100 %\n",
      "Picks:   ['Lavine', 'Markkanen', 'Porter', 'Collison', 'Turner']\n",
      "Optimal: ['Bogdanovic', 'Lavine', 'Collison', 'R_lopez', 'Markkanen']\n",
      "Delta:   ['Bogdanovic', 'R_lopez']\n",
      "Percent Correct:  60 %\n",
      "Picks:   ['Redick', 'Embiid', 'Butler', 'Bogdanovic', 'Collison']\n",
      "Optimal: ['Embiid', 'Bogdanovic', 'Collison', 'Redick', 'Butler']\n",
      "Delta:   []\n",
      "Percent Correct:  100 %\n",
      "Picks:   ['Irving', 'Young', 'Bogdanovic', 'Horford', 'Smart']\n",
      "Optimal: ['Irving', 'Bogdanovic', 'Horford', 'Young', 'Smart']\n",
      "Delta:   []\n",
      "Percent Correct:  100 %\n",
      "Picks:   ['Irving', 'Bogdanovic', 'Tatum', 'Horford']\n",
      "Optimal: ['Tatum', 'Irving', 'Turner', 'Morris']\n",
      "Delta:   ['Morris', 'Turner']\n",
      "Percent Correct:  60 %\n",
      "Picks:   ['Irving', 'Griffin', 'Tatum', 'Smart', 'Drummond']\n",
      "Optimal: ['Morris', 'Drummond', 'Jackson', 'Tatum', 'Smart']\n",
      "Delta:   ['Morris', 'Jackson']\n",
      "Percent Correct:  60 %\n",
      "Picks:   ['Irving', 'Griffin', 'Tatum', 'Drummond', 'Smart']\n",
      "Optimal: ['Irving', 'Griffin', 'Bullock', 'Drummond', 'Smart']\n",
      "Delta:   ['Bullock']\n",
      "Percent Correct:  80 %\n",
      "Picks:   ['Leonard', 'Lowry', 'Griffin', 'Drummond', 'D_Green']\n",
      "Optimal: ['Griffin', 'Leonard', 'Lowry', 'Drummond', 'D_Green']\n",
      "Delta:   []\n",
      "Percent Correct:  100 %\n",
      "Picks:   ['Griffin', 'Hardaway', 'Bullock', 'Jackson', 'Kanter']\n",
      "Optimal: ['Griffin', 'Jackson', 'Hardaway', 'Kanter', 'Bullock']\n",
      "Delta:   []\n",
      "Percent Correct:  100 %\n",
      "Picks:   ['Irving', 'Griffin', 'Morris', 'Drummond', 'Smart']\n",
      "Optimal: ['Smart', 'Irving', 'Griffin', 'Bullock', 'Drummond']\n",
      "Delta:   ['Bullock']\n",
      "Percent Correct:  80 %\n",
      "Picks:   ['Griffin', 'Conley', 'Bullock', 'Gasol', 'Temple']\n",
      "Optimal: ['Griffin', 'Jackson', 'Bullock', 'Gasol', 'Temple']\n",
      "Delta:   ['Jackson']\n",
      "Percent Correct:  80 %\n",
      "Picks:   ['Bullock', 'Hield', 'Drummond', 'Jackson', 'Bjelica']\n",
      "Optimal: ['Hield', 'Bullock', 'Shumpert', 'Fox', 'Drummond']\n",
      "Delta:   ['Fox', 'Shumpert']\n",
      "Percent Correct:  60 %\n",
      "Picks:   ['Griffin', 'J_Johnson', 'Bullock', 'Drummond', 'Mcgruder']\n",
      "Optimal: ['Griffin', 'Bullock', 'Mcgruder', 'Jackson', 'Whiteside']\n",
      "Delta:   ['Whiteside', 'Jackson']\n",
      "Percent Correct:  60 %\n",
      "Picks:   ['Griffin', 'Barnes', 'Smith', 'Drummond']\n",
      "Optimal: ['Griffin', 'Smith', 'Drummond', 'Bullock']\n",
      "Delta:   ['Bullock']\n",
      "Percent Correct:  80 %\n",
      "Picks:   ['Embiid', 'Holiday', 'Mirotic', 'Butler', 'Simmons']\n",
      "Optimal: ['Moore', 'Embiid', 'Holiday', 'Mirotic', 'Chandler']\n",
      "Delta:   ['Moore', 'Chandler']\n",
      "Percent Correct:  60 %\n",
      "Picks:   ['Embiid', 'Redick', 'Butler', 'Osman']\n",
      "Optimal: ['Hood', 'Embiid', 'Butler', 'Osman', 'Simmons']\n",
      "Delta:   ['Hood', 'Simmons']\n",
      "Percent Correct:  60 %\n",
      "Picks:   ['Butler', 'Redick', 'Embiid', 'Hezonja', 'Mudiay']\n",
      "Optimal: ['Redick', 'Embiid', 'Hezonja', 'Simmons', 'Vonleh']\n",
      "Delta:   ['Vonleh', 'Simmons']\n",
      "Percent Correct:  60 %\n"
     ]
    },
    {
     "name": "stdout",
     "output_type": "stream",
     "text": [
      "Picks:   ['Butler', 'Embiid', 'Redick', 'Conley', 'Anderson']\n",
      "Optimal: ['Redick', 'Conley', 'Butler', 'Gasol', 'Anderson']\n",
      "Delta:   ['Gasol']\n",
      "Percent Correct:  80 %\n",
      "Picks:   ['Embiid', 'Leonard', 'Redick', 'Lowry', 'Butler']\n",
      "Optimal: ['Leonard', 'Butler', 'Redick', 'Ibaka', 'Lowry']\n",
      "Delta:   ['Ibaka']\n",
      "Percent Correct:  80 %\n",
      "Picks:   ['Embiid', 'Butler', 'Chandler', 'Hood']\n",
      "Optimal: ['Butler', 'Embiid', 'Simmons', 'Osman', 'Hood']\n",
      "Delta:   ['Osman', 'Simmons']\n",
      "Percent Correct:  60 %\n",
      "Picks:   ['Derozan', 'Butler', 'Redick', 'Chandler', 'White']\n",
      "Optimal: ['Gay', 'Derozan', 'Redick', 'Aldridge', 'Simmons']\n",
      "Delta:   ['Gay', 'Simmons', 'Aldridge']\n",
      "Percent Correct:  40 %\n",
      "Picks:   ['Embiid', 'Butler', 'Redick', 'Hezonja', 'Mudiay']\n",
      "Optimal: ['Hardaway', 'Embiid', 'Butler', 'Simmons', 'Vonleh']\n",
      "Delta:   ['Hardaway', 'Vonleh', 'Simmons']\n",
      "Percent Correct:  40 %\n",
      "Picks:   ['Irving', 'Embiid', 'Redick', 'Butler', 'Morris']\n",
      "Optimal: ['Irving', 'Embiid', 'Butler', 'Morris', 'Redick']\n",
      "Delta:   []\n",
      "Percent Correct:  100 %\n",
      "Picks:   ['Embiid', 'T.harris', 'Gallinari', 'Redick', 'Simmons']\n",
      "Optimal: ['Embiid', 'Redick', 'Gallinari', 'T.harris', 'Simmons']\n",
      "Delta:   []\n",
      "Percent Correct:  100 %\n",
      "Picks:   ['Embiid', 'Butler', 'Redick', 'Hezonja', 'Mudiay']\n",
      "Optimal: ['Redick', 'Embiid', 'Mudiay', 'Butler', 'Hezonja']\n",
      "Delta:   []\n",
      "Percent Correct:  100 %\n",
      "Picks:   ['Butler', 'Embiid', 'Hield', 'Simmons', 'Bjelica']\n",
      "Optimal: ['Hield', 'Butler', 'Embiid', 'Simmons', 'Shumpert']\n",
      "Delta:   ['Shumpert']\n",
      "Percent Correct:  80 %\n",
      "Picks:   ['Butler', 'Embiid', 'Lowry', 'Leonard', 'D_Green']\n",
      "Optimal: ['Embiid', 'Lowry', 'Leonard', 'Siakam']\n",
      "Delta:   ['Siakam']\n",
      "Percent Correct:  80 %\n",
      "Picks:   ['Embiid', 'Redick', 'Butler', 'Tatum']\n",
      "Optimal: ['Horford', 'Redick', 'Butler', 'Tatum', 'Simmons']\n",
      "Delta:   ['Horford', 'Simmons']\n",
      "Percent Correct:  60 %\n",
      "Picks:   ['Redick', 'Butler', 'Simmons', 'Whiteside', 'Richardson']\n",
      "Optimal: ['Simmons', 'Redick', 'Butler', 'Richardson', 'Whiteside']\n",
      "Delta:   []\n",
      "Percent Correct:  100 %\n",
      "Picks:   ['Butler', 'Lavine', 'Porter', 'Dunn']\n",
      "Optimal: ['Lavine', 'Butler', 'Porter', 'R_lopez', 'Simmons']\n",
      "Delta:   ['Simmons', 'R_lopez']\n",
      "Percent Correct:  60 %\n",
      "Picks:   ['Irving', 'Embiid', 'Butler', 'Redick', 'Tatum']\n",
      "Optimal: ['Irving', 'Embiid', 'Butler', 'Redick', 'Tatum']\n",
      "Delta:   []\n",
      "Percent Correct:  100 %\n",
      "Picks:   ['Richardson', 'Winslow', 'Carter', 'Whiteside']\n",
      "Optimal: ['Winslow', 'Collins', 'Carter', 'Dedmon', 'Mcgruder']\n",
      "Delta:   ['Collins', 'Dedmon', 'Mcgruder']\n",
      "Percent Correct:  40 %\n",
      "Picks:   ['Irving', 'Prince', 'Tatum', 'Horford']\n",
      "Optimal: ['Irving', 'Tatum', 'Collins', 'Horford']\n",
      "Delta:   ['Collins']\n",
      "Percent Correct:  80 %\n",
      "Picks:   ['Embiid', 'Redick', 'Richardson', 'Simmons', 'Winslow']\n",
      "Optimal: ['Embiid', 'Redick', 'Richardson', 'Simmons', 'Winslow']\n",
      "Delta:   []\n",
      "Percent Correct:  100 %\n",
      "Picks:   ['Embiid', 'Aldridge', 'Aldridge', 'Redick', 'Simmons']\n",
      "Optimal: ['Embiid', 'Redick', 'Simmons', 'Gay', 'Aldridge']\n",
      "Delta:   ['Gay']\n",
      "Percent Correct:  80 %\n",
      "Picks:   ['Ellington', 'Griffin', 'Tatum', 'Horford', 'Jackson']\n",
      "Optimal: ['Griffin', 'Tatum', 'Jackson', 'Smart', 'Horford']\n",
      "Delta:   ['Smart']\n",
      "Percent Correct:  80 %\n",
      "Picks:   ['Griffin', 'Derozan', 'Aldridge', 'Jackson', 'Ellington']\n",
      "Optimal: ['Jackson', 'Aldridge', 'Aldridge', 'Derozan', 'Ellington']\n",
      "Delta:   []\n",
      "Percent Correct:  100 %\n",
      "Picks:   ['Griffin', 'Lowry', 'Drummond', 'Siakam', 'D_Green']\n",
      "Optimal: ['Lowry', 'Griffin', 'Siakam', 'Drummond', 'Ellington']\n",
      "Delta:   ['Ellington']\n",
      "Percent Correct:  80 %\n",
      "Picks:   ['Griffin', 'Porter', 'Lavine', 'Dunn', 'Drummond']\n",
      "Optimal: ['Griffin', 'Lavine', 'Porter', 'Jackson', 'Drummond']\n",
      "Delta:   ['Jackson']\n",
      "Percent Correct:  80 %\n",
      "Picks:   ['Lavine', 'Markkanen', 'Dunn', 'Bjelica', 'Cauley-stein']\n",
      "Optimal: ['Fox', 'Lavine', 'Shumpert', 'Markkanen', 'Cauley-stein']\n",
      "Delta:   ['Fox', 'Shumpert']\n",
      "Percent Correct:  60 %\n",
      "Picks:   ['Leonard', 'Lavine', 'Markkanen', 'Ibaka', 'Dunn']\n",
      "Optimal: ['Leonard', 'Markkanen', 'Dunn', 'D_Green', 'Ibaka']\n",
      "Delta:   ['D_Green']\n",
      "Percent Correct:  80 %\n",
      "Picks:   ['Lavine', 'Markkanen', 'Whiteside', 'Dunn', 'Richardson']\n",
      "Optimal: ['Richardson', 'Markkanen', 'Lavine', 'J_Johnson', 'R_lopez']\n",
      "Delta:   ['J_Johnson', 'R_lopez']\n",
      "Percent Correct:  60 %\n",
      "Picks:   ['Irving', 'Lavine', 'Markkanen', 'Porter', 'Horford']\n",
      "Optimal: ['Lavine', 'Irving', 'Markkanen', 'Horford', 'Morris']\n",
      "Delta:   ['Morris']\n",
      "Percent Correct:  80 %\n",
      "Picks:   ['Lavine', 'Markkanen', 'Fox', 'Cauley-stein', 'Bjelica']\n",
      "Optimal: ['Lavine', 'Fox', 'Markkanen', 'Bjelica', 'Cauley-stein']\n",
      "Delta:   []\n",
      "Percent Correct:  100 %\n",
      "Picks:   ['Embiid', 'Redick', 'Leonard', 'Lowry', 'Siakam']\n",
      "Optimal: ['Embiid', 'Leonard', 'Lowry', 'Redick', 'Siakam']\n",
      "Delta:   []\n",
      "Percent Correct:  100 %\n",
      "Picks:   ['Irving', 'Leonard', 'Morris', 'Horford', 'D_Green']\n",
      "Optimal: ['Leonard', 'Irving', 'Ibaka', 'D_Green', 'Tatum']\n",
      "Delta:   ['Tatum', 'Ibaka']\n",
      "Percent Correct:  60 %\n",
      "Picks:   ['James', 'Lowry', 'Ibaka', 'Kuzma', 'Ingram']\n",
      "Optimal: ['Ibaka', 'Lowry', 'D_Green', 'Kuzma', 'Ingram']\n",
      "Delta:   ['D_Green']\n",
      "Percent Correct:  80 %\n",
      "Picks:   ['Lowry', 'Leonard', 'Ibaka', 'Hield', 'Bjelica']\n",
      "Optimal: ['Hield', 'Leonard', 'Fox', 'Cauley-stein', 'Siakam']\n",
      "Delta:   ['Siakam', 'Fox', 'Cauley-stein']\n",
      "Percent Correct:  40 %\n",
      "Picks:   ['Leonard', 'Lowry', 'Hardaway', 'Ibaka', 'Hezonja']\n",
      "Optimal: ['Hardaway', 'Siakam', 'Kanter', 'Hezonja', 'Lowry']\n",
      "Delta:   ['Siakam', 'Kanter']\n",
      "Percent Correct:  60 %\n",
      "Picks:   ['Davis', 'Holiday', 'Lowry', 'Leonard', 'Siakam']\n",
      "Optimal: ['Moore', 'Holiday', 'Davis', 'Siakam', 'Leonard']\n",
      "Delta:   ['Moore']\n",
      "Percent Correct:  80 %\n",
      "Picks:   ['Irving', 'Leonard', 'Horford', 'Morris', 'D_Green']\n",
      "Optimal: ['Irving', 'Leonard', 'Ibaka', 'Tatum', 'D_Green']\n",
      "Delta:   ['Tatum', 'Ibaka']\n",
      "Percent Correct:  60 %\n",
      "Picks:   ['Lowry', 'Leonard', 'Ibaka', 'Richardson', 'Mcgruder']\n",
      "Optimal: ['Leonard', 'Richardson', 'Lowry', 'Mcgruder', 'Ibaka']\n",
      "Delta:   []\n",
      "Percent Correct:  100 %\n",
      "Picks:   ['Leonard', 'Lowry', 'Gasol', 'D_Green', 'Anderson']\n",
      "Optimal: ['Gasol', 'Lowry', 'D_Green', 'Leonard', 'Anderson']\n",
      "Delta:   []\n",
      "Percent Correct:  100 %\n",
      "Picks:   ['Leonard', 'Richardson', 'Ibaka', 'D_Green', 'J_Johnson']\n",
      "Optimal: ['Leonard', 'Winslow', 'D_Green', 'Whiteside', 'J_Johnson']\n",
      "Delta:   ['Whiteside', 'Winslow']\n",
      "Percent Correct:  60 %\n",
      "Picks:   ['Aldridge', 'Aldridge', 'Derozan', 'D_Green']\n",
      "Optimal: ['Aldridge', 'Aldridge', 'White', 'Ibaka', 'D_Green']\n",
      "Delta:   ['White', 'Ibaka']\n",
      "Percent Correct:  60 %\n",
      "Picks:   ['Irving', 'Leonard', 'Tatum', 'Horford', 'D_Green']\n",
      "Optimal: ['Leonard', 'Irving', 'Horford', 'D_Green', 'Tatum']\n",
      "Delta:   []\n",
      "Percent Correct:  100 %\n",
      "Picks:   ['Leonard', 'Barnes', 'Lowry', 'Ibaka']\n",
      "Optimal: ['Leonard', 'Lowry', 'Barnes', 'D_Green', 'Jordan']\n",
      "Delta:   ['Jordan', 'D_Green']\n",
      "Percent Correct:  60 %\n",
      "Picks:   ['Derozan', 'Aldridge', 'Aldridge', 'Lowry', 'D_Green']\n",
      "Optimal: ['D_Green', 'Siakam', 'Leonard', 'Derozan', 'White']\n",
      "Delta:   ['Siakam', 'White', 'Leonard']\n",
      "Percent Correct:  40 %\n",
      "Picks:   ['Irving', 'Leonard', 'Horford', 'Tatum', 'D_Green']\n",
      "Optimal: ['Siakam', 'Leonard', 'Ibaka', 'Irving', 'Smart']\n",
      "Delta:   ['Siakam', 'Smart', 'Ibaka']\n",
      "Percent Correct:  40 %\n",
      "Picks:   ['Harden', 'Leonard', 'Lowry', 'E_Gordon', 'Capela']\n",
      "Optimal: ['Harden', 'Leonard', 'Siakam', 'Ibaka']\n",
      "Delta:   ['Siakam', 'Ibaka']\n",
      "Percent Correct:  60 %\n",
      "Picks:   ['Lowry', 'Ibaka', 'Richardson', 'Winslow', 'D_Green']\n",
      "Optimal: ['Lowry', 'D_Green', 'Siakam', 'Winslow', 'Whiteside']\n",
      "Delta:   ['Siakam', 'Whiteside']\n",
      "Percent Correct:  60 %\n",
      "Picks:   ['Love', 'Lowry', 'Leonard', 'Ibaka']\n",
      "Optimal: ['Leonard', 'Osman', 'Lowry', 'Zizic', 'D_Green']\n",
      "Delta:   ['Osman', 'D_Green', 'Zizic']\n",
      "Percent Correct:  40 %\n",
      "Picks:   ['Walker', 'Leonard', 'Lamb', 'Ibaka', 'D_Green']\n",
      "Optimal: ['Leonard', 'Siakam', 'Walker', 'Ibaka']\n",
      "Delta:   ['Siakam']\n",
      "Percent Correct:  80 %\n",
      "Picks:   ['Irving', 'Hardaway', 'Morris', 'Tatum', 'Kanter']\n",
      "Optimal: ['Hardaway', 'Tatum', 'Morris', 'Kanter', 'Irving']\n",
      "Delta:   []\n",
      "Percent Correct:  100 %\n",
      "Picks:   ['Barnes', 'Barnes', 'Smith', 'Hardaway', 'Kanter']\n",
      "Optimal: ['Smith', 'Hardaway', 'Barnes', 'Barnes', 'Kanter']\n",
      "Delta:   []\n",
      "Percent Correct:  100 %\n",
      "Picks:   ['Davis', 'Hardaway', 'Mirotic', 'Moore', 'Vonleh']\n",
      "Optimal: ['Davis', 'Hardaway', 'Mudiay', 'Mirotic', 'W_Johnson']\n",
      "Delta:   ['Mudiay', 'W_Johnson']\n",
      "Percent Correct:  60 %\n",
      "Picks:   ['Irving', 'Hardaway', 'Tatum', 'Horford', 'Vonleh']\n",
      "Optimal: ['Hardaway', 'Morris', 'Irving', 'Horford', 'Vonleh']\n",
      "Delta:   ['Morris']\n",
      "Percent Correct:  80 %\n",
      "Picks:   ['Davis', 'Hardaway', 'Mirotic', 'Moore', 'Hezonja']\n",
      "Optimal: ['Davis', 'Mudiay', 'Mirotic', 'Holiday', 'Vonleh']\n",
      "Delta:   ['Holiday', 'Vonleh', 'Mudiay']\n",
      "Percent Correct:  40 %\n",
      "Picks:   ['Hardaway', 'Conley', 'Gasol', 'Anderson', 'Hezonja']\n",
      "Optimal: ['Gasol', 'Hardaway', 'Conley', 'Vonleh', 'Anderson']\n",
      "Delta:   ['Vonleh']\n",
      "Percent Correct:  80 %\n",
      "Picks:   ['Irving', 'Hardaway', 'Horford', 'Tatum', 'Hezonja']\n",
      "Optimal: ['Hardaway', 'Irving', 'Tatum', 'Horford', 'Vonleh']\n",
      "Delta:   ['Vonleh']\n",
      "Percent Correct:  80 %\n",
      "Picks:   ['Hardaway', 'Richardson', 'Whiteside', 'J_Johnson', 'Hezonja']\n",
      "Optimal: ['Hardaway', 'Richardson', 'J_Johnson', 'Winslow']\n",
      "Delta:   ['Winslow']\n",
      "Percent Correct:  80 %\n",
      "Picks:   ['Barnes', 'Barnes', 'Hardaway', 'Smith', 'Kanter']\n",
      "Optimal: ['Matthews', 'Barnes', 'Smith', 'Hardaway', 'Kanter']\n",
      "Delta:   ['Matthews']\n",
      "Percent Correct:  80 %\n",
      "Picks:   ['Irving', 'Tatum', 'Morris', 'Kanter']\n",
      "Optimal: ['Irving', 'Morris', 'Tatum', 'Kanter']\n",
      "Delta:   []\n",
      "Percent Correct:  100 %\n",
      "Picks:   ['Hood', 'Cauley-stein', 'Fox', 'Bjelica', 'Osman']\n",
      "Optimal: ['Fox', 'Hield', 'Bjelica', 'Osman', 'Zizic']\n",
      "Delta:   ['Hield', 'Zizic']\n",
      "Percent Correct:  60 %\n",
      "Picks:   ['Richardson', 'J_Johnson', 'Hood', 'Whiteside', 'Osman']\n",
      "Optimal: ['Osman', 'Winslow', 'Hood', 'Whiteside', 'J_Johnson']\n",
      "Delta:   ['Winslow']\n",
      "Percent Correct:  80 %\n",
      "Picks:   ['Irving', 'Barnes', 'Barnes', 'Horford', 'Smart']\n",
      "Optimal: ['Barnes', 'Barnes', 'Smart', 'Irving', 'Jordan']\n",
      "Delta:   ['Jordan']\n",
      "Percent Correct:  80 %\n",
      "Picks:   ['Davis', 'Irving', 'Holiday', 'Mirotic', 'Morris']\n",
      "Optimal: ['Mirotic', 'Irving', 'Davis', 'Morris', 'Holiday']\n",
      "Delta:   []\n",
      "Percent Correct:  100 %\n",
      "Picks:   ['Harden', 'Irving', 'E_Gordon', 'Tatum', 'Capela']\n",
      "Optimal: ['Harden', 'Irving', 'Morris', 'E_Gordon', 'Capela']\n",
      "Delta:   ['Morris']\n",
      "Percent Correct:  80 %\n",
      "Picks:   ['Irving', 'Tatum', 'Gasol', 'Morris', 'Temple']\n",
      "Optimal: ['Irving', 'Morris', 'Horford', 'Anderson', 'Temple']\n",
      "Delta:   ['Horford', 'Anderson']\n",
      "Percent Correct:  60 %\n",
      "Picks:   ['Derozan', 'Irving', 'Aldridge', 'Aldridge', 'Smart']\n",
      "Optimal: ['Aldridge', 'Aldridge', 'White', 'Horford', 'Smart']\n",
      "Delta:   ['White', 'Horford']\n",
      "Percent Correct:  60 %\n",
      "Picks:   ['Irving', 'Tatum', 'Richardson', 'Horford', 'Mcgruder']\n",
      "Optimal: ['Irving', 'Richardson', 'Smart', 'Morris', 'Whiteside']\n",
      "Delta:   ['Morris', 'Whiteside', 'Smart']\n",
      "Percent Correct:  40 %\n",
      "Picks:   ['Irving', 'Gasol', 'Tatum', 'Morris', 'Temple']\n",
      "Optimal: ['Irving', 'Smart', 'Horford']\n",
      "Delta:   ['Smart', 'Horford']\n",
      "Percent Correct:  60 %\n",
      "Picks:   ['Irving', 'Tatum', 'Winslow', 'Whiteside', 'Smart']\n",
      "Optimal: ['Irving', 'Tatum', 'Morris', 'Whiteside', 'Mcgruder']\n",
      "Delta:   ['Morris', 'Mcgruder']\n",
      "Percent Correct:  60 %\n",
      "Picks:   ['James', 'Irving', 'Kuzma', 'Horford', 'Morris']\n",
      "Optimal: ['James', 'Kuzma', 'Irving', 'Tatum', 'Horford']\n",
      "Delta:   ['Tatum']\n",
      "Percent Correct:  80 %\n",
      "Picks:   ['Harden', 'Irving', 'E_Gordon', 'Morris', 'Horford']\n",
      "Optimal: ['Harden', 'E_Gordon', 'Irving', 'Horford', 'Tatum']\n",
      "Delta:   ['Tatum']\n",
      "Percent Correct:  80 %\n",
      "Picks:   ['Morris', 'Tatum', 'Horford', 'Hield', 'Fox']\n",
      "Optimal: ['Hield', 'Tatum', 'Morris', 'Horford', 'Fox']\n",
      "Delta:   []\n",
      "Percent Correct:  100 %\n",
      "Picks:   ['Irving', 'Tatum', 'Hield', 'Morris', 'Cauley-stein']\n",
      "Optimal: ['Hield', 'Irving', 'Morris', 'Tatum', 'Cauley-stein']\n",
      "Delta:   []\n",
      "Percent Correct:  100 %\n",
      "Picks:   ['Irving', 'Whiteside', 'Tatum', 'Smart', 'Winslow']\n",
      "Optimal: ['Irving', 'Horford', 'Tatum', 'Winslow', 'Mcgruder']\n",
      "Delta:   ['Horford', 'Mcgruder']\n",
      "Percent Correct:  60 %\n",
      "Picks:   ['Davis', 'Holiday', 'Richardson', 'Mirotic', 'J_Johnson']\n",
      "Optimal: ['Davis', 'Richardson', 'Holiday', 'Mirotic', 'J_Johnson']\n",
      "Delta:   []\n",
      "Percent Correct:  100 %\n",
      "Picks:   ['Conley', 'Gasol', 'Richardson', 'Winslow', 'Temple']\n",
      "Optimal: ['Conley', 'Richardson', 'Temple', 'Gasol', 'Winslow']\n",
      "Delta:   []\n",
      "Percent Correct:  100 %\n",
      "Picks:   ['Davis', 'Holiday', 'Winslow', 'Richardson', 'Moore']\n",
      "Optimal: ['Davis', 'Holiday', 'Richardson', 'Moore', 'Winslow']\n",
      "Delta:   []\n",
      "Percent Correct:  100 %\n",
      "Picks:   ['Conley', 'Gasol', 'Richardson', 'Winslow', 'Temple']\n",
      "Optimal: ['Winslow', 'Conley', 'Gasol', 'Richardson', 'Temple']\n",
      "Delta:   []\n",
      "Percent Correct:  100 %\n",
      "Picks:   ['Richardson', 'Hield', 'Fox', 'Winslow', 'Cauley-stein']\n",
      "Optimal: ['Hield', 'Richardson', 'Whiteside', 'Fox', 'Winslow']\n",
      "Delta:   ['Whiteside']\n",
      "Percent Correct:  80 %\n",
      "Picks:   ['Booker', 'Love', 'T.johnson', 'Oubre', 'Zizic']\n",
      "Optimal: ['Booker', 'Oubre', 'Osman', 'Zizic', 'Knight']\n",
      "Delta:   ['Osman', 'Knight']\n",
      "Percent Correct:  60 %\n",
      "Picks:   ['Love', 'Richardson', 'Whiteside', 'Knight', 'Mcgruder']\n",
      "Optimal: ['Richardson', 'Love', 'Knight', 'Mcgruder', 'Whiteside']\n",
      "Delta:   []\n",
      "Percent Correct:  100 %\n",
      "Picks:   ['Hield', 'Richardson', 'Whiteside', 'Winslow', 'Fox']\n",
      "Optimal: ['Richardson', 'Hield', 'Cauley-stein', 'Bjelica']\n",
      "Delta:   ['Bjelica', 'Cauley-stein']\n",
      "Percent Correct:  60 %\n",
      "Picks:   ['James', 'Richardson', 'Winslow', 'Whiteside', 'Ball']\n",
      "Optimal: ['James', 'Richardson', 'Kuzma', 'Whiteside', 'Ball']\n",
      "Delta:   ['Kuzma']\n",
      "Percent Correct:  80 %\n",
      "Picks:   ['Damian lillard', 'Jusuf nurkic', 'Cj mccollum', 'Andrew wiggins', 'Dario saric']\n",
      "Optimal: ['Andrew wiggins', 'Cj mccollum', 'Damian lillard', 'Jusuf nurkic', 'Dario saric']\n",
      "Delta:   []\n",
      "Percent Correct:  100 %\n",
      "Picks:   ['Damian lillard', 'Jusuf nurkic', 'Cj mccollum', 'Paul millsap']\n",
      "Optimal: ['Cj mccollum', 'Paul millsap', 'Al-farouq aminu', 'Damian lillard', 'Nikola jokic']\n",
      "Delta:   ['Al-farouq aminu', 'Nikola jokic']\n",
      "Percent Correct:  60 %\n",
      "Picks:   ['Damian lillard', 'Jusuf nurkic', 'Cj mccollum', 'Andrew wiggins', 'Dario saric']\n",
      "Optimal: ['Damian lillard', 'Jusuf nurkic', 'Cj mccollum', 'Andrew wiggins', 'Dario saric']\n",
      "Delta:   []\n",
      "Percent Correct:  100 %\n",
      "Picks:   ['Damian lillard', 'Jusuf nurkic', 'Joe ingles', 'Cj mccollum', 'Derrick favors']\n",
      "Optimal: ['Ricky rubio', 'Jusuf nurkic', 'Joe ingles', 'Cj mccollum', 'Derrick favors']\n",
      "Delta:   ['Ricky rubio']\n",
      "Percent Correct:  80 %\n",
      "Picks:   ['Damian lillard', 'Jusuf nurkic', 'Donovan mitchell', 'Al-farouq aminu', 'Derrick favors']\n",
      "Optimal: ['Damian lillard', 'Jusuf nurkic', 'Donovan mitchell', 'Al-farouq aminu', 'Derrick favors']\n",
      "Delta:   []\n",
      "Percent Correct:  100 %\n",
      "Picks:   ['Damian lillard', 'Jusuf nurkic', 'Paul george', 'Cj mccollum', 'Jerami grant']\n",
      "Optimal: ['Paul george', 'Russell westbrook', 'Jusuf nurkic', 'Al-farouq aminu', 'Cj mccollum']\n",
      "Delta:   ['Al-farouq aminu', 'Russell westbrook']\n",
      "Percent Correct:  60 %\n",
      "Picks:   ['Damian lillard', 'Jusuf nurkic', 'Garry harris', 'Will barton', 'Paul millsap']\n",
      "Optimal: ['Nikola jokic', 'Damian lillard', 'Cj mccollum', 'Paul millsap', 'Al-farouq aminu']\n",
      "Delta:   ['Al-farouq aminu', 'Cj mccollum', 'Nikola jokic']\n",
      "Percent Correct:  40 %\n",
      "Picks:   ['Damian lillard', 'Jusuf nurkic', 'Donovan mitchell', 'Maurice harkless', 'Derrick favors']\n",
      "Optimal: ['Donovan mitchell', 'Damian lillard', 'Jusuf nurkic', 'Derrick favors', 'Al-farouq aminu']\n",
      "Delta:   ['Al-farouq aminu']\n",
      "Percent Correct:  80 %\n"
     ]
    },
    {
     "name": "stdout",
     "output_type": "stream",
     "text": [
      "Picks:   ['Damian lillard', 'Jusuf nurkic', 'Paul george', 'Cj mccollum', 'Jerami grant']\n",
      "Optimal: ['Cj mccollum', 'Paul george', 'Damian lillard', 'Jusuf nurkic', 'Jerami grant']\n",
      "Delta:   []\n",
      "Percent Correct:  100 %\n",
      "Picks:   ['Damian lillard', 'Jusuf nurkic', 'Cj mccollum', 'Joe ingles', 'Derrick favors']\n",
      "Optimal: ['Damian lillard', 'Jusuf nurkic', 'Cj mccollum', 'Joe ingles', 'Derrick favors']\n",
      "Delta:   []\n",
      "Percent Correct:  100 %\n",
      "Picks:   ['Damian lillard', 'Jusuf nurkic', 'Paul george', 'Cj mccollum']\n",
      "Optimal: ['Paul george', 'Damian lillard', 'Jusuf nurkic', 'Al-farouq aminu', 'Terrance ferguson']\n",
      "Delta:   ['Al-farouq aminu', 'Terrance ferguson']\n",
      "Percent Correct:  60 %\n",
      "Picks:   ['Damian lillard', 'Jusuf nurkic', 'Paul george', 'Cj mccollum', 'Jerami grant']\n",
      "Optimal: ['Damian lillard', 'Jusuf nurkic', 'Paul george', 'Cj mccollum', 'Jerami grant']\n",
      "Delta:   []\n",
      "Percent Correct:  100 %\n",
      "Picks:   ['Damian lillard', 'Jusuf nurkic', 'Andrew wiggins', 'Dario saric', 'Jerryd bayless']\n",
      "Optimal: ['Andrew wiggins', 'Damian lillard', 'Jusuf nurkic', 'Dario saric', 'Jerryd bayless']\n",
      "Delta:   []\n",
      "Percent Correct:  100 %\n",
      "Picks:   ['Damian lillard', 'Jusuf nurkic', 'Garry harris', 'Will barton', 'Paul millsap']\n",
      "Optimal: ['Jamal murray', 'Paul millsap', 'Nikola jokic', 'Al-farouq aminu']\n",
      "Delta:   ['Nikola jokic', 'Al-farouq aminu', 'Jamal murray']\n",
      "Percent Correct:  40 %\n",
      "Picks:   ['Paul george', 'Russell westbrook', 'Karl-anthony towns', 'Andrew wiggins', 'Jerryd bayless']\n",
      "Optimal: ['Paul george', 'Andrew wiggins', 'Russell westbrook', 'Karl-anthony towns', 'Jerryd bayless']\n",
      "Delta:   []\n",
      "Percent Correct:  100 %\n",
      "Picks:   ['Russell westbrook', 'Paul george', 'Karl-anthony towns', 'Andrew wiggins', 'Terrance ferguson']\n",
      "Optimal: ['Andrew wiggins', 'Paul george', 'Russell westbrook', 'Karl-anthony towns', 'Terrance ferguson']\n",
      "Delta:   []\n",
      "Percent Correct:  100 %\n",
      "Picks:   ['Donovan mitchell', 'Karl-anthony towns', 'Andrew wiggins', 'Ricky rubio', 'Dario saric']\n",
      "Optimal: ['Karl-anthony towns', 'Donovan mitchell', 'Andrew wiggins', 'Derrick favors', 'Ricky rubio']\n",
      "Delta:   ['Derrick favors']\n",
      "Percent Correct:  80 %\n",
      "Picks:   ['Donovan mitchell', 'Andrew wiggins', 'Joe ingles', 'Karl-anthony towns', 'Ricky rubio']\n",
      "Optimal: ['Andrew wiggins', 'Donovan mitchell', 'Karl-anthony towns', 'Ricky rubio', 'Joe ingles']\n",
      "Delta:   []\n",
      "Percent Correct:  100 %\n",
      "Picks:   ['Nikola jokic', 'Garry harris', 'Andrew wiggins', 'Will barton']\n",
      "Optimal: ['Karl-anthony towns', 'Garry harris', 'Will barton', 'Andrew wiggins']\n",
      "Delta:   ['Karl-anthony towns']\n",
      "Percent Correct:  80 %\n",
      "Picks:   ['Paul george', 'Russell westbrook', 'Karl-anthony towns', 'Andrew wiggins', 'Terrance ferguson']\n",
      "Optimal: ['Russell westbrook', 'Karl-anthony towns', 'Paul george', 'Andrew wiggins', 'Terrance ferguson']\n",
      "Delta:   []\n",
      "Percent Correct:  100 %\n",
      "Picks:   ['Donovan mitchell', 'Karl-anthony towns', 'Andrew wiggins', 'Ricky rubio', 'Derrick favors']\n",
      "Optimal: ['Karl-anthony towns', 'Donovan mitchell', 'Derrick favors', 'Andrew wiggins', 'Tyus jones']\n",
      "Delta:   ['Tyus jones']\n",
      "Percent Correct:  80 %\n",
      "Picks:   ['Paul george', 'Russell westbrook', 'Andrew wiggins', 'Steven adams']\n",
      "Optimal: ['Paul george', 'Dario saric', 'Russell westbrook', 'Terrance ferguson']\n",
      "Delta:   ['Dario saric', 'Terrance ferguson']\n",
      "Percent Correct:  60 %\n",
      "Picks:   ['Garry harris', 'Nikola jokic', 'Will barton', 'Dario saric', 'Tyus jones']\n",
      "Optimal: ['Karl-anthony towns', 'Jamal murray', 'Paul millsap', 'Dario saric', 'Garry harris']\n",
      "Delta:   ['Karl-anthony towns', 'Jamal murray', 'Paul millsap']\n",
      "Percent Correct:  40 %\n",
      "Picks:   ['Donovan mitchell', 'Joe ingles', 'Nikola jokic', 'Ricky rubio', 'Paul millsap']\n",
      "Optimal: ['Jamal murray', 'Donovan mitchell', 'Paul millsap', 'Derrick favors', 'Rudy gobert']\n",
      "Delta:   ['Rudy gobert', 'Derrick favors', 'Jamal murray']\n",
      "Percent Correct:  40 %\n",
      "Picks:   ['Paul george', 'Russell westbrook', 'Donovan mitchell', 'Joe ingles', 'Steven adams']\n",
      "Optimal: ['Paul george', 'Donovan mitchell', 'Steven adams', 'Jerami grant', 'Ricky rubio']\n",
      "Delta:   ['Jerami grant', 'Ricky rubio']\n",
      "Percent Correct:  60 %\n",
      "Picks:   ['Paul george', 'Russell westbrook', 'Joe ingles', 'Donovan mitchell', 'Rudy gobert']\n",
      "Optimal: ['Paul george', 'Donovan mitchell', 'Rudy gobert', 'Joe ingles', 'Russell westbrook']\n",
      "Delta:   []\n",
      "Percent Correct:  100 %\n",
      "Picks:   ['Donovan mitchell', 'Jamal murray', 'Nikola jokic', 'Will barton', 'Derrick favors']\n",
      "Optimal: ['Donovan mitchell', 'Nikola jokic', 'Will barton', 'Ricky rubio', 'Paul millsap']\n",
      "Delta:   ['Ricky rubio', 'Paul millsap']\n",
      "Percent Correct:  60 %\n",
      "Picks:   ['Russell westbrook', 'Paul george', 'Donovan mitchell', 'Steven adams', 'Derrick favors']\n",
      "Optimal: ['Russell westbrook', 'Paul george', 'Donovan mitchell', 'Rudy gobert', 'Derrick favors']\n",
      "Delta:   ['Rudy gobert']\n",
      "Percent Correct:  80 %\n",
      "Picks:   ['Donovan mitchell', 'Jamal murray', 'Joe ingles', 'Nikola jokic', 'Paul millsap']\n",
      "Optimal: ['Donovan mitchell', 'Jamal murray', 'Will barton', 'Joe ingles', 'Nikola jokic']\n",
      "Delta:   ['Will barton']\n",
      "Percent Correct:  80 %\n",
      "Picks:   ['Paul george', 'Russell westbrook', 'Donovan mitchell', 'Joe ingles', 'Steven adams']\n",
      "Optimal: ['Donovan mitchell', 'Russell westbrook', 'Rudy gobert', 'Paul george', 'Jerami grant']\n",
      "Delta:   ['Jerami grant', 'Rudy gobert']\n",
      "Percent Correct:  60 %\n",
      "Picks:   ['Russell westbrook', 'Paul george', 'Garry harris', 'Nikola jokic', 'Paul millsap']\n",
      "Optimal: ['Nikola jokic', 'Paul george', 'Jamal murray', 'Garry harris', 'Jerami grant']\n",
      "Delta:   ['Jerami grant', 'Jamal murray']\n",
      "Percent Correct:  60 %\n",
      "Picks:   ['Paul george', 'Nikola jokic', 'Russell westbrook', 'Garry harris', 'Will barton']\n",
      "Optimal: ['Jamal murray', 'Paul george', 'Nikola jokic', 'Paul millsap', 'Terrance ferguson']\n",
      "Delta:   ['Jamal murray', 'Terrance ferguson', 'Paul millsap']\n",
      "Percent Correct:  40 %\n",
      "Picks:   ['Derozan', 'Holiday', 'Aldridge', 'Aldridge', 'Moore']\n",
      "Optimal: ['Holiday', 'Derozan', 'Mirotic', 'Aldridge', 'Moore']\n",
      "Delta:   ['Mirotic']\n",
      "Percent Correct:  80 %\n",
      "Picks:   ['Derozan', 'Aldridge', 'Aldridge', 'Hield', 'Fox']\n",
      "Optimal: ['Fox', 'Derozan', 'Hield', 'Gay', 'Bjelica']\n",
      "Delta:   ['Bjelica', 'Gay']\n",
      "Percent Correct:  60 %\n",
      "Picks:   ['Davis', 'Aldridge', 'Aldridge', 'Holiday', 'Moore']\n",
      "Optimal: ['Davis', 'Moore', 'Holiday', 'Gay', 'Aldridge']\n",
      "Delta:   ['Gay']\n",
      "Percent Correct:  80 %\n",
      "Picks:   ['Aldridge', 'Aldridge', 'Derozan', 'Conley', 'Temple']\n",
      "Optimal: ['Conley', 'Derozan', 'Gay', 'Aldridge', 'Temple']\n",
      "Delta:   ['Gay']\n",
      "Percent Correct:  80 %\n",
      "Picks:   ['James', 'Derozan', 'Aldridge', 'Aldridge', 'Ball']\n",
      "Optimal: ['James', 'Gay', 'Derozan', 'Kuzma', 'Ball']\n",
      "Delta:   ['Kuzma', 'Gay']\n",
      "Percent Correct:  60 %\n",
      "Picks:   ['Aldridge', 'Aldridge', 'Derozan', 'Conley', 'Temple']\n",
      "Optimal: ['Conley', 'Aldridge', 'Aldridge', 'Derozan', 'Temple']\n",
      "Delta:   []\n",
      "Percent Correct:  100 %\n",
      "Picks:   ['Derozan', 'Aldridge', 'Aldridge', 'Fox', 'Hield']\n",
      "Optimal: ['Derozan', 'Hield', 'Aldridge', 'Aldridge', 'Fox']\n",
      "Delta:   []\n",
      "Percent Correct:  100 %\n",
      "Picks:   ['Derozan', 'Aldridge', 'Aldridge', 'Hield', 'Fox']\n",
      "Optimal: ['Hield', 'Aldridge', 'Aldridge', 'Cauley-stein', 'Fox']\n",
      "Delta:   ['Cauley-stein']\n",
      "Percent Correct:  80 %\n",
      "Picks:   ['Conley', 'Gasol', 'Hield', 'Anderson', 'Bjelica']\n",
      "Optimal: ['Fox', 'Gasol', 'Hield', 'Shumpert', 'Anderson']\n",
      "Delta:   ['Fox', 'Shumpert']\n",
      "Percent Correct:  60 %\n",
      "Picks:   ['Davis', 'Holiday', 'Conley', 'Mirotic', 'Anderson']\n",
      "Optimal: ['Davis', 'Anderson', 'Anderson', 'Holiday', 'Conley']\n",
      "Delta:   []\n",
      "Percent Correct:  100 %\n",
      "Picks:   ['Conley', 'Gasol', 'Hield', 'Bjelica', 'Bjelica']\n",
      "Optimal: ['Hield', 'Conley', 'Gasol', 'Bjelica', 'Bjelica']\n",
      "Delta:   []\n",
      "Percent Correct:  100 %\n",
      "Picks:   ['James', 'Gasol', 'Conley', 'Kuzma', 'Ingram']\n",
      "Optimal: ['James', 'Conley', 'Ingram', 'Gasol', 'Kuzma']\n",
      "Delta:   []\n",
      "Percent Correct:  100 %\n",
      "Picks:   ['James', 'Barnes', 'Barnes', 'Smith']\n",
      "Optimal: ['James', 'Matthews', 'Barnes', 'Ball', 'Jordan']\n",
      "Delta:   ['Jordan', 'Ball', 'Matthews']\n",
      "Percent Correct:  40 %\n",
      "Picks:   ['James', 'Kuzma', 'Ingram', 'Fox', 'Cauley-stein']\n",
      "Optimal: ['James', 'Fox', 'Kuzma', 'Ingram', 'Cauley-stein']\n",
      "Delta:   []\n",
      "Percent Correct:  100 %\n",
      "Picks:   ['James', 'Barnes', 'Barnes', 'Smith']\n",
      "Optimal: ['Barnes', 'Barnes', 'James', 'Smith']\n",
      "Delta:   []\n",
      "Percent Correct:  100 %\n",
      "Picks:   ['Kuzma', 'Ingram', 'Fox', 'Cauley-stein', 'Hield']\n",
      "Optimal: ['Kuzma', 'Shumpert', 'Ball', 'Cauley-stein', 'Hield']\n",
      "Delta:   ['Ball', 'Shumpert']\n",
      "Percent Correct:  60 %\n",
      "Picks:   ['Bjelica', 'Bjelica', 'Hield', 'Ball']\n",
      "Optimal: ['Hield', 'Fox', 'Kuzma', 'Ingram', 'Cauley-stein']\n",
      "Delta:   ['Kuzma', 'Fox', 'Ingram', 'Cauley-stein']\n",
      "Percent Correct:  20 %\n",
      "Picks:   ['Booker', 'Oubre', 'T.johnson', 'Cauley-stein', 'Bjelica']\n",
      "Optimal: ['Booker', 'Fox', 'Cauley-stein', 'Bjelica', 'Oubre']\n",
      "Delta:   ['Fox']\n",
      "Percent Correct:  80 %\n",
      "Picks:   ['T.harris', 'Gallinari', 'Beverley', 'Fox', 'Cauley-stein']\n",
      "Optimal: ['T.harris', 'Fox', 'Bjelica', 'Hield']\n",
      "Delta:   ['Bjelica', 'Hield']\n",
      "Percent Correct:  60 %\n"
     ]
    },
    {
     "name": "stdout",
     "output_type": "stream",
     "text": [
      "Picks:   ['Davis', 'Mirotic', 'Hield', 'Moore', 'Bjelica']\n",
      "Optimal: ['Mirotic', 'Davis', 'Hield', 'Fox', 'Shumpert']\n",
      "Delta:   ['Fox', 'Shumpert']\n",
      "Percent Correct:  60 %\n",
      "Picks:   ['Harden', 'E_Gordon', 'Fox', 'Capela', 'Bjelica']\n",
      "Optimal: ['Harden', 'Fox', 'Capela', 'E_Gordon', 'Shumpert']\n",
      "Delta:   ['Shumpert']\n",
      "Percent Correct:  80 %\n",
      "Picks:   ['Davis', 'Holiday', 'Moore', 'Bjelica', 'Bjelica']\n",
      "Optimal: ['Hield', 'Davis', 'Fox', 'Shumpert']\n",
      "Delta:   ['Fox', 'Hield', 'Shumpert']\n",
      "Percent Correct:  40 %\n",
      "Picks:   ['Conley', 'Gasol', 'Hield', 'Bjelica', 'Bjelica']\n",
      "Optimal: ['Hield', 'Bjelica', 'Bjelica', 'Conley', 'Gasol']\n",
      "Delta:   []\n",
      "Percent Correct:  100 %\n"
     ]
    }
   ],
   "source": [
    "percents = []\n",
    "for game in master_df['Game_Key'].unique():\n",
    "    tmp_df = master_df[master_df['Game_Key']==game]\n",
    "    x = find_percent(tmp_df)\n",
    "    percents.append(x)"
   ]
  },
  {
   "cell_type": "code",
   "execution_count": 138,
   "metadata": {
    "ExecuteTime": {
     "end_time": "2020-11-29T02:33:35.525021Z",
     "start_time": "2020-11-29T02:33:35.522047Z"
    }
   },
   "outputs": [],
   "source": [
    "percents_df = pd.DataFrame(percents,columns=['Percent_Correct'])"
   ]
  },
  {
   "cell_type": "code",
   "execution_count": 139,
   "metadata": {
    "ExecuteTime": {
     "end_time": "2020-11-29T02:33:36.084944Z",
     "start_time": "2020-11-29T02:33:36.079604Z"
    }
   },
   "outputs": [
    {
     "data": {
      "text/html": [
       "<div>\n",
       "<style scoped>\n",
       "    .dataframe tbody tr th:only-of-type {\n",
       "        vertical-align: middle;\n",
       "    }\n",
       "\n",
       "    .dataframe tbody tr th {\n",
       "        vertical-align: top;\n",
       "    }\n",
       "\n",
       "    .dataframe thead th {\n",
       "        text-align: right;\n",
       "    }\n",
       "</style>\n",
       "<table border=\"1\" class=\"dataframe\">\n",
       "  <thead>\n",
       "    <tr style=\"text-align: right;\">\n",
       "      <th></th>\n",
       "      <th>Percent_Correct</th>\n",
       "    </tr>\n",
       "  </thead>\n",
       "  <tbody>\n",
       "    <tr>\n",
       "      <th>0</th>\n",
       "      <td>80</td>\n",
       "    </tr>\n",
       "    <tr>\n",
       "      <th>1</th>\n",
       "      <td>60</td>\n",
       "    </tr>\n",
       "  </tbody>\n",
       "</table>\n",
       "</div>"
      ],
      "text/plain": [
       "   Percent_Correct\n",
       "0               80\n",
       "1               60"
      ]
     },
     "execution_count": 139,
     "metadata": {},
     "output_type": "execute_result"
    }
   ],
   "source": [
    "percents_df.head(2)"
   ]
  },
  {
   "cell_type": "code",
   "execution_count": 143,
   "metadata": {
    "ExecuteTime": {
     "end_time": "2020-11-29T02:34:39.134780Z",
     "start_time": "2020-11-29T02:34:39.128919Z"
    }
   },
   "outputs": [],
   "source": [
    "grouped_percents = percents_df.groupby('Percent_Correct').size().reset_index(name='Count').sort_values(by='Count',ascending='False')"
   ]
  },
  {
   "cell_type": "code",
   "execution_count": 144,
   "metadata": {
    "ExecuteTime": {
     "end_time": "2020-11-29T02:34:41.429922Z",
     "start_time": "2020-11-29T02:34:41.424069Z"
    }
   },
   "outputs": [
    {
     "data": {
      "text/html": [
       "<div>\n",
       "<style scoped>\n",
       "    .dataframe tbody tr th:only-of-type {\n",
       "        vertical-align: middle;\n",
       "    }\n",
       "\n",
       "    .dataframe tbody tr th {\n",
       "        vertical-align: top;\n",
       "    }\n",
       "\n",
       "    .dataframe thead th {\n",
       "        text-align: right;\n",
       "    }\n",
       "</style>\n",
       "<table border=\"1\" class=\"dataframe\">\n",
       "  <thead>\n",
       "    <tr style=\"text-align: right;\">\n",
       "      <th></th>\n",
       "      <th>Percent_Correct</th>\n",
       "      <th>Count</th>\n",
       "    </tr>\n",
       "  </thead>\n",
       "  <tbody>\n",
       "    <tr>\n",
       "      <th>0</th>\n",
       "      <td>20</td>\n",
       "      <td>9</td>\n",
       "    </tr>\n",
       "    <tr>\n",
       "      <th>1</th>\n",
       "      <td>40</td>\n",
       "      <td>36</td>\n",
       "    </tr>\n",
       "    <tr>\n",
       "      <th>4</th>\n",
       "      <td>100</td>\n",
       "      <td>104</td>\n",
       "    </tr>\n",
       "    <tr>\n",
       "      <th>2</th>\n",
       "      <td>60</td>\n",
       "      <td>124</td>\n",
       "    </tr>\n",
       "    <tr>\n",
       "      <th>3</th>\n",
       "      <td>80</td>\n",
       "      <td>126</td>\n",
       "    </tr>\n",
       "  </tbody>\n",
       "</table>\n",
       "</div>"
      ],
      "text/plain": [
       "   Percent_Correct  Count\n",
       "0               20      9\n",
       "1               40     36\n",
       "4              100    104\n",
       "2               60    124\n",
       "3               80    126"
      ]
     },
     "execution_count": 144,
     "metadata": {},
     "output_type": "execute_result"
    }
   ],
   "source": [
    "grouped_percents"
   ]
  },
  {
   "cell_type": "code",
   "execution_count": 145,
   "metadata": {
    "ExecuteTime": {
     "end_time": "2020-11-29T02:35:02.751633Z",
     "start_time": "2020-11-29T02:35:02.748247Z"
    }
   },
   "outputs": [],
   "source": [
    "grouped_percents['Percent_Correct'] = grouped_percents['Percent_Correct'].astype(str) + \"%\""
   ]
  },
  {
   "cell_type": "code",
   "execution_count": 146,
   "metadata": {
    "ExecuteTime": {
     "end_time": "2020-11-29T02:35:07.619228Z",
     "start_time": "2020-11-29T02:35:07.612954Z"
    }
   },
   "outputs": [
    {
     "data": {
      "text/html": [
       "<div>\n",
       "<style scoped>\n",
       "    .dataframe tbody tr th:only-of-type {\n",
       "        vertical-align: middle;\n",
       "    }\n",
       "\n",
       "    .dataframe tbody tr th {\n",
       "        vertical-align: top;\n",
       "    }\n",
       "\n",
       "    .dataframe thead th {\n",
       "        text-align: right;\n",
       "    }\n",
       "</style>\n",
       "<table border=\"1\" class=\"dataframe\">\n",
       "  <thead>\n",
       "    <tr style=\"text-align: right;\">\n",
       "      <th></th>\n",
       "      <th>Percent_Correct</th>\n",
       "      <th>Count</th>\n",
       "    </tr>\n",
       "  </thead>\n",
       "  <tbody>\n",
       "    <tr>\n",
       "      <th>0</th>\n",
       "      <td>20%</td>\n",
       "      <td>9</td>\n",
       "    </tr>\n",
       "    <tr>\n",
       "      <th>1</th>\n",
       "      <td>40%</td>\n",
       "      <td>36</td>\n",
       "    </tr>\n",
       "    <tr>\n",
       "      <th>4</th>\n",
       "      <td>100%</td>\n",
       "      <td>104</td>\n",
       "    </tr>\n",
       "    <tr>\n",
       "      <th>2</th>\n",
       "      <td>60%</td>\n",
       "      <td>124</td>\n",
       "    </tr>\n",
       "    <tr>\n",
       "      <th>3</th>\n",
       "      <td>80%</td>\n",
       "      <td>126</td>\n",
       "    </tr>\n",
       "  </tbody>\n",
       "</table>\n",
       "</div>"
      ],
      "text/plain": [
       "  Percent_Correct  Count\n",
       "0             20%      9\n",
       "1             40%     36\n",
       "4            100%    104\n",
       "2             60%    124\n",
       "3             80%    126"
      ]
     },
     "execution_count": 146,
     "metadata": {},
     "output_type": "execute_result"
    }
   ],
   "source": [
    "grouped_percents"
   ]
  },
  {
   "cell_type": "code",
   "execution_count": 147,
   "metadata": {
    "ExecuteTime": {
     "end_time": "2020-11-29T02:36:06.649033Z",
     "start_time": "2020-11-29T02:36:06.644937Z"
    }
   },
   "outputs": [],
   "source": [
    "grouped_percents['Percent_of_Games'] = round((grouped_percents['Count']/grouped_percents['Count'].sum())*100,2)"
   ]
  },
  {
   "cell_type": "code",
   "execution_count": 148,
   "metadata": {
    "ExecuteTime": {
     "end_time": "2020-11-29T02:36:09.197104Z",
     "start_time": "2020-11-29T02:36:09.190095Z"
    }
   },
   "outputs": [
    {
     "data": {
      "text/html": [
       "<div>\n",
       "<style scoped>\n",
       "    .dataframe tbody tr th:only-of-type {\n",
       "        vertical-align: middle;\n",
       "    }\n",
       "\n",
       "    .dataframe tbody tr th {\n",
       "        vertical-align: top;\n",
       "    }\n",
       "\n",
       "    .dataframe thead th {\n",
       "        text-align: right;\n",
       "    }\n",
       "</style>\n",
       "<table border=\"1\" class=\"dataframe\">\n",
       "  <thead>\n",
       "    <tr style=\"text-align: right;\">\n",
       "      <th></th>\n",
       "      <th>Percent_Correct</th>\n",
       "      <th>Count</th>\n",
       "      <th>Percent_of_Games</th>\n",
       "    </tr>\n",
       "  </thead>\n",
       "  <tbody>\n",
       "    <tr>\n",
       "      <th>0</th>\n",
       "      <td>20%</td>\n",
       "      <td>9</td>\n",
       "      <td>2.26</td>\n",
       "    </tr>\n",
       "    <tr>\n",
       "      <th>1</th>\n",
       "      <td>40%</td>\n",
       "      <td>36</td>\n",
       "      <td>9.02</td>\n",
       "    </tr>\n",
       "    <tr>\n",
       "      <th>4</th>\n",
       "      <td>100%</td>\n",
       "      <td>104</td>\n",
       "      <td>26.07</td>\n",
       "    </tr>\n",
       "    <tr>\n",
       "      <th>2</th>\n",
       "      <td>60%</td>\n",
       "      <td>124</td>\n",
       "      <td>31.08</td>\n",
       "    </tr>\n",
       "    <tr>\n",
       "      <th>3</th>\n",
       "      <td>80%</td>\n",
       "      <td>126</td>\n",
       "      <td>31.58</td>\n",
       "    </tr>\n",
       "  </tbody>\n",
       "</table>\n",
       "</div>"
      ],
      "text/plain": [
       "  Percent_Correct  Count  Percent_of_Games\n",
       "0             20%      9              2.26\n",
       "1             40%     36              9.02\n",
       "4            100%    104             26.07\n",
       "2             60%    124             31.08\n",
       "3             80%    126             31.58"
      ]
     },
     "execution_count": 148,
     "metadata": {},
     "output_type": "execute_result"
    }
   ],
   "source": [
    "grouped_percents"
   ]
  },
  {
   "cell_type": "code",
   "execution_count": null,
   "metadata": {},
   "outputs": [],
   "source": []
  }
 ],
 "metadata": {
  "kernelspec": {
   "display_name": "Python [conda env:dask_pyarrow]",
   "language": "python",
   "name": "conda-env-dask_pyarrow-py"
  },
  "language_info": {
   "codemirror_mode": {
    "name": "ipython",
    "version": 3
   },
   "file_extension": ".py",
   "mimetype": "text/x-python",
   "name": "python",
   "nbconvert_exporter": "python",
   "pygments_lexer": "ipython3",
   "version": "3.7.9"
  },
  "toc": {
   "base_numbering": 1,
   "nav_menu": {},
   "number_sections": true,
   "sideBar": true,
   "skip_h1_title": false,
   "title_cell": "Table of Contents",
   "title_sidebar": "Contents",
   "toc_cell": false,
   "toc_position": {
    "height": "calc(100% - 180px)",
    "left": "10px",
    "top": "150px",
    "width": "243px"
   },
   "toc_section_display": true,
   "toc_window_display": true
  }
 },
 "nbformat": 4,
 "nbformat_minor": 4
}
